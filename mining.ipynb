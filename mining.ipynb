{
 "cells": [
  {
   "cell_type": "code",
   "execution_count": 49,
   "metadata": {
    "ExecuteTime": {
     "end_time": "2023-05-10T15:19:44.795710800Z",
     "start_time": "2023-05-10T15:19:44.782704800Z"
    }
   },
   "outputs": [],
   "source": [
    "import pandas as pd\n",
    "import numpy as np\n",
    "import seaborn as sns\n",
    "import sklearn as skl"
   ]
  },
  {
   "cell_type": "code",
   "execution_count": 50,
   "outputs": [],
   "source": [
    "df = pd.read_csv('Ames_Housing_Sales.csv')"
   ],
   "metadata": {
    "collapsed": false,
    "ExecuteTime": {
     "end_time": "2023-05-10T15:19:44.924269900Z",
     "start_time": "2023-05-10T15:19:44.785703600Z"
    }
   }
  },
  {
   "cell_type": "code",
   "execution_count": 51,
   "outputs": [
    {
     "data": {
      "text/plain": "    1stFlrSF  2ndFlrSF  3SsnPorch Alley  BedroomAbvGr BldgType BsmtCond   \n0      856.0     854.0        0.0   NaN             3     1Fam       TA  \\\n1     1262.0       0.0        0.0   NaN             3     1Fam       TA   \n2      920.0     866.0        0.0   NaN             3     1Fam       TA   \n3      961.0     756.0        0.0   NaN             3     1Fam       Gd   \n4     1145.0    1053.0        0.0   NaN             4     1Fam       TA   \n5      796.0     566.0      320.0   NaN             1     1Fam       TA   \n6     1694.0       0.0        0.0   NaN             3     1Fam       TA   \n7     1107.0     983.0        0.0   NaN             3     1Fam       TA   \n8     1022.0     752.0        0.0   NaN             2     1Fam      NaN   \n9     1077.0       0.0        0.0   NaN             2   2fmCon       TA   \n10    1040.0       0.0        0.0   NaN             3     1Fam       TA   \n11    1182.0    1142.0        0.0   NaN             4     1Fam       TA   \n12     912.0       0.0        0.0   NaN             2     1Fam       TA   \n13    1494.0       0.0        0.0   NaN             3     1Fam      NaN   \n14    1253.0       0.0        0.0   NaN             2     1Fam       TA   \n15     854.0       0.0        0.0   NaN             2     1Fam      NaN   \n16    1004.0       0.0        0.0   NaN             2     1Fam       TA   \n17    1296.0       0.0        0.0   NaN             2   Duplex      NaN   \n18    1114.0       0.0        0.0   NaN             3     1Fam       TA   \n19    1339.0       0.0        0.0   NaN             3     1Fam       TA   \n\n   BsmtExposure  BsmtFinSF1  BsmtFinSF2  ... ScreenPorch Street  TotRmsAbvGrd   \n0            No       706.0         0.0  ...         0.0   Pave             8  \\\n1            Gd       978.0         0.0  ...         0.0   Pave             6   \n2            Mn       486.0         0.0  ...         0.0   Pave             6   \n3            No       216.0         0.0  ...         0.0   Pave             7   \n4            Av       655.0         0.0  ...         0.0   Pave             9   \n5            No       732.0         0.0  ...         0.0   Pave             5   \n6            Av      1369.0         0.0  ...         0.0   Pave             7   \n7            Mn       859.0        32.0  ...         0.0   Pave             7   \n8           NaN         0.0         0.0  ...         0.0   Pave             8   \n9            No       851.0         0.0  ...         0.0   Pave             5   \n10           No       906.0         0.0  ...         0.0   Pave             5   \n11           No       998.0         0.0  ...         0.0   Pave            11   \n12           No       737.0         0.0  ...       176.0   Pave             4   \n13          NaN         0.0         0.0  ...         0.0   Pave             7   \n14           No       733.0         0.0  ...         0.0   Pave             5   \n15          NaN         0.0         0.0  ...         0.0   Pave             5   \n16           No       578.0         0.0  ...         0.0   Pave             5   \n17          NaN         0.0         0.0  ...         0.0   Pave             6   \n18           No       646.0         0.0  ...         0.0   Pave             6   \n19           No       504.0         0.0  ...         0.0   Pave             6   \n\n    TotalBsmtSF Utilities  WoodDeckSF YearBuilt YearRemodAdd YrSold SalePrice  \n0         856.0    AllPub         0.0      2003         2003   2008  208500.0  \n1        1262.0    AllPub       298.0      1976         1976   2007  181500.0  \n2         920.0    AllPub         0.0      2001         2002   2008  223500.0  \n3         756.0    AllPub         0.0      1915         1970   2006  140000.0  \n4        1145.0    AllPub       192.0      2000         2000   2008  250000.0  \n5         796.0    AllPub        40.0      1993         1995   2009  143000.0  \n6        1686.0    AllPub       255.0      2004         2005   2007  307000.0  \n7        1107.0    AllPub       235.0      1973         1973   2009  200000.0  \n8         952.0    AllPub        90.0      1931         1950   2008  129900.0  \n9         991.0    AllPub         0.0      1939         1950   2008  118000.0  \n10       1040.0    AllPub         0.0      1965         1965   2008  129500.0  \n11       1175.0    AllPub       147.0      2005         2006   2006  345000.0  \n12        912.0    AllPub       140.0      1962         1962   2008  144000.0  \n13       1494.0    AllPub       160.0      2006         2007   2007  279500.0  \n14       1253.0    AllPub         0.0      1960         1960   2008  157000.0  \n15        832.0    AllPub        48.0      1929         2001   2007  132000.0  \n16       1004.0    AllPub         0.0      1970         1970   2010  149000.0  \n17          0.0    AllPub         0.0      1967         1967   2006   90000.0  \n18       1114.0    AllPub         0.0      2004         2004   2008  159000.0  \n19       1029.0    AllPub         0.0      1958         1965   2009  139000.0  \n\n[20 rows x 80 columns]",
      "text/html": "<div>\n<style scoped>\n    .dataframe tbody tr th:only-of-type {\n        vertical-align: middle;\n    }\n\n    .dataframe tbody tr th {\n        vertical-align: top;\n    }\n\n    .dataframe thead th {\n        text-align: right;\n    }\n</style>\n<table border=\"1\" class=\"dataframe\">\n  <thead>\n    <tr style=\"text-align: right;\">\n      <th></th>\n      <th>1stFlrSF</th>\n      <th>2ndFlrSF</th>\n      <th>3SsnPorch</th>\n      <th>Alley</th>\n      <th>BedroomAbvGr</th>\n      <th>BldgType</th>\n      <th>BsmtCond</th>\n      <th>BsmtExposure</th>\n      <th>BsmtFinSF1</th>\n      <th>BsmtFinSF2</th>\n      <th>...</th>\n      <th>ScreenPorch</th>\n      <th>Street</th>\n      <th>TotRmsAbvGrd</th>\n      <th>TotalBsmtSF</th>\n      <th>Utilities</th>\n      <th>WoodDeckSF</th>\n      <th>YearBuilt</th>\n      <th>YearRemodAdd</th>\n      <th>YrSold</th>\n      <th>SalePrice</th>\n    </tr>\n  </thead>\n  <tbody>\n    <tr>\n      <th>0</th>\n      <td>856.0</td>\n      <td>854.0</td>\n      <td>0.0</td>\n      <td>NaN</td>\n      <td>3</td>\n      <td>1Fam</td>\n      <td>TA</td>\n      <td>No</td>\n      <td>706.0</td>\n      <td>0.0</td>\n      <td>...</td>\n      <td>0.0</td>\n      <td>Pave</td>\n      <td>8</td>\n      <td>856.0</td>\n      <td>AllPub</td>\n      <td>0.0</td>\n      <td>2003</td>\n      <td>2003</td>\n      <td>2008</td>\n      <td>208500.0</td>\n    </tr>\n    <tr>\n      <th>1</th>\n      <td>1262.0</td>\n      <td>0.0</td>\n      <td>0.0</td>\n      <td>NaN</td>\n      <td>3</td>\n      <td>1Fam</td>\n      <td>TA</td>\n      <td>Gd</td>\n      <td>978.0</td>\n      <td>0.0</td>\n      <td>...</td>\n      <td>0.0</td>\n      <td>Pave</td>\n      <td>6</td>\n      <td>1262.0</td>\n      <td>AllPub</td>\n      <td>298.0</td>\n      <td>1976</td>\n      <td>1976</td>\n      <td>2007</td>\n      <td>181500.0</td>\n    </tr>\n    <tr>\n      <th>2</th>\n      <td>920.0</td>\n      <td>866.0</td>\n      <td>0.0</td>\n      <td>NaN</td>\n      <td>3</td>\n      <td>1Fam</td>\n      <td>TA</td>\n      <td>Mn</td>\n      <td>486.0</td>\n      <td>0.0</td>\n      <td>...</td>\n      <td>0.0</td>\n      <td>Pave</td>\n      <td>6</td>\n      <td>920.0</td>\n      <td>AllPub</td>\n      <td>0.0</td>\n      <td>2001</td>\n      <td>2002</td>\n      <td>2008</td>\n      <td>223500.0</td>\n    </tr>\n    <tr>\n      <th>3</th>\n      <td>961.0</td>\n      <td>756.0</td>\n      <td>0.0</td>\n      <td>NaN</td>\n      <td>3</td>\n      <td>1Fam</td>\n      <td>Gd</td>\n      <td>No</td>\n      <td>216.0</td>\n      <td>0.0</td>\n      <td>...</td>\n      <td>0.0</td>\n      <td>Pave</td>\n      <td>7</td>\n      <td>756.0</td>\n      <td>AllPub</td>\n      <td>0.0</td>\n      <td>1915</td>\n      <td>1970</td>\n      <td>2006</td>\n      <td>140000.0</td>\n    </tr>\n    <tr>\n      <th>4</th>\n      <td>1145.0</td>\n      <td>1053.0</td>\n      <td>0.0</td>\n      <td>NaN</td>\n      <td>4</td>\n      <td>1Fam</td>\n      <td>TA</td>\n      <td>Av</td>\n      <td>655.0</td>\n      <td>0.0</td>\n      <td>...</td>\n      <td>0.0</td>\n      <td>Pave</td>\n      <td>9</td>\n      <td>1145.0</td>\n      <td>AllPub</td>\n      <td>192.0</td>\n      <td>2000</td>\n      <td>2000</td>\n      <td>2008</td>\n      <td>250000.0</td>\n    </tr>\n    <tr>\n      <th>5</th>\n      <td>796.0</td>\n      <td>566.0</td>\n      <td>320.0</td>\n      <td>NaN</td>\n      <td>1</td>\n      <td>1Fam</td>\n      <td>TA</td>\n      <td>No</td>\n      <td>732.0</td>\n      <td>0.0</td>\n      <td>...</td>\n      <td>0.0</td>\n      <td>Pave</td>\n      <td>5</td>\n      <td>796.0</td>\n      <td>AllPub</td>\n      <td>40.0</td>\n      <td>1993</td>\n      <td>1995</td>\n      <td>2009</td>\n      <td>143000.0</td>\n    </tr>\n    <tr>\n      <th>6</th>\n      <td>1694.0</td>\n      <td>0.0</td>\n      <td>0.0</td>\n      <td>NaN</td>\n      <td>3</td>\n      <td>1Fam</td>\n      <td>TA</td>\n      <td>Av</td>\n      <td>1369.0</td>\n      <td>0.0</td>\n      <td>...</td>\n      <td>0.0</td>\n      <td>Pave</td>\n      <td>7</td>\n      <td>1686.0</td>\n      <td>AllPub</td>\n      <td>255.0</td>\n      <td>2004</td>\n      <td>2005</td>\n      <td>2007</td>\n      <td>307000.0</td>\n    </tr>\n    <tr>\n      <th>7</th>\n      <td>1107.0</td>\n      <td>983.0</td>\n      <td>0.0</td>\n      <td>NaN</td>\n      <td>3</td>\n      <td>1Fam</td>\n      <td>TA</td>\n      <td>Mn</td>\n      <td>859.0</td>\n      <td>32.0</td>\n      <td>...</td>\n      <td>0.0</td>\n      <td>Pave</td>\n      <td>7</td>\n      <td>1107.0</td>\n      <td>AllPub</td>\n      <td>235.0</td>\n      <td>1973</td>\n      <td>1973</td>\n      <td>2009</td>\n      <td>200000.0</td>\n    </tr>\n    <tr>\n      <th>8</th>\n      <td>1022.0</td>\n      <td>752.0</td>\n      <td>0.0</td>\n      <td>NaN</td>\n      <td>2</td>\n      <td>1Fam</td>\n      <td>NaN</td>\n      <td>NaN</td>\n      <td>0.0</td>\n      <td>0.0</td>\n      <td>...</td>\n      <td>0.0</td>\n      <td>Pave</td>\n      <td>8</td>\n      <td>952.0</td>\n      <td>AllPub</td>\n      <td>90.0</td>\n      <td>1931</td>\n      <td>1950</td>\n      <td>2008</td>\n      <td>129900.0</td>\n    </tr>\n    <tr>\n      <th>9</th>\n      <td>1077.0</td>\n      <td>0.0</td>\n      <td>0.0</td>\n      <td>NaN</td>\n      <td>2</td>\n      <td>2fmCon</td>\n      <td>TA</td>\n      <td>No</td>\n      <td>851.0</td>\n      <td>0.0</td>\n      <td>...</td>\n      <td>0.0</td>\n      <td>Pave</td>\n      <td>5</td>\n      <td>991.0</td>\n      <td>AllPub</td>\n      <td>0.0</td>\n      <td>1939</td>\n      <td>1950</td>\n      <td>2008</td>\n      <td>118000.0</td>\n    </tr>\n    <tr>\n      <th>10</th>\n      <td>1040.0</td>\n      <td>0.0</td>\n      <td>0.0</td>\n      <td>NaN</td>\n      <td>3</td>\n      <td>1Fam</td>\n      <td>TA</td>\n      <td>No</td>\n      <td>906.0</td>\n      <td>0.0</td>\n      <td>...</td>\n      <td>0.0</td>\n      <td>Pave</td>\n      <td>5</td>\n      <td>1040.0</td>\n      <td>AllPub</td>\n      <td>0.0</td>\n      <td>1965</td>\n      <td>1965</td>\n      <td>2008</td>\n      <td>129500.0</td>\n    </tr>\n    <tr>\n      <th>11</th>\n      <td>1182.0</td>\n      <td>1142.0</td>\n      <td>0.0</td>\n      <td>NaN</td>\n      <td>4</td>\n      <td>1Fam</td>\n      <td>TA</td>\n      <td>No</td>\n      <td>998.0</td>\n      <td>0.0</td>\n      <td>...</td>\n      <td>0.0</td>\n      <td>Pave</td>\n      <td>11</td>\n      <td>1175.0</td>\n      <td>AllPub</td>\n      <td>147.0</td>\n      <td>2005</td>\n      <td>2006</td>\n      <td>2006</td>\n      <td>345000.0</td>\n    </tr>\n    <tr>\n      <th>12</th>\n      <td>912.0</td>\n      <td>0.0</td>\n      <td>0.0</td>\n      <td>NaN</td>\n      <td>2</td>\n      <td>1Fam</td>\n      <td>TA</td>\n      <td>No</td>\n      <td>737.0</td>\n      <td>0.0</td>\n      <td>...</td>\n      <td>176.0</td>\n      <td>Pave</td>\n      <td>4</td>\n      <td>912.0</td>\n      <td>AllPub</td>\n      <td>140.0</td>\n      <td>1962</td>\n      <td>1962</td>\n      <td>2008</td>\n      <td>144000.0</td>\n    </tr>\n    <tr>\n      <th>13</th>\n      <td>1494.0</td>\n      <td>0.0</td>\n      <td>0.0</td>\n      <td>NaN</td>\n      <td>3</td>\n      <td>1Fam</td>\n      <td>NaN</td>\n      <td>NaN</td>\n      <td>0.0</td>\n      <td>0.0</td>\n      <td>...</td>\n      <td>0.0</td>\n      <td>Pave</td>\n      <td>7</td>\n      <td>1494.0</td>\n      <td>AllPub</td>\n      <td>160.0</td>\n      <td>2006</td>\n      <td>2007</td>\n      <td>2007</td>\n      <td>279500.0</td>\n    </tr>\n    <tr>\n      <th>14</th>\n      <td>1253.0</td>\n      <td>0.0</td>\n      <td>0.0</td>\n      <td>NaN</td>\n      <td>2</td>\n      <td>1Fam</td>\n      <td>TA</td>\n      <td>No</td>\n      <td>733.0</td>\n      <td>0.0</td>\n      <td>...</td>\n      <td>0.0</td>\n      <td>Pave</td>\n      <td>5</td>\n      <td>1253.0</td>\n      <td>AllPub</td>\n      <td>0.0</td>\n      <td>1960</td>\n      <td>1960</td>\n      <td>2008</td>\n      <td>157000.0</td>\n    </tr>\n    <tr>\n      <th>15</th>\n      <td>854.0</td>\n      <td>0.0</td>\n      <td>0.0</td>\n      <td>NaN</td>\n      <td>2</td>\n      <td>1Fam</td>\n      <td>NaN</td>\n      <td>NaN</td>\n      <td>0.0</td>\n      <td>0.0</td>\n      <td>...</td>\n      <td>0.0</td>\n      <td>Pave</td>\n      <td>5</td>\n      <td>832.0</td>\n      <td>AllPub</td>\n      <td>48.0</td>\n      <td>1929</td>\n      <td>2001</td>\n      <td>2007</td>\n      <td>132000.0</td>\n    </tr>\n    <tr>\n      <th>16</th>\n      <td>1004.0</td>\n      <td>0.0</td>\n      <td>0.0</td>\n      <td>NaN</td>\n      <td>2</td>\n      <td>1Fam</td>\n      <td>TA</td>\n      <td>No</td>\n      <td>578.0</td>\n      <td>0.0</td>\n      <td>...</td>\n      <td>0.0</td>\n      <td>Pave</td>\n      <td>5</td>\n      <td>1004.0</td>\n      <td>AllPub</td>\n      <td>0.0</td>\n      <td>1970</td>\n      <td>1970</td>\n      <td>2010</td>\n      <td>149000.0</td>\n    </tr>\n    <tr>\n      <th>17</th>\n      <td>1296.0</td>\n      <td>0.0</td>\n      <td>0.0</td>\n      <td>NaN</td>\n      <td>2</td>\n      <td>Duplex</td>\n      <td>NaN</td>\n      <td>NaN</td>\n      <td>0.0</td>\n      <td>0.0</td>\n      <td>...</td>\n      <td>0.0</td>\n      <td>Pave</td>\n      <td>6</td>\n      <td>0.0</td>\n      <td>AllPub</td>\n      <td>0.0</td>\n      <td>1967</td>\n      <td>1967</td>\n      <td>2006</td>\n      <td>90000.0</td>\n    </tr>\n    <tr>\n      <th>18</th>\n      <td>1114.0</td>\n      <td>0.0</td>\n      <td>0.0</td>\n      <td>NaN</td>\n      <td>3</td>\n      <td>1Fam</td>\n      <td>TA</td>\n      <td>No</td>\n      <td>646.0</td>\n      <td>0.0</td>\n      <td>...</td>\n      <td>0.0</td>\n      <td>Pave</td>\n      <td>6</td>\n      <td>1114.0</td>\n      <td>AllPub</td>\n      <td>0.0</td>\n      <td>2004</td>\n      <td>2004</td>\n      <td>2008</td>\n      <td>159000.0</td>\n    </tr>\n    <tr>\n      <th>19</th>\n      <td>1339.0</td>\n      <td>0.0</td>\n      <td>0.0</td>\n      <td>NaN</td>\n      <td>3</td>\n      <td>1Fam</td>\n      <td>TA</td>\n      <td>No</td>\n      <td>504.0</td>\n      <td>0.0</td>\n      <td>...</td>\n      <td>0.0</td>\n      <td>Pave</td>\n      <td>6</td>\n      <td>1029.0</td>\n      <td>AllPub</td>\n      <td>0.0</td>\n      <td>1958</td>\n      <td>1965</td>\n      <td>2009</td>\n      <td>139000.0</td>\n    </tr>\n  </tbody>\n</table>\n<p>20 rows × 80 columns</p>\n</div>"
     },
     "execution_count": 51,
     "metadata": {},
     "output_type": "execute_result"
    }
   ],
   "source": [
    "df.head(20)"
   ],
   "metadata": {
    "collapsed": false,
    "ExecuteTime": {
     "end_time": "2023-05-10T15:19:44.925270100Z",
     "start_time": "2023-05-10T15:19:44.829192700Z"
    }
   }
  },
  {
   "cell_type": "code",
   "execution_count": 52,
   "outputs": [
    {
     "data": {
      "text/plain": "1stFlrSF           0\n2ndFlrSF           0\n3SsnPorch          0\nAlley           1297\nBedroomAbvGr       0\n                ... \nWoodDeckSF         0\nYearBuilt          0\nYearRemodAdd       0\nYrSold             0\nSalePrice          0\nLength: 80, dtype: int64"
     },
     "execution_count": 52,
     "metadata": {},
     "output_type": "execute_result"
    }
   ],
   "source": [
    "df.isna().sum()"
   ],
   "metadata": {
    "collapsed": false,
    "ExecuteTime": {
     "end_time": "2023-05-10T15:19:44.925270100Z",
     "start_time": "2023-05-10T15:19:44.859775100Z"
    }
   }
  },
  {
   "cell_type": "code",
   "execution_count": 53,
   "outputs": [
    {
     "data": {
      "text/plain": "(1379, 80)"
     },
     "execution_count": 53,
     "metadata": {},
     "output_type": "execute_result"
    }
   ],
   "source": [
    "df.shape"
   ],
   "metadata": {
    "collapsed": false,
    "ExecuteTime": {
     "end_time": "2023-05-10T15:19:44.926270100Z",
     "start_time": "2023-05-10T15:19:44.869978Z"
    }
   }
  },
  {
   "cell_type": "code",
   "execution_count": 54,
   "outputs": [
    {
     "data": {
      "text/plain": "0       False\n1       False\n2       False\n3       False\n4       False\n        ...  \n1374    False\n1375    False\n1376    False\n1377    False\n1378    False\nLength: 1379, dtype: bool"
     },
     "execution_count": 54,
     "metadata": {},
     "output_type": "execute_result"
    }
   ],
   "source": [
    "df.duplicated()"
   ],
   "metadata": {
    "collapsed": false,
    "ExecuteTime": {
     "end_time": "2023-05-10T15:19:44.927269300Z",
     "start_time": "2023-05-10T15:19:44.877054100Z"
    }
   }
  },
  {
   "cell_type": "code",
   "execution_count": 55,
   "outputs": [
    {
     "data": {
      "text/plain": "                count           mean           std      min       25%   \n1stFlrSF       1379.0    1177.129804    387.014961    438.0     894.0  \\\n2ndFlrSF       1379.0     353.424946    439.553171      0.0       0.0   \n3SsnPorch      1379.0       3.609862     30.154682      0.0       0.0   \nBedroomAbvGr   1379.0       2.865120      0.783961      0.0       2.0   \nBsmtFinSF1     1379.0     455.578680    459.691379      0.0       0.0   \nBsmtFinSF2     1379.0      48.102248    164.324665      0.0       0.0   \nBsmtFullBath   1379.0       0.430747      0.514052      0.0       0.0   \nBsmtHalfBath   1379.0       0.058738      0.238285      0.0       0.0   \nBsmtUnfSF      1379.0     570.765047    443.677845      0.0     228.0   \nEnclosedPorch  1379.0      21.039159     60.535107      0.0       0.0   \nFireplaces     1379.0       0.641769      0.645985      0.0       0.0   \nFullBath       1379.0       1.580131      0.548051      0.0       1.0   \nGarageArea     1379.0     500.762146    185.680520    160.0     380.0   \nGarageCars     1379.0       1.870921      0.630055      1.0       1.0   \nGarageYrBlt    1379.0    1978.506164     24.689725   1900.0    1961.0   \nGrLivArea      1379.0    1534.689630    519.140514    438.0    1154.0   \nHalfBath       1379.0       0.395939      0.502402      0.0       0.0   \nKitchenAbvGr   1379.0       1.038434      0.196048      1.0       1.0   \nLotArea        1379.0   10695.812183  10214.702133   1300.0    7741.0   \nLotFrontage    1379.0      75.112314     28.214221     21.0      60.0   \nLowQualFinSF   1379.0       4.134880     40.130546      0.0       0.0   \nMSSubClass     1379.0      56.022480     41.026897     20.0      20.0   \nMasVnrArea     1379.0     108.364757    184.195220      0.0       0.0   \nMiscVal        1379.0      42.889050    501.613931      0.0       0.0   \nMoSold         1379.0       6.334300      2.696674      1.0       5.0   \nOpenPorchSF    1379.0      47.276287     65.210465      0.0       0.0   \nOverallCond    1379.0       5.577955      1.081031      2.0       5.0   \nOverallQual    1379.0       6.187092      1.345780      2.0       5.0   \nPoolArea       1379.0       2.920957     41.335545      0.0       0.0   \nScreenPorch    1379.0      15.945613     57.249593      0.0       0.0   \nTotRmsAbvGrd   1379.0       6.552574      1.589821      3.0       5.0   \nTotalBsmtSF    1379.0    1074.445975    436.371874      0.0     810.0   \nWoodDeckSF     1379.0      97.456853    126.699192      0.0       0.0   \nYearBuilt      1379.0    1972.958666     29.379883   1880.0    1955.0   \nYearRemodAdd   1379.0    1985.435098     20.444852   1950.0    1968.0   \nYrSold         1379.0    2007.812183      1.330221   2006.0    2007.0   \nSalePrice      1379.0  185479.511240  79023.890600  35311.0  134000.0   \n\n                    50%       75%            max  \n1stFlrSF         1098.0    1414.0    4692.000000  \n2ndFlrSF            0.0     738.5    2065.000000  \n3SsnPorch           0.0       0.0     508.000000  \nBedroomAbvGr        3.0       3.0       6.000000  \nBsmtFinSF1        400.0     732.0    5644.000000  \nBsmtFinSF2          0.0       0.0    1474.000000  \nBsmtFullBath        0.0       1.0       2.000000  \nBsmtHalfBath        0.0       0.0       2.000000  \nBsmtUnfSF         476.0     811.0    2336.000000  \nEnclosedPorch       0.0       0.0     552.000000  \nFireplaces          1.0       1.0       3.000000  \nFullBath            2.0       2.0       3.000000  \nGarageArea        484.0     580.0    1418.000000  \nGarageCars          2.0       2.0       4.000000  \nGarageYrBlt      1980.0    2002.0    2010.000000  \nGrLivArea        1479.0    1790.0    5642.000000  \nHalfBath            0.0       1.0       2.000000  \nKitchenAbvGr        1.0       1.0       3.000000  \nLotArea          9591.0   11708.5  215245.000000  \nLotFrontage        71.0      88.0     405.783193  \nLowQualFinSF        0.0       0.0     572.000000  \nMSSubClass         50.0      70.0     190.000000  \nMasVnrArea          0.0     170.5    1600.000000  \nMiscVal             0.0       0.0   15500.000000  \nMoSold              6.0       8.0      12.000000  \nOpenPorchSF        27.0      69.5     547.000000  \nOverallCond         5.0       6.0       9.000000  \nOverallQual         6.0       7.0      10.000000  \nPoolArea            0.0       0.0     738.000000  \nScreenPorch         0.0       0.0     480.000000  \nTotRmsAbvGrd        6.0       7.0      12.000000  \nTotalBsmtSF      1008.0    1314.0    6110.000000  \nWoodDeckSF          0.0     171.0     857.000000  \nYearBuilt        1976.0    2001.0    2010.000000  \nYearRemodAdd     1994.0    2004.0    2010.000000  \nYrSold           2008.0    2009.0    2010.000000  \nSalePrice      167500.0  217750.0  755000.000000  ",
      "text/html": "<div>\n<style scoped>\n    .dataframe tbody tr th:only-of-type {\n        vertical-align: middle;\n    }\n\n    .dataframe tbody tr th {\n        vertical-align: top;\n    }\n\n    .dataframe thead th {\n        text-align: right;\n    }\n</style>\n<table border=\"1\" class=\"dataframe\">\n  <thead>\n    <tr style=\"text-align: right;\">\n      <th></th>\n      <th>count</th>\n      <th>mean</th>\n      <th>std</th>\n      <th>min</th>\n      <th>25%</th>\n      <th>50%</th>\n      <th>75%</th>\n      <th>max</th>\n    </tr>\n  </thead>\n  <tbody>\n    <tr>\n      <th>1stFlrSF</th>\n      <td>1379.0</td>\n      <td>1177.129804</td>\n      <td>387.014961</td>\n      <td>438.0</td>\n      <td>894.0</td>\n      <td>1098.0</td>\n      <td>1414.0</td>\n      <td>4692.000000</td>\n    </tr>\n    <tr>\n      <th>2ndFlrSF</th>\n      <td>1379.0</td>\n      <td>353.424946</td>\n      <td>439.553171</td>\n      <td>0.0</td>\n      <td>0.0</td>\n      <td>0.0</td>\n      <td>738.5</td>\n      <td>2065.000000</td>\n    </tr>\n    <tr>\n      <th>3SsnPorch</th>\n      <td>1379.0</td>\n      <td>3.609862</td>\n      <td>30.154682</td>\n      <td>0.0</td>\n      <td>0.0</td>\n      <td>0.0</td>\n      <td>0.0</td>\n      <td>508.000000</td>\n    </tr>\n    <tr>\n      <th>BedroomAbvGr</th>\n      <td>1379.0</td>\n      <td>2.865120</td>\n      <td>0.783961</td>\n      <td>0.0</td>\n      <td>2.0</td>\n      <td>3.0</td>\n      <td>3.0</td>\n      <td>6.000000</td>\n    </tr>\n    <tr>\n      <th>BsmtFinSF1</th>\n      <td>1379.0</td>\n      <td>455.578680</td>\n      <td>459.691379</td>\n      <td>0.0</td>\n      <td>0.0</td>\n      <td>400.0</td>\n      <td>732.0</td>\n      <td>5644.000000</td>\n    </tr>\n    <tr>\n      <th>BsmtFinSF2</th>\n      <td>1379.0</td>\n      <td>48.102248</td>\n      <td>164.324665</td>\n      <td>0.0</td>\n      <td>0.0</td>\n      <td>0.0</td>\n      <td>0.0</td>\n      <td>1474.000000</td>\n    </tr>\n    <tr>\n      <th>BsmtFullBath</th>\n      <td>1379.0</td>\n      <td>0.430747</td>\n      <td>0.514052</td>\n      <td>0.0</td>\n      <td>0.0</td>\n      <td>0.0</td>\n      <td>1.0</td>\n      <td>2.000000</td>\n    </tr>\n    <tr>\n      <th>BsmtHalfBath</th>\n      <td>1379.0</td>\n      <td>0.058738</td>\n      <td>0.238285</td>\n      <td>0.0</td>\n      <td>0.0</td>\n      <td>0.0</td>\n      <td>0.0</td>\n      <td>2.000000</td>\n    </tr>\n    <tr>\n      <th>BsmtUnfSF</th>\n      <td>1379.0</td>\n      <td>570.765047</td>\n      <td>443.677845</td>\n      <td>0.0</td>\n      <td>228.0</td>\n      <td>476.0</td>\n      <td>811.0</td>\n      <td>2336.000000</td>\n    </tr>\n    <tr>\n      <th>EnclosedPorch</th>\n      <td>1379.0</td>\n      <td>21.039159</td>\n      <td>60.535107</td>\n      <td>0.0</td>\n      <td>0.0</td>\n      <td>0.0</td>\n      <td>0.0</td>\n      <td>552.000000</td>\n    </tr>\n    <tr>\n      <th>Fireplaces</th>\n      <td>1379.0</td>\n      <td>0.641769</td>\n      <td>0.645985</td>\n      <td>0.0</td>\n      <td>0.0</td>\n      <td>1.0</td>\n      <td>1.0</td>\n      <td>3.000000</td>\n    </tr>\n    <tr>\n      <th>FullBath</th>\n      <td>1379.0</td>\n      <td>1.580131</td>\n      <td>0.548051</td>\n      <td>0.0</td>\n      <td>1.0</td>\n      <td>2.0</td>\n      <td>2.0</td>\n      <td>3.000000</td>\n    </tr>\n    <tr>\n      <th>GarageArea</th>\n      <td>1379.0</td>\n      <td>500.762146</td>\n      <td>185.680520</td>\n      <td>160.0</td>\n      <td>380.0</td>\n      <td>484.0</td>\n      <td>580.0</td>\n      <td>1418.000000</td>\n    </tr>\n    <tr>\n      <th>GarageCars</th>\n      <td>1379.0</td>\n      <td>1.870921</td>\n      <td>0.630055</td>\n      <td>1.0</td>\n      <td>1.0</td>\n      <td>2.0</td>\n      <td>2.0</td>\n      <td>4.000000</td>\n    </tr>\n    <tr>\n      <th>GarageYrBlt</th>\n      <td>1379.0</td>\n      <td>1978.506164</td>\n      <td>24.689725</td>\n      <td>1900.0</td>\n      <td>1961.0</td>\n      <td>1980.0</td>\n      <td>2002.0</td>\n      <td>2010.000000</td>\n    </tr>\n    <tr>\n      <th>GrLivArea</th>\n      <td>1379.0</td>\n      <td>1534.689630</td>\n      <td>519.140514</td>\n      <td>438.0</td>\n      <td>1154.0</td>\n      <td>1479.0</td>\n      <td>1790.0</td>\n      <td>5642.000000</td>\n    </tr>\n    <tr>\n      <th>HalfBath</th>\n      <td>1379.0</td>\n      <td>0.395939</td>\n      <td>0.502402</td>\n      <td>0.0</td>\n      <td>0.0</td>\n      <td>0.0</td>\n      <td>1.0</td>\n      <td>2.000000</td>\n    </tr>\n    <tr>\n      <th>KitchenAbvGr</th>\n      <td>1379.0</td>\n      <td>1.038434</td>\n      <td>0.196048</td>\n      <td>1.0</td>\n      <td>1.0</td>\n      <td>1.0</td>\n      <td>1.0</td>\n      <td>3.000000</td>\n    </tr>\n    <tr>\n      <th>LotArea</th>\n      <td>1379.0</td>\n      <td>10695.812183</td>\n      <td>10214.702133</td>\n      <td>1300.0</td>\n      <td>7741.0</td>\n      <td>9591.0</td>\n      <td>11708.5</td>\n      <td>215245.000000</td>\n    </tr>\n    <tr>\n      <th>LotFrontage</th>\n      <td>1379.0</td>\n      <td>75.112314</td>\n      <td>28.214221</td>\n      <td>21.0</td>\n      <td>60.0</td>\n      <td>71.0</td>\n      <td>88.0</td>\n      <td>405.783193</td>\n    </tr>\n    <tr>\n      <th>LowQualFinSF</th>\n      <td>1379.0</td>\n      <td>4.134880</td>\n      <td>40.130546</td>\n      <td>0.0</td>\n      <td>0.0</td>\n      <td>0.0</td>\n      <td>0.0</td>\n      <td>572.000000</td>\n    </tr>\n    <tr>\n      <th>MSSubClass</th>\n      <td>1379.0</td>\n      <td>56.022480</td>\n      <td>41.026897</td>\n      <td>20.0</td>\n      <td>20.0</td>\n      <td>50.0</td>\n      <td>70.0</td>\n      <td>190.000000</td>\n    </tr>\n    <tr>\n      <th>MasVnrArea</th>\n      <td>1379.0</td>\n      <td>108.364757</td>\n      <td>184.195220</td>\n      <td>0.0</td>\n      <td>0.0</td>\n      <td>0.0</td>\n      <td>170.5</td>\n      <td>1600.000000</td>\n    </tr>\n    <tr>\n      <th>MiscVal</th>\n      <td>1379.0</td>\n      <td>42.889050</td>\n      <td>501.613931</td>\n      <td>0.0</td>\n      <td>0.0</td>\n      <td>0.0</td>\n      <td>0.0</td>\n      <td>15500.000000</td>\n    </tr>\n    <tr>\n      <th>MoSold</th>\n      <td>1379.0</td>\n      <td>6.334300</td>\n      <td>2.696674</td>\n      <td>1.0</td>\n      <td>5.0</td>\n      <td>6.0</td>\n      <td>8.0</td>\n      <td>12.000000</td>\n    </tr>\n    <tr>\n      <th>OpenPorchSF</th>\n      <td>1379.0</td>\n      <td>47.276287</td>\n      <td>65.210465</td>\n      <td>0.0</td>\n      <td>0.0</td>\n      <td>27.0</td>\n      <td>69.5</td>\n      <td>547.000000</td>\n    </tr>\n    <tr>\n      <th>OverallCond</th>\n      <td>1379.0</td>\n      <td>5.577955</td>\n      <td>1.081031</td>\n      <td>2.0</td>\n      <td>5.0</td>\n      <td>5.0</td>\n      <td>6.0</td>\n      <td>9.000000</td>\n    </tr>\n    <tr>\n      <th>OverallQual</th>\n      <td>1379.0</td>\n      <td>6.187092</td>\n      <td>1.345780</td>\n      <td>2.0</td>\n      <td>5.0</td>\n      <td>6.0</td>\n      <td>7.0</td>\n      <td>10.000000</td>\n    </tr>\n    <tr>\n      <th>PoolArea</th>\n      <td>1379.0</td>\n      <td>2.920957</td>\n      <td>41.335545</td>\n      <td>0.0</td>\n      <td>0.0</td>\n      <td>0.0</td>\n      <td>0.0</td>\n      <td>738.000000</td>\n    </tr>\n    <tr>\n      <th>ScreenPorch</th>\n      <td>1379.0</td>\n      <td>15.945613</td>\n      <td>57.249593</td>\n      <td>0.0</td>\n      <td>0.0</td>\n      <td>0.0</td>\n      <td>0.0</td>\n      <td>480.000000</td>\n    </tr>\n    <tr>\n      <th>TotRmsAbvGrd</th>\n      <td>1379.0</td>\n      <td>6.552574</td>\n      <td>1.589821</td>\n      <td>3.0</td>\n      <td>5.0</td>\n      <td>6.0</td>\n      <td>7.0</td>\n      <td>12.000000</td>\n    </tr>\n    <tr>\n      <th>TotalBsmtSF</th>\n      <td>1379.0</td>\n      <td>1074.445975</td>\n      <td>436.371874</td>\n      <td>0.0</td>\n      <td>810.0</td>\n      <td>1008.0</td>\n      <td>1314.0</td>\n      <td>6110.000000</td>\n    </tr>\n    <tr>\n      <th>WoodDeckSF</th>\n      <td>1379.0</td>\n      <td>97.456853</td>\n      <td>126.699192</td>\n      <td>0.0</td>\n      <td>0.0</td>\n      <td>0.0</td>\n      <td>171.0</td>\n      <td>857.000000</td>\n    </tr>\n    <tr>\n      <th>YearBuilt</th>\n      <td>1379.0</td>\n      <td>1972.958666</td>\n      <td>29.379883</td>\n      <td>1880.0</td>\n      <td>1955.0</td>\n      <td>1976.0</td>\n      <td>2001.0</td>\n      <td>2010.000000</td>\n    </tr>\n    <tr>\n      <th>YearRemodAdd</th>\n      <td>1379.0</td>\n      <td>1985.435098</td>\n      <td>20.444852</td>\n      <td>1950.0</td>\n      <td>1968.0</td>\n      <td>1994.0</td>\n      <td>2004.0</td>\n      <td>2010.000000</td>\n    </tr>\n    <tr>\n      <th>YrSold</th>\n      <td>1379.0</td>\n      <td>2007.812183</td>\n      <td>1.330221</td>\n      <td>2006.0</td>\n      <td>2007.0</td>\n      <td>2008.0</td>\n      <td>2009.0</td>\n      <td>2010.000000</td>\n    </tr>\n    <tr>\n      <th>SalePrice</th>\n      <td>1379.0</td>\n      <td>185479.511240</td>\n      <td>79023.890600</td>\n      <td>35311.0</td>\n      <td>134000.0</td>\n      <td>167500.0</td>\n      <td>217750.0</td>\n      <td>755000.000000</td>\n    </tr>\n  </tbody>\n</table>\n</div>"
     },
     "execution_count": 55,
     "metadata": {},
     "output_type": "execute_result"
    }
   ],
   "source": [
    "df.describe().T"
   ],
   "metadata": {
    "collapsed": false,
    "ExecuteTime": {
     "end_time": "2023-05-10T15:19:45.095016700Z",
     "start_time": "2023-05-10T15:19:44.902270200Z"
    }
   }
  },
  {
   "cell_type": "code",
   "execution_count": 56,
   "outputs": [
    {
     "data": {
      "text/plain": "1stFlrSF        738\n2ndFlrSF        401\n3SsnPorch        20\nAlley             2\nBedroomAbvGr      7\n               ... \nWoodDeckSF      267\nYearBuilt       109\nYearRemodAdd     61\nYrSold            5\nSalePrice       640\nLength: 80, dtype: int64"
     },
     "execution_count": 56,
     "metadata": {},
     "output_type": "execute_result"
    }
   ],
   "source": [
    "df.nunique()"
   ],
   "metadata": {
    "collapsed": false,
    "ExecuteTime": {
     "end_time": "2023-05-10T15:19:45.095982800Z",
     "start_time": "2023-05-10T15:19:44.990725300Z"
    }
   }
  },
  {
   "cell_type": "code",
   "execution_count": 57,
   "outputs": [
    {
     "data": {
      "text/plain": "1stFlrSF        738\n2ndFlrSF        401\n3SsnPorch        20\nAlley             2\nBedroomAbvGr      7\n               ... \nWoodDeckSF      267\nYearBuilt       109\nYearRemodAdd     61\nYrSold            5\nSalePrice       640\nLength: 80, dtype: int64"
     },
     "execution_count": 57,
     "metadata": {},
     "output_type": "execute_result"
    }
   ],
   "source": [
    "df.nunique()"
   ],
   "metadata": {
    "collapsed": false,
    "ExecuteTime": {
     "end_time": "2023-05-10T15:19:45.110846Z",
     "start_time": "2023-05-10T15:19:45.008915900Z"
    }
   }
  },
  {
   "cell_type": "code",
   "execution_count": 58,
   "outputs": [],
   "source": [
    "cols = df.columns"
   ],
   "metadata": {
    "collapsed": false,
    "ExecuteTime": {
     "end_time": "2023-05-10T15:19:45.110846Z",
     "start_time": "2023-05-10T15:19:45.028787600Z"
    }
   }
  },
  {
   "cell_type": "code",
   "execution_count": 59,
   "outputs": [],
   "source": [
    "num_cols = df._get_numeric_data().columns"
   ],
   "metadata": {
    "collapsed": false,
    "ExecuteTime": {
     "end_time": "2023-05-10T15:19:45.110846Z",
     "start_time": "2023-05-10T15:19:45.034286Z"
    }
   }
  },
  {
   "cell_type": "code",
   "execution_count": 60,
   "outputs": [
    {
     "data": {
      "text/plain": "Index(['1stFlrSF', '2ndFlrSF', '3SsnPorch', 'BedroomAbvGr', 'BsmtFinSF1',\n       'BsmtFinSF2', 'BsmtFullBath', 'BsmtHalfBath', 'BsmtUnfSF',\n       'EnclosedPorch', 'Fireplaces', 'FullBath', 'GarageArea', 'GarageCars',\n       'GarageYrBlt', 'GrLivArea', 'HalfBath', 'KitchenAbvGr', 'LotArea',\n       'LotFrontage', 'LowQualFinSF', 'MSSubClass', 'MasVnrArea', 'MiscVal',\n       'MoSold', 'OpenPorchSF', 'OverallCond', 'OverallQual', 'PoolArea',\n       'ScreenPorch', 'TotRmsAbvGrd', 'TotalBsmtSF', 'WoodDeckSF', 'YearBuilt',\n       'YearRemodAdd', 'YrSold', 'SalePrice'],\n      dtype='object')"
     },
     "execution_count": 60,
     "metadata": {},
     "output_type": "execute_result"
    }
   ],
   "source": [
    "num_cols"
   ],
   "metadata": {
    "collapsed": false,
    "ExecuteTime": {
     "end_time": "2023-05-10T15:19:45.138152500Z",
     "start_time": "2023-05-10T15:19:45.038291900Z"
    }
   }
  },
  {
   "cell_type": "code",
   "execution_count": 61,
   "outputs": [],
   "source": [
    "cat_cols = list(set(cols) - set(num_cols))"
   ],
   "metadata": {
    "collapsed": false,
    "ExecuteTime": {
     "end_time": "2023-05-10T15:19:45.139126800Z",
     "start_time": "2023-05-10T15:19:45.046033100Z"
    }
   }
  },
  {
   "cell_type": "code",
   "execution_count": 62,
   "outputs": [
    {
     "data": {
      "text/plain": "['Alley',\n 'BldgType',\n 'Street',\n 'BsmtExposure',\n 'RoofStyle',\n 'Exterior1st',\n 'GarageCond',\n 'PavedDrive',\n 'BsmtCond',\n 'Condition1',\n 'HouseStyle',\n 'Exterior2nd',\n 'ExterQual',\n 'HeatingQC',\n 'Foundation',\n 'LotShape',\n 'Functional',\n 'Heating',\n 'MasVnrType',\n 'GarageType',\n 'BsmtFinType2',\n 'BsmtQual',\n 'Condition2',\n 'LandContour',\n 'GarageQual',\n 'BsmtFinType1',\n 'Neighborhood',\n 'CentralAir',\n 'FireplaceQu',\n 'Utilities',\n 'LotConfig',\n 'PoolQC',\n 'RoofMatl',\n 'Electrical',\n 'Fence',\n 'GarageFinish',\n 'MSZoning',\n 'MiscFeature',\n 'SaleCondition',\n 'LandSlope',\n 'ExterCond',\n 'SaleType',\n 'KitchenQual']"
     },
     "execution_count": 62,
     "metadata": {},
     "output_type": "execute_result"
    }
   ],
   "source": [
    "cat_cols"
   ],
   "metadata": {
    "collapsed": false,
    "ExecuteTime": {
     "end_time": "2023-05-10T15:19:45.139126800Z",
     "start_time": "2023-05-10T15:19:45.050040600Z"
    }
   }
  },
  {
   "cell_type": "code",
   "execution_count": 63,
   "outputs": [],
   "source": [
    "catdf = df[cat_cols]"
   ],
   "metadata": {
    "collapsed": false,
    "ExecuteTime": {
     "end_time": "2023-05-10T15:19:45.140120800Z",
     "start_time": "2023-05-10T15:19:45.071703900Z"
    }
   }
  },
  {
   "cell_type": "code",
   "execution_count": 64,
   "outputs": [
    {
     "data": {
      "text/plain": "Alley             2\nBldgType          5\nStreet            2\nBsmtExposure      4\nRoofStyle         6\nExterior1st      14\nGarageCond        5\nPavedDrive        3\nBsmtCond          3\nCondition1        9\nHouseStyle        8\nExterior2nd      16\nExterQual         4\nHeatingQC         5\nFoundation        6\nLotShape          4\nFunctional        7\nHeating           6\nMasVnrType        3\nGarageType        6\nBsmtFinType2      6\nBsmtQual          4\nCondition2        8\nLandContour       4\nGarageQual        5\nBsmtFinType1      5\nNeighborhood     25\nCentralAir        2\nFireplaceQu       5\nUtilities         2\nLotConfig         5\nPoolQC            3\nRoofMatl          8\nElectrical        5\nFence             4\nGarageFinish      3\nMSZoning          5\nMiscFeature       4\nSaleCondition     6\nLandSlope         3\nExterCond         4\nSaleType          9\nKitchenQual       4\ndtype: int64"
     },
     "execution_count": 64,
     "metadata": {},
     "output_type": "execute_result"
    }
   ],
   "source": [
    "catdf.nunique()"
   ],
   "metadata": {
    "collapsed": false,
    "ExecuteTime": {
     "end_time": "2023-05-10T15:19:45.140120800Z",
     "start_time": "2023-05-10T15:19:45.072979600Z"
    }
   }
  },
  {
   "cell_type": "code",
   "execution_count": 65,
   "outputs": [],
   "source": [
    "from sklearn.preprocessing import LabelEncoder\n",
    "# Create LabelEncoder object\n",
    "encoder = LabelEncoder()\n",
    "\n",
    "# Encode categorical variables as integers\n",
    "for var in cat_cols:\n",
    "    df[var] = encoder.fit_transform(df[var])"
   ],
   "metadata": {
    "collapsed": false,
    "ExecuteTime": {
     "end_time": "2023-05-10T15:19:45.240458800Z",
     "start_time": "2023-05-10T15:19:45.073979300Z"
    }
   }
  },
  {
   "cell_type": "code",
   "execution_count": 66,
   "outputs": [
    {
     "data": {
      "text/plain": "   1stFlrSF  2ndFlrSF  3SsnPorch  Alley  BedroomAbvGr  BldgType  BsmtCond   \n0     856.0     854.0        0.0      2             3         0         2  \\\n1    1262.0       0.0        0.0      2             3         0         2   \n2     920.0     866.0        0.0      2             3         0         2   \n3     961.0     756.0        0.0      2             3         0         1   \n4    1145.0    1053.0        0.0      2             4         0         2   \n\n   BsmtExposure  BsmtFinSF1  BsmtFinSF2  ...  ScreenPorch  Street   \n0             3       706.0         0.0  ...          0.0       1  \\\n1             1       978.0         0.0  ...          0.0       1   \n2             2       486.0         0.0  ...          0.0       1   \n3             3       216.0         0.0  ...          0.0       1   \n4             0       655.0         0.0  ...          0.0       1   \n\n   TotRmsAbvGrd  TotalBsmtSF  Utilities  WoodDeckSF  YearBuilt  YearRemodAdd   \n0             8        856.0          0         0.0       2003          2003  \\\n1             6       1262.0          0       298.0       1976          1976   \n2             6        920.0          0         0.0       2001          2002   \n3             7        756.0          0         0.0       1915          1970   \n4             9       1145.0          0       192.0       2000          2000   \n\n   YrSold  SalePrice  \n0    2008   208500.0  \n1    2007   181500.0  \n2    2008   223500.0  \n3    2006   140000.0  \n4    2008   250000.0  \n\n[5 rows x 80 columns]",
      "text/html": "<div>\n<style scoped>\n    .dataframe tbody tr th:only-of-type {\n        vertical-align: middle;\n    }\n\n    .dataframe tbody tr th {\n        vertical-align: top;\n    }\n\n    .dataframe thead th {\n        text-align: right;\n    }\n</style>\n<table border=\"1\" class=\"dataframe\">\n  <thead>\n    <tr style=\"text-align: right;\">\n      <th></th>\n      <th>1stFlrSF</th>\n      <th>2ndFlrSF</th>\n      <th>3SsnPorch</th>\n      <th>Alley</th>\n      <th>BedroomAbvGr</th>\n      <th>BldgType</th>\n      <th>BsmtCond</th>\n      <th>BsmtExposure</th>\n      <th>BsmtFinSF1</th>\n      <th>BsmtFinSF2</th>\n      <th>...</th>\n      <th>ScreenPorch</th>\n      <th>Street</th>\n      <th>TotRmsAbvGrd</th>\n      <th>TotalBsmtSF</th>\n      <th>Utilities</th>\n      <th>WoodDeckSF</th>\n      <th>YearBuilt</th>\n      <th>YearRemodAdd</th>\n      <th>YrSold</th>\n      <th>SalePrice</th>\n    </tr>\n  </thead>\n  <tbody>\n    <tr>\n      <th>0</th>\n      <td>856.0</td>\n      <td>854.0</td>\n      <td>0.0</td>\n      <td>2</td>\n      <td>3</td>\n      <td>0</td>\n      <td>2</td>\n      <td>3</td>\n      <td>706.0</td>\n      <td>0.0</td>\n      <td>...</td>\n      <td>0.0</td>\n      <td>1</td>\n      <td>8</td>\n      <td>856.0</td>\n      <td>0</td>\n      <td>0.0</td>\n      <td>2003</td>\n      <td>2003</td>\n      <td>2008</td>\n      <td>208500.0</td>\n    </tr>\n    <tr>\n      <th>1</th>\n      <td>1262.0</td>\n      <td>0.0</td>\n      <td>0.0</td>\n      <td>2</td>\n      <td>3</td>\n      <td>0</td>\n      <td>2</td>\n      <td>1</td>\n      <td>978.0</td>\n      <td>0.0</td>\n      <td>...</td>\n      <td>0.0</td>\n      <td>1</td>\n      <td>6</td>\n      <td>1262.0</td>\n      <td>0</td>\n      <td>298.0</td>\n      <td>1976</td>\n      <td>1976</td>\n      <td>2007</td>\n      <td>181500.0</td>\n    </tr>\n    <tr>\n      <th>2</th>\n      <td>920.0</td>\n      <td>866.0</td>\n      <td>0.0</td>\n      <td>2</td>\n      <td>3</td>\n      <td>0</td>\n      <td>2</td>\n      <td>2</td>\n      <td>486.0</td>\n      <td>0.0</td>\n      <td>...</td>\n      <td>0.0</td>\n      <td>1</td>\n      <td>6</td>\n      <td>920.0</td>\n      <td>0</td>\n      <td>0.0</td>\n      <td>2001</td>\n      <td>2002</td>\n      <td>2008</td>\n      <td>223500.0</td>\n    </tr>\n    <tr>\n      <th>3</th>\n      <td>961.0</td>\n      <td>756.0</td>\n      <td>0.0</td>\n      <td>2</td>\n      <td>3</td>\n      <td>0</td>\n      <td>1</td>\n      <td>3</td>\n      <td>216.0</td>\n      <td>0.0</td>\n      <td>...</td>\n      <td>0.0</td>\n      <td>1</td>\n      <td>7</td>\n      <td>756.0</td>\n      <td>0</td>\n      <td>0.0</td>\n      <td>1915</td>\n      <td>1970</td>\n      <td>2006</td>\n      <td>140000.0</td>\n    </tr>\n    <tr>\n      <th>4</th>\n      <td>1145.0</td>\n      <td>1053.0</td>\n      <td>0.0</td>\n      <td>2</td>\n      <td>4</td>\n      <td>0</td>\n      <td>2</td>\n      <td>0</td>\n      <td>655.0</td>\n      <td>0.0</td>\n      <td>...</td>\n      <td>0.0</td>\n      <td>1</td>\n      <td>9</td>\n      <td>1145.0</td>\n      <td>0</td>\n      <td>192.0</td>\n      <td>2000</td>\n      <td>2000</td>\n      <td>2008</td>\n      <td>250000.0</td>\n    </tr>\n  </tbody>\n</table>\n<p>5 rows × 80 columns</p>\n</div>"
     },
     "execution_count": 66,
     "metadata": {},
     "output_type": "execute_result"
    }
   ],
   "source": [
    "df.head()"
   ],
   "metadata": {
    "collapsed": false,
    "ExecuteTime": {
     "end_time": "2023-05-10T15:19:45.258509300Z",
     "start_time": "2023-05-10T15:19:45.109818600Z"
    }
   }
  },
  {
   "cell_type": "code",
   "execution_count": 67,
   "outputs": [
    {
     "name": "stdout",
     "output_type": "stream",
     "text": [
      "(1379, 79)\n",
      "Selected Features are \n",
      " [ True  True  True False False  True False False  True  True  True False\n",
      " False  True False  True False False False False  True False False  True\n",
      "  True False False False False False False  True False False False False\n",
      "  True False  True False False  True  True False False False  True  True\n",
      " False  True  True  True  True False  True False False  True  True  True\n",
      "  True False False False  True False False False False False  True False\n",
      " False  True False  True False False False]\n"
     ]
    }
   ],
   "source": [
    "target = df['SalePrice']\n",
    "features = df.drop('SalePrice', axis = 1)\n",
    "target.head()\n",
    "\n",
    "from sklearn.feature_selection import SelectPercentile\n",
    "from sklearn.feature_selection import chi2\n",
    "\n",
    "#The top 40% of features will be selected using chi2\n",
    "FeatureSelection = SelectPercentile(score_func= chi2, percentile = 40)\n",
    "\n",
    "selected_features = FeatureSelection.fit_transform(features, target)\n",
    "\n",
    "print(features.shape)\n",
    "print('Selected Features are \\n',FeatureSelection.get_support())"
   ],
   "metadata": {
    "collapsed": false,
    "ExecuteTime": {
     "end_time": "2023-05-10T15:19:45.289997900Z",
     "start_time": "2023-05-10T15:19:45.133153900Z"
    }
   }
  },
  {
   "cell_type": "code",
   "execution_count": 68,
   "outputs": [
    {
     "data": {
      "text/plain": "(80,)"
     },
     "execution_count": 68,
     "metadata": {},
     "output_type": "execute_result"
    }
   ],
   "source": [
    "cols.shape"
   ],
   "metadata": {
    "collapsed": false,
    "ExecuteTime": {
     "end_time": "2023-05-10T15:19:45.290998100Z",
     "start_time": "2023-05-10T15:19:45.159179900Z"
    }
   }
  },
  {
   "cell_type": "code",
   "execution_count": 68,
   "outputs": [],
   "source": [],
   "metadata": {
    "collapsed": false,
    "ExecuteTime": {
     "end_time": "2023-05-10T15:19:45.290998100Z",
     "start_time": "2023-05-10T15:19:45.167475700Z"
    }
   }
  }
 ],
 "metadata": {
  "language_info": {
   "name": "python"
  },
  "orig_nbformat": 4,
  "kernelspec": {
   "name": "python3",
   "language": "python",
   "display_name": "Python 3 (ipykernel)"
  }
 },
 "nbformat": 4,
 "nbformat_minor": 2
}
