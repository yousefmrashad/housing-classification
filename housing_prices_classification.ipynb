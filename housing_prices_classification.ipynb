{
 "cells": [
  {
   "cell_type": "markdown",
   "source": [
    "# Housing Prices Classification"
   ],
   "metadata": {
    "collapsed": false
   }
  },
  {
   "cell_type": "code",
   "execution_count": 82,
   "metadata": {},
   "outputs": [],
   "source": [
    "import pandas as pd\n",
    "import numpy as np\n",
    "import matplotlib.pyplot as plt"
   ]
  },
  {
   "attachments": {},
   "cell_type": "markdown",
   "metadata": {},
   "source": [
    "## Data Preparation"
   ]
  },
  {
   "cell_type": "markdown",
   "source": [
    "### Loading the dataset\n",
    "The dataset file 'Ames_Housing_Sales.csv' is read using `pandas.csv_reader`, and stored in a `pandas.DataFrame`"
   ],
   "metadata": {
    "collapsed": false
   }
  },
  {
   "cell_type": "code",
   "execution_count": 83,
   "metadata": {
    "ExecuteTime": {
     "end_time": "2023-05-12T11:30:47.640246300Z",
     "start_time": "2023-05-12T11:30:47.590069700Z"
    }
   },
   "outputs": [],
   "source": [
    "df = pd.read_csv('Ames_Housing_Sales.csv', na_values='None')"
   ]
  },
  {
   "cell_type": "code",
   "execution_count": 84,
   "metadata": {
    "ExecuteTime": {
     "end_time": "2023-05-12T11:30:47.659540Z",
     "start_time": "2023-05-12T11:30:47.643251Z"
    }
   },
   "outputs": [
    {
     "data": {
      "text/plain": "   1stFlrSF  2ndFlrSF  3SsnPorch Alley  BedroomAbvGr BldgType BsmtCond   \n0     856.0     854.0        0.0   NaN             3     1Fam       TA  \\\n1    1262.0       0.0        0.0   NaN             3     1Fam       TA   \n2     920.0     866.0        0.0   NaN             3     1Fam       TA   \n3     961.0     756.0        0.0   NaN             3     1Fam       Gd   \n4    1145.0    1053.0        0.0   NaN             4     1Fam       TA   \n\n  BsmtExposure  BsmtFinSF1  BsmtFinSF2  ... ScreenPorch Street  TotRmsAbvGrd   \n0           No       706.0         0.0  ...         0.0   Pave             8  \\\n1           Gd       978.0         0.0  ...         0.0   Pave             6   \n2           Mn       486.0         0.0  ...         0.0   Pave             6   \n3           No       216.0         0.0  ...         0.0   Pave             7   \n4           Av       655.0         0.0  ...         0.0   Pave             9   \n\n   TotalBsmtSF Utilities  WoodDeckSF YearBuilt YearRemodAdd YrSold SalePrice  \n0        856.0    AllPub         0.0      2003         2003   2008  208500.0  \n1       1262.0    AllPub       298.0      1976         1976   2007  181500.0  \n2        920.0    AllPub         0.0      2001         2002   2008  223500.0  \n3        756.0    AllPub         0.0      1915         1970   2006  140000.0  \n4       1145.0    AllPub       192.0      2000         2000   2008  250000.0  \n\n[5 rows x 80 columns]",
      "text/html": "<div>\n<style scoped>\n    .dataframe tbody tr th:only-of-type {\n        vertical-align: middle;\n    }\n\n    .dataframe tbody tr th {\n        vertical-align: top;\n    }\n\n    .dataframe thead th {\n        text-align: right;\n    }\n</style>\n<table border=\"1\" class=\"dataframe\">\n  <thead>\n    <tr style=\"text-align: right;\">\n      <th></th>\n      <th>1stFlrSF</th>\n      <th>2ndFlrSF</th>\n      <th>3SsnPorch</th>\n      <th>Alley</th>\n      <th>BedroomAbvGr</th>\n      <th>BldgType</th>\n      <th>BsmtCond</th>\n      <th>BsmtExposure</th>\n      <th>BsmtFinSF1</th>\n      <th>BsmtFinSF2</th>\n      <th>...</th>\n      <th>ScreenPorch</th>\n      <th>Street</th>\n      <th>TotRmsAbvGrd</th>\n      <th>TotalBsmtSF</th>\n      <th>Utilities</th>\n      <th>WoodDeckSF</th>\n      <th>YearBuilt</th>\n      <th>YearRemodAdd</th>\n      <th>YrSold</th>\n      <th>SalePrice</th>\n    </tr>\n  </thead>\n  <tbody>\n    <tr>\n      <th>0</th>\n      <td>856.0</td>\n      <td>854.0</td>\n      <td>0.0</td>\n      <td>NaN</td>\n      <td>3</td>\n      <td>1Fam</td>\n      <td>TA</td>\n      <td>No</td>\n      <td>706.0</td>\n      <td>0.0</td>\n      <td>...</td>\n      <td>0.0</td>\n      <td>Pave</td>\n      <td>8</td>\n      <td>856.0</td>\n      <td>AllPub</td>\n      <td>0.0</td>\n      <td>2003</td>\n      <td>2003</td>\n      <td>2008</td>\n      <td>208500.0</td>\n    </tr>\n    <tr>\n      <th>1</th>\n      <td>1262.0</td>\n      <td>0.0</td>\n      <td>0.0</td>\n      <td>NaN</td>\n      <td>3</td>\n      <td>1Fam</td>\n      <td>TA</td>\n      <td>Gd</td>\n      <td>978.0</td>\n      <td>0.0</td>\n      <td>...</td>\n      <td>0.0</td>\n      <td>Pave</td>\n      <td>6</td>\n      <td>1262.0</td>\n      <td>AllPub</td>\n      <td>298.0</td>\n      <td>1976</td>\n      <td>1976</td>\n      <td>2007</td>\n      <td>181500.0</td>\n    </tr>\n    <tr>\n      <th>2</th>\n      <td>920.0</td>\n      <td>866.0</td>\n      <td>0.0</td>\n      <td>NaN</td>\n      <td>3</td>\n      <td>1Fam</td>\n      <td>TA</td>\n      <td>Mn</td>\n      <td>486.0</td>\n      <td>0.0</td>\n      <td>...</td>\n      <td>0.0</td>\n      <td>Pave</td>\n      <td>6</td>\n      <td>920.0</td>\n      <td>AllPub</td>\n      <td>0.0</td>\n      <td>2001</td>\n      <td>2002</td>\n      <td>2008</td>\n      <td>223500.0</td>\n    </tr>\n    <tr>\n      <th>3</th>\n      <td>961.0</td>\n      <td>756.0</td>\n      <td>0.0</td>\n      <td>NaN</td>\n      <td>3</td>\n      <td>1Fam</td>\n      <td>Gd</td>\n      <td>No</td>\n      <td>216.0</td>\n      <td>0.0</td>\n      <td>...</td>\n      <td>0.0</td>\n      <td>Pave</td>\n      <td>7</td>\n      <td>756.0</td>\n      <td>AllPub</td>\n      <td>0.0</td>\n      <td>1915</td>\n      <td>1970</td>\n      <td>2006</td>\n      <td>140000.0</td>\n    </tr>\n    <tr>\n      <th>4</th>\n      <td>1145.0</td>\n      <td>1053.0</td>\n      <td>0.0</td>\n      <td>NaN</td>\n      <td>4</td>\n      <td>1Fam</td>\n      <td>TA</td>\n      <td>Av</td>\n      <td>655.0</td>\n      <td>0.0</td>\n      <td>...</td>\n      <td>0.0</td>\n      <td>Pave</td>\n      <td>9</td>\n      <td>1145.0</td>\n      <td>AllPub</td>\n      <td>192.0</td>\n      <td>2000</td>\n      <td>2000</td>\n      <td>2008</td>\n      <td>250000.0</td>\n    </tr>\n  </tbody>\n</table>\n<p>5 rows × 80 columns</p>\n</div>"
     },
     "execution_count": 84,
     "metadata": {},
     "output_type": "execute_result"
    }
   ],
   "source": [
    "# viewing the dataset in table format\n",
    "df.head()"
   ]
  },
  {
   "cell_type": "markdown",
   "source": [
    "`DataFrame.info()` is used to provide information about each data feature (`column`), namely, the name, the number of non-null entries, and the datatype(`Dtype`)."
   ],
   "metadata": {
    "collapsed": false
   }
  },
  {
   "cell_type": "code",
   "execution_count": 85,
   "metadata": {
    "ExecuteTime": {
     "end_time": "2023-05-12T11:30:47.771178600Z",
     "start_time": "2023-05-12T11:30:47.686367600Z"
    }
   },
   "outputs": [
    {
     "name": "stdout",
     "output_type": "stream",
     "text": [
      "<class 'pandas.core.frame.DataFrame'>\n",
      "RangeIndex: 1379 entries, 0 to 1378\n",
      "Data columns (total 80 columns):\n",
      " #   Column         Non-Null Count  Dtype  \n",
      "---  ------         --------------  -----  \n",
      " 0   1stFlrSF       1379 non-null   float64\n",
      " 1   2ndFlrSF       1379 non-null   float64\n",
      " 2   3SsnPorch      1379 non-null   float64\n",
      " 3   Alley          82 non-null     object \n",
      " 4   BedroomAbvGr   1379 non-null   int64  \n",
      " 5   BldgType       1379 non-null   object \n",
      " 6   BsmtCond       953 non-null    object \n",
      " 7   BsmtExposure   953 non-null    object \n",
      " 8   BsmtFinSF1     1379 non-null   float64\n",
      " 9   BsmtFinSF2     1379 non-null   float64\n",
      " 10  BsmtFinType1   953 non-null    object \n",
      " 11  BsmtFinType2   952 non-null    object \n",
      " 12  BsmtFullBath   1379 non-null   int64  \n",
      " 13  BsmtHalfBath   1379 non-null   int64  \n",
      " 14  BsmtQual       953 non-null    object \n",
      " 15  BsmtUnfSF      1379 non-null   float64\n",
      " 16  CentralAir     1379 non-null   object \n",
      " 17  Condition1     1379 non-null   object \n",
      " 18  Condition2     1379 non-null   object \n",
      " 19  Electrical     1379 non-null   object \n",
      " 20  EnclosedPorch  1379 non-null   float64\n",
      " 21  ExterCond      1379 non-null   object \n",
      " 22  ExterQual      1379 non-null   object \n",
      " 23  Exterior1st    1379 non-null   object \n",
      " 24  Exterior2nd    1379 non-null   object \n",
      " 25  Fence          265 non-null    object \n",
      " 26  FireplaceQu    761 non-null    object \n",
      " 27  Fireplaces     1379 non-null   int64  \n",
      " 28  Foundation     1379 non-null   object \n",
      " 29  FullBath       1379 non-null   int64  \n",
      " 30  Functional     1379 non-null   object \n",
      " 31  GarageArea     1379 non-null   float64\n",
      " 32  GarageCars     1379 non-null   int64  \n",
      " 33  GarageCond     1379 non-null   object \n",
      " 34  GarageFinish   1379 non-null   object \n",
      " 35  GarageQual     1379 non-null   object \n",
      " 36  GarageType     1379 non-null   object \n",
      " 37  GarageYrBlt    1379 non-null   float64\n",
      " 38  GrLivArea      1379 non-null   float64\n",
      " 39  HalfBath       1379 non-null   int64  \n",
      " 40  Heating        1379 non-null   object \n",
      " 41  HeatingQC      1379 non-null   object \n",
      " 42  HouseStyle     1379 non-null   object \n",
      " 43  KitchenAbvGr   1379 non-null   int64  \n",
      " 44  KitchenQual    1379 non-null   object \n",
      " 45  LandContour    1379 non-null   object \n",
      " 46  LandSlope      1379 non-null   object \n",
      " 47  LotArea        1379 non-null   float64\n",
      " 48  LotConfig      1379 non-null   object \n",
      " 49  LotFrontage    1379 non-null   float64\n",
      " 50  LotShape       1379 non-null   object \n",
      " 51  LowQualFinSF   1379 non-null   float64\n",
      " 52  MSSubClass     1379 non-null   int64  \n",
      " 53  MSZoning       1379 non-null   object \n",
      " 54  MasVnrArea     1379 non-null   float64\n",
      " 55  MasVnrType     582 non-null    object \n",
      " 56  MiscFeature    51 non-null     object \n",
      " 57  MiscVal        1379 non-null   float64\n",
      " 58  MoSold         1379 non-null   int64  \n",
      " 59  Neighborhood   1379 non-null   object \n",
      " 60  OpenPorchSF    1379 non-null   float64\n",
      " 61  OverallCond    1379 non-null   int64  \n",
      " 62  OverallQual    1379 non-null   int64  \n",
      " 63  PavedDrive     1379 non-null   object \n",
      " 64  PoolArea       1379 non-null   float64\n",
      " 65  PoolQC         7 non-null      object \n",
      " 66  RoofMatl       1379 non-null   object \n",
      " 67  RoofStyle      1379 non-null   object \n",
      " 68  SaleCondition  1379 non-null   object \n",
      " 69  SaleType       1379 non-null   object \n",
      " 70  ScreenPorch    1379 non-null   float64\n",
      " 71  Street         1379 non-null   object \n",
      " 72  TotRmsAbvGrd   1379 non-null   int64  \n",
      " 73  TotalBsmtSF    1379 non-null   float64\n",
      " 74  Utilities      1379 non-null   object \n",
      " 75  WoodDeckSF     1379 non-null   float64\n",
      " 76  YearBuilt      1379 non-null   int64  \n",
      " 77  YearRemodAdd   1379 non-null   int64  \n",
      " 78  YrSold         1379 non-null   int64  \n",
      " 79  SalePrice      1379 non-null   float64\n",
      "dtypes: float64(21), int64(16), object(43)\n",
      "memory usage: 862.0+ KB\n"
     ]
    }
   ],
   "source": [
    "#displaying information for each feature (column)\n",
    "df.info()"
   ]
  },
  {
   "cell_type": "markdown",
   "source": [
    "### Data Cleaning"
   ],
   "metadata": {
    "collapsed": false
   }
  },
  {
   "attachments": {},
   "cell_type": "markdown",
   "metadata": {},
   "source": [
    "#### Check Null Values\n",
    "the `DataFrame.isna()` function of the DataFrame is used to return the subset of the data containing `null` values and storing the `sum()` into `na_vals`.\n",
    "The subset of columns containing null values is displayed along with the number of null values for each column."
   ]
  },
  {
   "cell_type": "markdown",
   "source": [],
   "metadata": {
    "collapsed": false
   }
  },
  {
   "cell_type": "code",
   "execution_count": 86,
   "metadata": {
    "ExecuteTime": {
     "end_time": "2023-05-12T11:30:47.785113100Z",
     "start_time": "2023-05-12T11:30:47.693381400Z"
    }
   },
   "outputs": [
    {
     "name": "stdout",
     "output_type": "stream",
     "text": [
      " == 11 Columns ==\n",
      "Alley           1297\n",
      "BsmtCond         426\n",
      "BsmtExposure     426\n",
      "BsmtFinType1     426\n",
      "BsmtFinType2     427\n",
      "BsmtQual         426\n",
      "Fence           1114\n",
      "FireplaceQu      618\n",
      "MasVnrType       797\n",
      "MiscFeature     1328\n",
      "PoolQC          1372\n",
      "dtype: int64\n"
     ]
    }
   ],
   "source": [
    "# Check missing values\n",
    "na_vals = df.isna().sum()\n",
    "\n",
    "#filter out the columns that have 0 null values\n",
    "na_cols = na_vals[na_vals > 0]\n",
    "\n",
    "print(f\" == {len(na_cols)} Columns ==\")\n",
    "print(na_cols)"
   ]
  },
  {
   "cell_type": "markdown",
   "source": [
    "As can be seen, the number of missing values for each column is very high. This indicates that the features entailed are not reliable for data analysis. The columns will be dropped to avoid losing the bulk of data from the dataset. The `DataFrame.dropna()` function is utilized along `axis = 1`, indicating the `columns` instead of rows."
   ],
   "metadata": {
    "collapsed": false
   }
  },
  {
   "cell_type": "code",
   "execution_count": 87,
   "metadata": {
    "ExecuteTime": {
     "end_time": "2023-05-12T11:30:47.786149700Z",
     "start_time": "2023-05-12T11:30:47.702990900Z"
    }
   },
   "outputs": [],
   "source": [
    "df.dropna(axis=1, inplace=True)"
   ]
  },
  {
   "attachments": {},
   "cell_type": "markdown",
   "metadata": {},
   "source": [
    "#### Check Duplicates\n",
    "The dataset is checked for duplicated values using `DataFrame.duplicated()`. `sum()` yields the total number of duplicates."
   ]
  },
  {
   "cell_type": "code",
   "execution_count": 88,
   "metadata": {
    "ExecuteTime": {
     "end_time": "2023-05-12T11:30:47.787113Z",
     "start_time": "2023-05-12T11:30:47.738029200Z"
    }
   },
   "outputs": [
    {
     "data": {
      "text/plain": "0"
     },
     "execution_count": 88,
     "metadata": {},
     "output_type": "execute_result"
    }
   ],
   "source": [
    "df.duplicated().sum()"
   ]
  },
  {
   "cell_type": "markdown",
   "source": [
    "No duplicates found. No further actions are needed."
   ],
   "metadata": {
    "collapsed": false
   }
  },
  {
   "attachments": {},
   "cell_type": "markdown",
   "metadata": {},
   "source": [
    "#### Get numerical & categorical features\n",
    "The dataset is analyzed against the presence of categorical features. This is in order to later encode them to be ready for classification.\n",
    "`DataFrame.select_dtypes` returns the subset of the data of a specific datatype or superset of datatypes.\n",
    "A `pandas.Index` is created from the subtraction of the set of numerical features from the total set of features."
   ]
  },
  {
   "cell_type": "code",
   "execution_count": 89,
   "metadata": {
    "ExecuteTime": {
     "end_time": "2023-05-12T11:30:47.787113Z",
     "start_time": "2023-05-12T11:30:47.738029200Z"
    }
   },
   "outputs": [],
   "source": [
    "#return columns of `np.number` datatype\n",
    "num_cols = df.select_dtypes(np.number).columns\n",
    "\n",
    "#substract numerical columns from the total set of columns to get categorical features\n",
    "cat_cols = pd.Index(list(set(df.columns) - set(num_cols)))"
   ]
  },
  {
   "cell_type": "markdown",
   "source": [
    "The `cat_cols` index is used to index `df` to obtain the number of unique values for each feature. This is accomplished using `DataFrame.nunique()`"
   ],
   "metadata": {
    "collapsed": false
   }
  },
  {
   "cell_type": "code",
   "execution_count": 90,
   "metadata": {
    "ExecuteTime": {
     "end_time": "2023-05-12T11:30:47.787113Z",
     "start_time": "2023-05-12T11:30:47.738029200Z"
    }
   },
   "outputs": [
    {
     "data": {
      "text/plain": "Foundation        6\nKitchenQual       4\nRoofStyle         6\nHeating           6\nGarageType        6\nLotShape          4\nCentralAir        2\nGarageCond        5\nGarageQual        5\nExterior2nd      16\nElectrical        5\nExterior1st      14\nMSZoning          5\nCondition2        8\nLandSlope         3\nExterQual         4\nGarageFinish      3\nFunctional        7\nSaleType          9\nBldgType          5\nUtilities         2\nNeighborhood     25\nSaleCondition     6\nLotConfig         5\nExterCond         4\nCondition1        9\nHouseStyle        8\nRoofMatl          8\nLandContour       4\nStreet            2\nPavedDrive        3\nHeatingQC         5\ndtype: int64"
     },
     "execution_count": 90,
     "metadata": {},
     "output_type": "execute_result"
    }
   ],
   "source": [
    "# Check unique values for each feature\n",
    "df[cat_cols].nunique()"
   ]
  },
  {
   "attachments": {},
   "cell_type": "markdown",
   "metadata": {},
   "source": [
    "#### Encode categorical features\n",
    "The `LabelEncoder` class from scikit-learn is imported to assign a unique integer value for each unique category.\n",
    "The `LabelEncoder.fit_transform()` function firstly computes the unique integers for each feature and then transforms the original dataset `df`."
   ]
  },
  {
   "cell_type": "code",
   "execution_count": 91,
   "metadata": {
    "ExecuteTime": {
     "end_time": "2023-05-12T11:30:47.787113Z",
     "start_time": "2023-05-12T11:30:47.751190Z"
    }
   },
   "outputs": [],
   "source": [
    "#Import LabelEncoder\n",
    "from sklearn.preprocessing import LabelEncoder\n",
    "le = LabelEncoder()\n",
    "\n",
    "#Iterate over the categorical features of df and transform them\n",
    "for cat_col in cat_cols:\n",
    "    df[cat_col] = le.fit_transform(df[cat_col])"
   ]
  },
  {
   "cell_type": "code",
   "execution_count": 92,
   "metadata": {
    "ExecuteTime": {
     "end_time": "2023-05-12T11:30:47.797155200Z",
     "start_time": "2023-05-12T11:30:47.777908100Z"
    }
   },
   "outputs": [
    {
     "data": {
      "text/plain": "   1stFlrSF  2ndFlrSF  3SsnPorch  BedroomAbvGr  BldgType  BsmtFinSF1   \n0     856.0     854.0        0.0             3         0       706.0  \\\n1    1262.0       0.0        0.0             3         0       978.0   \n2     920.0     866.0        0.0             3         0       486.0   \n3     961.0     756.0        0.0             3         0       216.0   \n4    1145.0    1053.0        0.0             4         0       655.0   \n\n   BsmtFinSF2  BsmtFullBath  BsmtHalfBath  BsmtUnfSF  ...  ScreenPorch   \n0         0.0             1             0      150.0  ...          0.0  \\\n1         0.0             0             1      284.0  ...          0.0   \n2         0.0             1             0      434.0  ...          0.0   \n3         0.0             1             0      540.0  ...          0.0   \n4         0.0             1             0      490.0  ...          0.0   \n\n   Street  TotRmsAbvGrd  TotalBsmtSF  Utilities  WoodDeckSF  YearBuilt   \n0       1             8        856.0          0         0.0       2003  \\\n1       1             6       1262.0          0       298.0       1976   \n2       1             6        920.0          0         0.0       2001   \n3       1             7        756.0          0         0.0       1915   \n4       1             9       1145.0          0       192.0       2000   \n\n   YearRemodAdd  YrSold  SalePrice  \n0          2003    2008   208500.0  \n1          1976    2007   181500.0  \n2          2002    2008   223500.0  \n3          1970    2006   140000.0  \n4          2000    2008   250000.0  \n\n[5 rows x 69 columns]",
      "text/html": "<div>\n<style scoped>\n    .dataframe tbody tr th:only-of-type {\n        vertical-align: middle;\n    }\n\n    .dataframe tbody tr th {\n        vertical-align: top;\n    }\n\n    .dataframe thead th {\n        text-align: right;\n    }\n</style>\n<table border=\"1\" class=\"dataframe\">\n  <thead>\n    <tr style=\"text-align: right;\">\n      <th></th>\n      <th>1stFlrSF</th>\n      <th>2ndFlrSF</th>\n      <th>3SsnPorch</th>\n      <th>BedroomAbvGr</th>\n      <th>BldgType</th>\n      <th>BsmtFinSF1</th>\n      <th>BsmtFinSF2</th>\n      <th>BsmtFullBath</th>\n      <th>BsmtHalfBath</th>\n      <th>BsmtUnfSF</th>\n      <th>...</th>\n      <th>ScreenPorch</th>\n      <th>Street</th>\n      <th>TotRmsAbvGrd</th>\n      <th>TotalBsmtSF</th>\n      <th>Utilities</th>\n      <th>WoodDeckSF</th>\n      <th>YearBuilt</th>\n      <th>YearRemodAdd</th>\n      <th>YrSold</th>\n      <th>SalePrice</th>\n    </tr>\n  </thead>\n  <tbody>\n    <tr>\n      <th>0</th>\n      <td>856.0</td>\n      <td>854.0</td>\n      <td>0.0</td>\n      <td>3</td>\n      <td>0</td>\n      <td>706.0</td>\n      <td>0.0</td>\n      <td>1</td>\n      <td>0</td>\n      <td>150.0</td>\n      <td>...</td>\n      <td>0.0</td>\n      <td>1</td>\n      <td>8</td>\n      <td>856.0</td>\n      <td>0</td>\n      <td>0.0</td>\n      <td>2003</td>\n      <td>2003</td>\n      <td>2008</td>\n      <td>208500.0</td>\n    </tr>\n    <tr>\n      <th>1</th>\n      <td>1262.0</td>\n      <td>0.0</td>\n      <td>0.0</td>\n      <td>3</td>\n      <td>0</td>\n      <td>978.0</td>\n      <td>0.0</td>\n      <td>0</td>\n      <td>1</td>\n      <td>284.0</td>\n      <td>...</td>\n      <td>0.0</td>\n      <td>1</td>\n      <td>6</td>\n      <td>1262.0</td>\n      <td>0</td>\n      <td>298.0</td>\n      <td>1976</td>\n      <td>1976</td>\n      <td>2007</td>\n      <td>181500.0</td>\n    </tr>\n    <tr>\n      <th>2</th>\n      <td>920.0</td>\n      <td>866.0</td>\n      <td>0.0</td>\n      <td>3</td>\n      <td>0</td>\n      <td>486.0</td>\n      <td>0.0</td>\n      <td>1</td>\n      <td>0</td>\n      <td>434.0</td>\n      <td>...</td>\n      <td>0.0</td>\n      <td>1</td>\n      <td>6</td>\n      <td>920.0</td>\n      <td>0</td>\n      <td>0.0</td>\n      <td>2001</td>\n      <td>2002</td>\n      <td>2008</td>\n      <td>223500.0</td>\n    </tr>\n    <tr>\n      <th>3</th>\n      <td>961.0</td>\n      <td>756.0</td>\n      <td>0.0</td>\n      <td>3</td>\n      <td>0</td>\n      <td>216.0</td>\n      <td>0.0</td>\n      <td>1</td>\n      <td>0</td>\n      <td>540.0</td>\n      <td>...</td>\n      <td>0.0</td>\n      <td>1</td>\n      <td>7</td>\n      <td>756.0</td>\n      <td>0</td>\n      <td>0.0</td>\n      <td>1915</td>\n      <td>1970</td>\n      <td>2006</td>\n      <td>140000.0</td>\n    </tr>\n    <tr>\n      <th>4</th>\n      <td>1145.0</td>\n      <td>1053.0</td>\n      <td>0.0</td>\n      <td>4</td>\n      <td>0</td>\n      <td>655.0</td>\n      <td>0.0</td>\n      <td>1</td>\n      <td>0</td>\n      <td>490.0</td>\n      <td>...</td>\n      <td>0.0</td>\n      <td>1</td>\n      <td>9</td>\n      <td>1145.0</td>\n      <td>0</td>\n      <td>192.0</td>\n      <td>2000</td>\n      <td>2000</td>\n      <td>2008</td>\n      <td>250000.0</td>\n    </tr>\n  </tbody>\n</table>\n<p>5 rows × 69 columns</p>\n</div>"
     },
     "execution_count": 92,
     "metadata": {},
     "output_type": "execute_result"
    }
   ],
   "source": [
    "df.head()"
   ]
  },
  {
   "cell_type": "markdown",
   "source": [
    "As can be observed, the data is now purely numerical."
   ],
   "metadata": {
    "collapsed": false
   }
  },
  {
   "attachments": {},
   "cell_type": "markdown",
   "metadata": {},
   "source": [
    "#### Outlier Removal\n",
    "In this section, the dataset will be analyzed against the presence of outliers, and if detected, will be removed.\n",
    "The target variable \"SalePrice\" is stored in variable `y`. It is, then, visualized using a Box Plot."
   ]
  },
  {
   "cell_type": "code",
   "execution_count": 93,
   "metadata": {
    "ExecuteTime": {
     "end_time": "2023-05-12T11:30:48.249600500Z",
     "start_time": "2023-05-12T11:30:48.153538700Z"
    }
   },
   "outputs": [
    {
     "data": {
      "text/plain": "<Axes: >"
     },
     "execution_count": 93,
     "metadata": {},
     "output_type": "execute_result"
    },
    {
     "data": {
      "text/plain": "<Figure size 640x480 with 1 Axes>",
      "image/png": "[encoded data removed]"
     },
     "metadata": {},
     "output_type": "display_data"
    }
   ],
   "source": [
    "y = df[\"SalePrice\"]\n",
    "y.plot(kind=\"box\")"
   ]
  },
  {
   "cell_type": "markdown",
   "source": [
    "As can be observed, a number of outliers is are located outside the third quartile. Below, it is seen that these data points are only 76. They will be removed, for 76 is a small number compared to the size of the dataset."
   ],
   "metadata": {
    "collapsed": false
   }
  },
  {
   "cell_type": "code",
   "execution_count": 94,
   "metadata": {
    "ExecuteTime": {
     "end_time": "2023-05-12T11:30:48.255816100Z",
     "start_time": "2023-05-12T11:30:48.251566100Z"
    }
   },
   "outputs": [
    {
     "name": "stdout",
     "output_type": "stream",
     "text": [
      "76\n"
     ]
    }
   ],
   "source": [
    "# Check number of sample above certain price\n",
    "max_price = 325000\n",
    "print(len(y[y > max_price]))"
   ]
  },
  {
   "cell_type": "markdown",
   "source": [
    "`df` is reassigned to the subset of data below the `max_price`. The dataset is then split into features `X` and target `y` i.e. the \"SalePrice\" feature."
   ],
   "metadata": {
    "collapsed": false
   }
  },
  {
   "cell_type": "code",
   "execution_count": 95,
   "metadata": {
    "ExecuteTime": {
     "end_time": "2023-05-12T11:30:48.264859Z",
     "start_time": "2023-05-12T11:30:48.256824600Z"
    }
   },
   "outputs": [],
   "source": [
    "# Samples above that number are considered as outliers\n",
    "df = df[y < max_price]\n",
    "\n",
    "# Separate data into features and target\n",
    "x = df.drop(\"SalePrice\", axis=1)\n",
    "y = df[\"SalePrice\"]"
   ]
  },
  {
   "attachments": {},
   "cell_type": "markdown",
   "metadata": {},
   "source": [
    "### Data Scaling\n",
    "The `StandardScaler` class is imported from scikit-learn to standardize features stored in `x` by removing the mean and scaling to unit variance. `fit_transform` is explained previously."
   ]
  },
  {
   "cell_type": "code",
   "execution_count": 96,
   "metadata": {
    "ExecuteTime": {
     "end_time": "2023-05-12T11:30:48.362136100Z",
     "start_time": "2023-05-12T11:30:48.269960500Z"
    }
   },
   "outputs": [
    {
     "data": {
      "text/plain": "         0         1         2         3         4         5         6    \n0 -0.799945  1.239028 -0.117513  0.187396 -0.411888  0.664251 -0.298908  \\\n1  0.338556 -0.802365 -0.117513  0.187396 -0.411888  1.301372 -0.298908   \n2 -0.620477  1.267713 -0.117513  0.187396 -0.411888  0.148933 -0.298908   \n3 -0.505505  1.004770 -0.117513  0.187396 -0.411888 -0.483502 -0.298908   \n4  0.010466  1.714716 -0.117513  1.482225 -0.411888  0.544791 -0.298908   \n\n         7         8         9   ...        58        59        60        61   \n0  1.158936 -0.251106 -0.958988  ...  0.294611 -0.276684  0.062161  1.058807  \\\n1 -0.806414  3.877845 -0.647367  ...  0.294611 -0.276684  0.062161 -0.283692   \n2  1.158936 -0.251106 -0.298538  ...  0.294611 -0.276684  0.062161 -0.283692   \n3  1.158936 -0.251106 -0.052032  ...  0.294611 -0.276684  0.062161  0.387558   \n4  1.158936 -0.251106 -0.168308  ...  0.294611 -0.276684  0.062161  1.730057   \n\n         62        63        64        65        66        67  \n0 -0.443419 -0.027756 -0.750723  1.083272  0.909845  0.143770  \n1  0.564175 -0.027756  1.703848  0.155943 -0.407322 -0.609282  \n2 -0.284587 -0.027756 -0.750723  1.014581  0.861061  0.143770  \n3 -0.691595 -0.027756 -0.750723 -1.939134 -0.700025 -1.362334  \n4  0.273809 -0.027756  0.830745  0.980236  0.763493  0.143770  \n\n[5 rows x 68 columns]",
      "text/html": "<div>\n<style scoped>\n    .dataframe tbody tr th:only-of-type {\n        vertical-align: middle;\n    }\n\n    .dataframe tbody tr th {\n        vertical-align: top;\n    }\n\n    .dataframe thead th {\n        text-align: right;\n    }\n</style>\n<table border=\"1\" class=\"dataframe\">\n  <thead>\n    <tr style=\"text-align: right;\">\n      <th></th>\n      <th>0</th>\n      <th>1</th>\n      <th>2</th>\n      <th>3</th>\n      <th>4</th>\n      <th>5</th>\n      <th>6</th>\n      <th>7</th>\n      <th>8</th>\n      <th>9</th>\n      <th>...</th>\n      <th>58</th>\n      <th>59</th>\n      <th>60</th>\n      <th>61</th>\n      <th>62</th>\n      <th>63</th>\n      <th>64</th>\n      <th>65</th>\n      <th>66</th>\n      <th>67</th>\n    </tr>\n  </thead>\n  <tbody>\n    <tr>\n      <th>0</th>\n      <td>-0.799945</td>\n      <td>1.239028</td>\n      <td>-0.117513</td>\n      <td>0.187396</td>\n      <td>-0.411888</td>\n      <td>0.664251</td>\n      <td>-0.298908</td>\n      <td>1.158936</td>\n      <td>-0.251106</td>\n      <td>-0.958988</td>\n      <td>...</td>\n      <td>0.294611</td>\n      <td>-0.276684</td>\n      <td>0.062161</td>\n      <td>1.058807</td>\n      <td>-0.443419</td>\n      <td>-0.027756</td>\n      <td>-0.750723</td>\n      <td>1.083272</td>\n      <td>0.909845</td>\n      <td>0.143770</td>\n    </tr>\n    <tr>\n      <th>1</th>\n      <td>0.338556</td>\n      <td>-0.802365</td>\n      <td>-0.117513</td>\n      <td>0.187396</td>\n      <td>-0.411888</td>\n      <td>1.301372</td>\n      <td>-0.298908</td>\n      <td>-0.806414</td>\n      <td>3.877845</td>\n      <td>-0.647367</td>\n      <td>...</td>\n      <td>0.294611</td>\n      <td>-0.276684</td>\n      <td>0.062161</td>\n      <td>-0.283692</td>\n      <td>0.564175</td>\n      <td>-0.027756</td>\n      <td>1.703848</td>\n      <td>0.155943</td>\n      <td>-0.407322</td>\n      <td>-0.609282</td>\n    </tr>\n    <tr>\n      <th>2</th>\n      <td>-0.620477</td>\n      <td>1.267713</td>\n      <td>-0.117513</td>\n      <td>0.187396</td>\n      <td>-0.411888</td>\n      <td>0.148933</td>\n      <td>-0.298908</td>\n      <td>1.158936</td>\n      <td>-0.251106</td>\n      <td>-0.298538</td>\n      <td>...</td>\n      <td>0.294611</td>\n      <td>-0.276684</td>\n      <td>0.062161</td>\n      <td>-0.283692</td>\n      <td>-0.284587</td>\n      <td>-0.027756</td>\n      <td>-0.750723</td>\n      <td>1.014581</td>\n      <td>0.861061</td>\n      <td>0.143770</td>\n    </tr>\n    <tr>\n      <th>3</th>\n      <td>-0.505505</td>\n      <td>1.004770</td>\n      <td>-0.117513</td>\n      <td>0.187396</td>\n      <td>-0.411888</td>\n      <td>-0.483502</td>\n      <td>-0.298908</td>\n      <td>1.158936</td>\n      <td>-0.251106</td>\n      <td>-0.052032</td>\n      <td>...</td>\n      <td>0.294611</td>\n      <td>-0.276684</td>\n      <td>0.062161</td>\n      <td>0.387558</td>\n      <td>-0.691595</td>\n      <td>-0.027756</td>\n      <td>-0.750723</td>\n      <td>-1.939134</td>\n      <td>-0.700025</td>\n      <td>-1.362334</td>\n    </tr>\n    <tr>\n      <th>4</th>\n      <td>0.010466</td>\n      <td>1.714716</td>\n      <td>-0.117513</td>\n      <td>1.482225</td>\n      <td>-0.411888</td>\n      <td>0.544791</td>\n      <td>-0.298908</td>\n      <td>1.158936</td>\n      <td>-0.251106</td>\n      <td>-0.168308</td>\n      <td>...</td>\n      <td>0.294611</td>\n      <td>-0.276684</td>\n      <td>0.062161</td>\n      <td>1.730057</td>\n      <td>0.273809</td>\n      <td>-0.027756</td>\n      <td>0.830745</td>\n      <td>0.980236</td>\n      <td>0.763493</td>\n      <td>0.143770</td>\n    </tr>\n  </tbody>\n</table>\n<p>5 rows × 68 columns</p>\n</div>"
     },
     "execution_count": 96,
     "metadata": {},
     "output_type": "execute_result"
    }
   ],
   "source": [
    "#Import StandardScaler\n",
    "from sklearn.preprocessing import StandardScaler\n",
    "\n",
    "#Scale X\n",
    "x = StandardScaler().fit_transform(x)\n",
    "\n",
    "pd.DataFrame(x).head()"
   ]
  },
  {
   "attachments": {},
   "cell_type": "markdown",
   "metadata": {},
   "source": [
    "### Target Grouping\n",
    "In order to classify housing prices into a specified set of classes, the target variable \"SalePrice\" needs to be divided into classes. This is accomplished using clustering techniques, as the classes are not defined a priori."
   ]
  },
  {
   "cell_type": "code",
   "execution_count": 97,
   "metadata": {
    "ExecuteTime": {
     "end_time": "2023-05-12T11:30:48.616167100Z",
     "start_time": "2023-05-12T11:30:48.293442600Z"
    }
   },
   "outputs": [
    {
     "data": {
      "text/plain": "<Axes: >"
     },
     "execution_count": 97,
     "metadata": {},
     "output_type": "execute_result"
    },
    {
     "data": {
      "text/plain": "<Figure size 640x480 with 1 Axes>",
      "image/png": "[encoded data removed]"
     },
     "metadata": {},
     "output_type": "display_data"
    }
   ],
   "source": [
    "# Show the box plot of the target variable `y`\n",
    "y.plot(kind=\"box\")"
   ]
  },
  {
   "cell_type": "code",
   "execution_count": 98,
   "outputs": [
    {
     "data": {
      "text/plain": "<Axes: ylabel='Density'>"
     },
     "execution_count": 98,
     "metadata": {},
     "output_type": "execute_result"
    },
    {
     "data": {
      "text/plain": "<Figure size 640x480 with 1 Axes>",
      "image/png": "[encoded data removed]"
     },
     "metadata": {},
     "output_type": "display_data"
    }
   ],
   "source": [
    "# Show the KDE plot of the target variable `y`\n",
    "y.plot(kind = \"kde\")"
   ],
   "metadata": {
    "collapsed": false,
    "ExecuteTime": {
     "end_time": "2023-05-12T11:30:48.640975700Z",
     "start_time": "2023-05-12T11:30:48.413768500Z"
    }
   }
  },
  {
   "cell_type": "markdown",
   "source": [
    "From the plot above, it can be concluded that the `y` is not skewed, i.e. distributed somewhat equally around the mean."
   ],
   "metadata": {
    "collapsed": false
   }
  },
  {
   "cell_type": "markdown",
   "source": [
    "The target `y` will be clustered into distinct groups using the scikit-learn class KMeans, which is an implementation of the k-means clustering algorithm.\n",
    "The number of clusters `k` is set to 4.\n",
    "`random_state` is used to produce repeatable results.\n",
    "`n_init` is the number of times the k-means algorithm is run with different centroid seeds. it is set to 'auto'.\n",
    "As required by the KMeans class, `y` is reshaped into a 2D array using `numpy.reshape()`.\n",
    "\n",
    "`KMeans.fit_predict()` returns an array of cluster values, each for each data point.\n",
    "`KMeans.cluster_centers_` stores the center of cluster for each data point"
   ],
   "metadata": {
    "collapsed": false
   }
  },
  {
   "cell_type": "code",
   "execution_count": 99,
   "metadata": {
    "ExecuteTime": {
     "end_time": "2023-05-12T11:30:48.829069500Z",
     "start_time": "2023-05-12T11:30:48.630978500Z"
    }
   },
   "outputs": [
    {
     "data": {
      "text/plain": "0    3\n1    3\n2    3\n3    1\n4    0\ndtype: int32"
     },
     "execution_count": 99,
     "metadata": {},
     "output_type": "execute_result"
    }
   ],
   "source": [
    "from sklearn.cluster import KMeans\n",
    "\n",
    "#initialize kmeans clustering algorithm\n",
    "k = 4\n",
    "kmeans = KMeans(n_clusters=k, random_state=10, n_init='auto')\n",
    "\n",
    "#predict cluster for each data point, store them in y_clustered\n",
    "y_clustered = pd.Series(kmeans.fit_predict(np.array(y).reshape(-1, 1)))\n",
    "\n",
    "#store cluster center for each data point\n",
    "y_centers = pd.Series(kmeans.cluster_centers_[i] for i in y_clustered).astype(\"float64\")\n",
    "\n",
    "#view y_clustered\n",
    "y_clustered.head()"
   ]
  },
  {
   "cell_type": "code",
   "execution_count": 100,
   "outputs": [
    {
     "data": {
      "text/plain": "144590.733615    473\n193875.531579    388\n103281.471616    229\n266245.267281    209\nName: count, dtype: int64"
     },
     "execution_count": 100,
     "metadata": {},
     "output_type": "execute_result"
    }
   ],
   "source": [
    "#view the centers and number of data points assigned to each\n",
    "y_centers.value_counts()"
   ],
   "metadata": {
    "collapsed": false,
    "ExecuteTime": {
     "end_time": "2023-05-12T11:30:48.832635200Z",
     "start_time": "2023-05-12T11:30:48.657741800Z"
    }
   }
  },
  {
   "cell_type": "markdown",
   "source": [
    "`y` and `y_centers` are plotted using histograms to show the distribution of data before clustering and its distribution in the individual clusters."
   ],
   "metadata": {
    "collapsed": false
   }
  },
  {
   "cell_type": "code",
   "execution_count": 101,
   "metadata": {
    "ExecuteTime": {
     "end_time": "2023-05-12T11:30:49.053935100Z",
     "start_time": "2023-05-12T11:30:48.673493900Z"
    }
   },
   "outputs": [
    {
     "data": {
      "text/plain": "Text(0, 0.5, 'Frequency')"
     },
     "execution_count": 101,
     "metadata": {},
     "output_type": "execute_result"
    },
    {
     "data": {
      "text/plain": "<Figure size 1500x500 with 2 Axes>",
      "image/png": "[encoded data removed]"
     },
     "metadata": {},
     "output_type": "display_data"
    }
   ],
   "source": [
    "fig, ax = plt.subplots(figsize=(15, 5), ncols=2)\n",
    "b = 10\n",
    "\n",
    "y.plot(color=\"#004D98\", kind=\"hist\", bins=b, ax=ax[0])\n",
    "ax[0].set_title('Distribution of Housing Prices')\n",
    "ax[0].set_xlabel('Sale Price')\n",
    "ax[0].set_ylabel('Frequency')\n",
    "\n",
    "\n",
    "y_centers.plot(color=\"#DB0030\", kind=\"hist\", bins=b, ax=ax[1])\n",
    "ax[1].set_title('Distribution of Housing Prices')\n",
    "ax[1].set_xlabel('Sale Price')\n",
    "ax[1].set_ylabel('Frequency')"
   ]
  },
  {
   "attachments": {},
   "cell_type": "markdown",
   "metadata": {},
   "source": [
    "## Classification Algorithms"
   ]
  },
  {
   "attachments": {},
   "cell_type": "markdown",
   "metadata": {},
   "source": [
    "### Feature Selection\n",
    "After the preliminary analysis and exploration of the dataset, it is evident that the dataset contains a lot of unwanted or unhelpful features. These features can worsen the model or cause it to over-fit to the training data. To avoid this, the use of feature selection is needed.\n",
    "\n",
    "Two feature selection algorithms from scikit-learn will be used:\n",
    "- `SelectPercentile` which selects the top percentile of the features after applying the scoring function.\n",
    "- `SelectFromModel` which selects the features that best fit a certain Machine Learning model. Two models are used: `ExtraTreesClassifier` and `RandomForestClassifier`, both of which are classification algorithms that are based on Decision Trees."
   ]
  },
  {
   "cell_type": "markdown",
   "source": [
    "The following statement gets a `pandas.Index` of feature names, excluding the target variable \"SalePrice\""
   ],
   "metadata": {
    "collapsed": false
   }
  },
  {
   "cell_type": "code",
   "execution_count": 115,
   "metadata": {
    "ExecuteTime": {
     "end_time": "2023-05-12T13:32:23.378655100Z",
     "start_time": "2023-05-12T13:32:23.353169Z"
    }
   },
   "outputs": [
    {
     "data": {
      "text/plain": "Index(['1stFlrSF', '2ndFlrSF', '3SsnPorch', 'BedroomAbvGr', 'BldgType',\n       'BsmtFinSF1', 'BsmtFinSF2', 'BsmtFullBath', 'BsmtHalfBath', 'BsmtUnfSF',\n       'CentralAir', 'Condition1', 'Condition2', 'Electrical', 'EnclosedPorch',\n       'ExterCond', 'ExterQual', 'Exterior1st', 'Exterior2nd', 'Fireplaces',\n       'Foundation', 'FullBath', 'Functional', 'GarageArea', 'GarageCars',\n       'GarageCond', 'GarageFinish', 'GarageQual', 'GarageType', 'GarageYrBlt',\n       'GrLivArea', 'HalfBath', 'Heating', 'HeatingQC', 'HouseStyle',\n       'KitchenAbvGr', 'KitchenQual', 'LandContour', 'LandSlope', 'LotArea',\n       'LotConfig', 'LotFrontage', 'LotShape', 'LowQualFinSF', 'MSSubClass',\n       'MSZoning', 'MasVnrArea', 'MiscVal', 'MoSold', 'Neighborhood',\n       'OpenPorchSF', 'OverallCond', 'OverallQual', 'PavedDrive', 'PoolArea',\n       'RoofMatl', 'RoofStyle', 'SaleCondition', 'SaleType', 'ScreenPorch',\n       'Street', 'TotRmsAbvGrd', 'TotalBsmtSF', 'Utilities', 'WoodDeckSF',\n       'YearBuilt', 'YearRemodAdd', 'YrSold'],\n      dtype='object')"
     },
     "execution_count": 115,
     "metadata": {},
     "output_type": "execute_result"
    }
   ],
   "source": [
    "# Get Index of feature names\n",
    "features = df.drop(\"SalePrice\", axis=1).columns\n",
    "features"
   ]
  },
  {
   "cell_type": "markdown",
   "source": [
    "#### Feature Selection by percentile\n",
    "In the following cell, features will be selected based on a percentile of features ranked by their scores. This will utilize the `SelectPercentile` class. Scores will be determined using the `f_classif` function which implements the ANOVA(Analysis Of Variance) F-value method.\n",
    "\n",
    "The `f_sel` object of `SelectPercentile` returns `x_fcif` which is the subset of columns it has chosen via its `fit_transform` function. The features and target are inputs to the function. A percentile of 50% of the features will be chosen."
   ],
   "metadata": {
    "collapsed": false
   }
  },
  {
   "cell_type": "code",
   "execution_count": 149,
   "metadata": {
    "ExecuteTime": {
     "end_time": "2023-05-12T14:27:48.904846Z",
     "start_time": "2023-05-12T14:27:48.860664800Z"
    }
   },
   "outputs": [
    {
     "data": {
      "text/plain": "array([[-0.79994514,  1.23902827,  0.66425144, ..., -0.44341939,\n         1.08327216,  0.90984503],\n       [ 0.33855565, -0.80236521,  1.30137196, ...,  0.56417549,\n         0.15594296, -0.40732155],\n       [-0.62047704,  1.26771296,  0.14893338, ..., -0.2845867 ,\n         1.0145811 ,  0.86106108],\n       ...,\n       [ 0.13104565,  1.95136464, -0.3453035 , ...,  0.2911818 ,\n        -1.04615043,  1.05619687],\n       [-0.17741515, -0.80236521, -0.87467569, ...,  0.1075315 ,\n        -0.7370407 ,  0.5683574 ],\n       [ 0.32173051, -0.80236521,  0.95470344, ...,  0.54928492,\n        -0.22185782, -0.94394497]])"
     },
     "execution_count": 149,
     "metadata": {},
     "output_type": "execute_result"
    }
   ],
   "source": [
    "# Import feature selection algorithms\n",
    "from sklearn.feature_selection import SelectFromModel, SelectPercentile\n",
    "# Import scoring function\n",
    "from sklearn.feature_selection import f_classif\n",
    "\n",
    "# f_classification\n",
    "f_sel = SelectPercentile(score_func=f_classif, percentile=50)\n",
    "x_fcif = f_sel.fit_transform(x, y)\n",
    "x_fcif"
   ]
  },
  {
   "cell_type": "markdown",
   "source": [
    "#### Feature Selection for an Extra Trees model\n",
    "In this algorithm, features will be chosen for an Extra Trees classification model. The model is firstly imported, instantiated as `etc`, initialized with 50 estimators(trees), and, then, fit to the data.\n",
    "\n",
    "The selector is instantiated as `etc_sel`, initialized with the model, and it is specified that the model has been fit before feature selection using `prefit = True`.\n",
    "The model is pre-fit to improve accuracy of feature selection.\n",
    "\n",
    "`x_etc` is, similarly, the subset of chosen columns, however, it is obtained from the `transform` function instead of `fit_transform`, because the model was pre-fit to the data."
   ],
   "metadata": {
    "collapsed": false
   }
  },
  {
   "cell_type": "code",
   "execution_count": 150,
   "outputs": [
    {
     "data": {
      "text/plain": "array([[-0.79994514,  1.23902827,  0.18739624, ...,  1.08327216,\n         0.90984503,  0.14376973],\n       [ 0.33855565, -0.80236521,  0.18739624, ...,  0.15594296,\n        -0.40732155, -0.60928222],\n       [-0.62047704,  1.26771296,  0.18739624, ...,  1.0145811 ,\n         0.86106108,  0.14376973],\n       ...,\n       [ 0.13104565,  1.95136464,  1.48222455, ..., -1.04615043,\n         1.05619687,  1.64987365],\n       [-0.17741515, -0.80236521, -1.10743206, ..., -0.7370407 ,\n         0.5683574 ,  1.64987365],\n       [ 0.32173051, -0.80236521,  0.18739624, ..., -0.22185782,\n        -0.94394497,  0.14376973]])"
     },
     "execution_count": 150,
     "metadata": {},
     "output_type": "execute_result"
    }
   ],
   "source": [
    "# Import ExtraTrees classifier\n",
    "from sklearn.ensemble import ExtraTreesClassifier\n",
    "\n",
    "# Initialize model with 50 estimators and fit to data\n",
    "etc = ExtraTreesClassifier(n_estimators=50).fit(x, y)\n",
    "\n",
    "# Select from model\n",
    "etc_sel = SelectFromModel(etc, prefit=True)\n",
    "x_etc = etc_sel.transform(x)\n",
    "x_etc"
   ],
   "metadata": {
    "collapsed": false,
    "ExecuteTime": {
     "end_time": "2023-05-12T14:27:51.751119400Z",
     "start_time": "2023-05-12T14:27:50.137405500Z"
    }
   }
  },
  {
   "cell_type": "markdown",
   "source": [
    "#### Feature Selection for a Random Forest model\n",
    "This cell is similar to the previous one, only different in the type of model, which, in this case, is the `RandomForestClassifier`."
   ],
   "metadata": {
    "collapsed": false
   }
  },
  {
   "cell_type": "code",
   "execution_count": 151,
   "outputs": [
    {
     "data": {
      "text/plain": "array([[-0.79994514,  1.23902827,  0.66425144, ...,  1.08327216,\n         0.90984503,  0.14376973],\n       [ 0.33855565, -0.80236521,  1.30137196, ...,  0.15594296,\n        -0.40732155, -0.60928222],\n       [-0.62047704,  1.26771296,  0.14893338, ...,  1.0145811 ,\n         0.86106108,  0.14376973],\n       ...,\n       [ 0.13104565,  1.95136464, -0.3453035 , ..., -1.04615043,\n         1.05619687,  1.64987365],\n       [-0.17741515, -0.80236521, -0.87467569, ..., -0.7370407 ,\n         0.5683574 ,  1.64987365],\n       [ 0.32173051, -0.80236521,  0.95470344, ..., -0.22185782,\n        -0.94394497,  0.14376973]])"
     },
     "execution_count": 151,
     "metadata": {},
     "output_type": "execute_result"
    }
   ],
   "source": [
    "# Import RandomForest classifier\n",
    "from sklearn.ensemble import RandomForestClassifier\n",
    "\n",
    "# Initialize model with 50 estimators and fit to data\n",
    "rfc = RandomForestClassifier(n_estimators=50).fit(x, y)\n",
    "\n",
    "# Select from model\n",
    "rfc_sel = SelectFromModel(rfc, prefit=True)\n",
    "x_rfc = rfc_sel.transform(x)\n",
    "x_rfc"
   ],
   "metadata": {
    "collapsed": false,
    "ExecuteTime": {
     "end_time": "2023-05-12T14:27:54.198365800Z",
     "start_time": "2023-05-12T14:27:51.753119200Z"
    }
   }
  },
  {
   "cell_type": "markdown",
   "source": [
    "#### Analyzing Selections\n"
   ],
   "metadata": {
    "collapsed": false
   }
  },
  {
   "cell_type": "code",
   "execution_count": 104,
   "metadata": {
    "ExecuteTime": {
     "end_time": "2023-05-12T11:30:52.821728100Z",
     "start_time": "2023-05-12T11:30:52.804055Z"
    }
   },
   "outputs": [],
   "source": [
    "selected_features = pd.Series(np.concatenate((f_sel.get_feature_names_out(features),\n",
    "                                    etc_sel.get_feature_names_out(features),\n",
    "                                    rfc_sel.get_feature_names_out(features))))"
   ]
  },
  {
   "cell_type": "code",
   "execution_count": 137,
   "metadata": {
    "ExecuteTime": {
     "end_time": "2023-05-12T14:24:30.863337100Z",
     "start_time": "2023-05-12T14:24:30.839568200Z"
    }
   },
   "outputs": [
    {
     "data": {
      "text/plain": "0         1stFlrSF\n1         2ndFlrSF\n2       BsmtFinSF1\n3        BsmtUnfSF\n4       CentralAir\n          ...     \n83     TotalBsmtSF\n84      WoodDeckSF\n85       YearBuilt\n86    YearRemodAdd\n87          YrSold\nLength: 88, dtype: object"
     },
     "execution_count": 137,
     "metadata": {},
     "output_type": "execute_result"
    }
   ],
   "source": [
    "selected_features.value_counts() == 3"
   ]
  },
  {
   "cell_type": "markdown",
   "source": [
    "### train_evaluate() function\n",
    "\n",
    "This function trains and evaluates a machine learning model on a given dataset. The function takes the following arguments:\n",
    "\n",
    "`model`: The machine learning model to train and evaluate.\n",
    "`x`: The feature data.\n",
    "`y`: The target data.\n",
    "`grid_params`: A dictionary of hyperparameters to tune using grid search. If None, grid search will not be used.\n",
    "`cv`: The number of folds to use for cross-validation.\n",
    "\n",
    "The function first splits the data into train and test sets. If grid search is being used, the function then performs grid search to find the best hyperparameters for the model. The function then trains the model on the train set and evaluates the model on the test set. The function prints the classification report and confusion matrix for the model.\n",
    "\n",
    "The `train_evaluate()` function can be used to train and evaluate any machine learning model. It is a useful function for comparing different models and for finding the best hyperparameters for a given model."
   ],
   "metadata": {
    "collapsed": false
   }
  },
  {
   "cell_type": "code",
   "execution_count": 106,
   "metadata": {
    "ExecuteTime": {
     "end_time": "2023-05-12T11:30:52.857496600Z",
     "start_time": "2023-05-12T11:30:52.833530600Z"
    }
   },
   "outputs": [],
   "source": [
    "from sklearn.metrics import classification_report, confusion_matrix, ConfusionMatrixDisplay\n",
    "from sklearn.model_selection import train_test_split, GridSearchCV\n",
    "\n",
    "def train_evaluate(model, x, y, grid_params=None, cv=5):\n",
    "    # split data into train & test sets\n",
    "    x_train, x_test, y_train, y_test = train_test_split(x, y, test_size=0.1, random_state=10)\n",
    "\n",
    "    # check for applying grid search\n",
    "    if grid_params is None:\n",
    "        model.fit(x_train, y_train)\n",
    "    else:\n",
    "        model_gs = GridSearchCV(model, grid_params, scoring='balanced_accuracy', cv=cv, return_train_score=True)\n",
    "        model_gs.fit(x_train, y_train)\n",
    "        print(model_gs.best_params_)\n",
    "        model = model_gs.best_estimator_\n",
    "\n",
    "    # predict test results\n",
    "    y_pred = model.predict(x_test)\n",
    "\n",
    "    # show results\n",
    "    print(\"Classification Report:\")\n",
    "    print(classification_report(y_test, y_pred))\n",
    "    print(\"Confusion_Matrix:\")\n",
    "    ConfusionMatrixDisplay(confusion_matrix(y_test, y_pred)).plot()\n",
    "\n",
    "    return model"
   ]
  },
  {
   "attachments": {},
   "cell_type": "markdown",
   "metadata": {},
   "source": [
    "### KNN"
   ]
  },
  {
   "cell_type": "code",
   "execution_count": 145,
   "metadata": {
    "ExecuteTime": {
     "end_time": "2023-05-12T14:27:17.949079Z",
     "start_time": "2023-05-12T14:27:15.876779600Z"
    }
   },
   "outputs": [
    {
     "name": "stdout",
     "output_type": "stream",
     "text": [
      "{'n_neighbors': 7, 'weights': 'distance'}\n",
      "Classification Report:\n",
      "              precision    recall  f1-score   support\n",
      "\n",
      "           0       0.68      0.68      0.68        19\n",
      "           1       0.68      0.77      0.72        44\n",
      "           2       0.81      0.62      0.70        21\n",
      "           3       0.73      0.72      0.73        46\n",
      "\n",
      "    accuracy                           0.72       130\n",
      "   macro avg       0.73      0.70      0.71       130\n",
      "weighted avg       0.72      0.72      0.71       130\n",
      "\n",
      "Confusion_Matrix:\n"
     ]
    },
    {
     "data": {
      "text/plain": "<Figure size 640x480 with 2 Axes>",
      "image/png": "[encoded data removed]"
     },
     "metadata": {},
     "output_type": "display_data"
    }
   ],
   "source": [
    "from sklearn.neighbors import KNeighborsClassifier\n",
    "\n",
    "# KNeighborsClassifier??\n",
    "grid_params = {\"n_neighbors\": [5, 7, 9], \"weights\": [\"uniform\", \"distance\"]}\n",
    "knn = train_evaluate(KNeighborsClassifier(), x_rfc, y_clustered, grid_params)"
   ]
  },
  {
   "attachments": {},
   "cell_type": "markdown",
   "metadata": {},
   "source": [
    "### Naive Bayes"
   ]
  },
  {
   "cell_type": "code",
   "execution_count": 146,
   "metadata": {
    "ExecuteTime": {
     "end_time": "2023-05-12T14:27:20.788490700Z",
     "start_time": "2023-05-12T14:27:20.579209600Z"
    }
   },
   "outputs": [
    {
     "name": "stdout",
     "output_type": "stream",
     "text": [
      "Classification Report:\n",
      "              precision    recall  f1-score   support\n",
      "\n",
      "           0       0.25      1.00      0.40        19\n",
      "           1       0.51      0.52      0.52        44\n",
      "           2       0.57      0.19      0.29        21\n",
      "           3       1.00      0.02      0.04        46\n",
      "\n",
      "    accuracy                           0.36       130\n",
      "   macro avg       0.58      0.43      0.31       130\n",
      "weighted avg       0.66      0.36      0.29       130\n",
      "\n",
      "Confusion_Matrix:\n"
     ]
    },
    {
     "data": {
      "text/plain": "<Figure size 640x480 with 2 Axes>",
      "image/png": "[encoded data removed]"
     },
     "metadata": {},
     "output_type": "display_data"
    }
   ],
   "source": [
    "from sklearn.naive_bayes import GaussianNB\n",
    "gnb = train_evaluate(GaussianNB(), x_fcif, y_clustered)"
   ]
  },
  {
   "cell_type": "code",
   "execution_count": 147,
   "metadata": {
    "ExecuteTime": {
     "end_time": "2023-05-12T14:27:24.509843Z",
     "start_time": "2023-05-12T14:27:24.315125100Z"
    }
   },
   "outputs": [
    {
     "name": "stdout",
     "output_type": "stream",
     "text": [
      "Classification Report:\n",
      "              precision    recall  f1-score   support\n",
      "\n",
      "           0       0.60      0.79      0.68        19\n",
      "           1       0.69      0.70      0.70        44\n",
      "           2       0.67      0.86      0.75        21\n",
      "           3       0.82      0.59      0.68        46\n",
      "\n",
      "    accuracy                           0.70       130\n",
      "   macro avg       0.69      0.73      0.70       130\n",
      "weighted avg       0.72      0.70      0.70       130\n",
      "\n",
      "Confusion_Matrix:\n"
     ]
    },
    {
     "data": {
      "text/plain": "<Figure size 640x480 with 2 Axes>",
      "image/png": "[encoded data removed]"
     },
     "metadata": {},
     "output_type": "display_data"
    }
   ],
   "source": [
    "from sklearn.naive_bayes import BernoulliNB\n",
    "mnb = train_evaluate(BernoulliNB(), x_fcif, y_clustered)"
   ]
  },
  {
   "attachments": {},
   "cell_type": "markdown",
   "metadata": {},
   "source": [
    "### Combining Classifiers"
   ]
  },
  {
   "cell_type": "code",
   "execution_count": 148,
   "metadata": {
    "ExecuteTime": {
     "end_time": "2023-05-12T14:27:27.741594200Z",
     "start_time": "2023-05-12T14:27:27.405583Z"
    }
   },
   "outputs": [
    {
     "name": "stdout",
     "output_type": "stream",
     "text": [
      "Classification Report:\n",
      "              precision    recall  f1-score   support\n",
      "\n",
      "           0       0.65      0.79      0.71        19\n",
      "           1       0.67      0.73      0.70        44\n",
      "           2       0.63      0.57      0.60        21\n",
      "           3       0.80      0.70      0.74        46\n",
      "\n",
      "    accuracy                           0.70       130\n",
      "   macro avg       0.69      0.70      0.69       130\n",
      "weighted avg       0.71      0.70      0.70       130\n",
      "\n",
      "Confusion_Matrix:\n"
     ]
    },
    {
     "data": {
      "text/plain": "StackingClassifier(estimators=[('knn',\n                                KNeighborsClassifier(n_neighbors=9,\n                                                     weights='distance')),\n                               ('gnb', GaussianNB())],\n                   final_estimator=KNeighborsClassifier(n_neighbors=9,\n                                                        weights='distance'))",
      "text/html": "<style>#sk-container-id-6 {color: black;background-color: white;}#sk-container-id-6 pre{padding: 0;}#sk-container-id-6 div.sk-toggleable {background-color: white;}#sk-container-id-6 label.sk-toggleable__label {cursor: pointer;display: block;width: 100%;margin-bottom: 0;padding: 0.3em;box-sizing: border-box;text-align: center;}#sk-container-id-6 label.sk-toggleable__label-arrow:before {content: \"▸\";float: left;margin-right: 0.25em;color: #696969;}#sk-container-id-6 label.sk-toggleable__label-arrow:hover:before {color: black;}#sk-container-id-6 div.sk-estimator:hover label.sk-toggleable__label-arrow:before {color: black;}#sk-container-id-6 div.sk-toggleable__content {max-height: 0;max-width: 0;overflow: hidden;text-align: left;background-color: #f0f8ff;}#sk-container-id-6 div.sk-toggleable__content pre {margin: 0.2em;color: black;border-radius: 0.25em;background-color: #f0f8ff;}#sk-container-id-6 input.sk-toggleable__control:checked~div.sk-toggleable__content {max-height: 200px;max-width: 100%;overflow: auto;}#sk-container-id-6 input.sk-toggleable__control:checked~label.sk-toggleable__label-arrow:before {content: \"▾\";}#sk-container-id-6 div.sk-estimator input.sk-toggleable__control:checked~label.sk-toggleable__label {background-color: #d4ebff;}#sk-container-id-6 div.sk-label input.sk-toggleable__control:checked~label.sk-toggleable__label {background-color: #d4ebff;}#sk-container-id-6 input.sk-hidden--visually {border: 0;clip: rect(1px 1px 1px 1px);clip: rect(1px, 1px, 1px, 1px);height: 1px;margin: -1px;overflow: hidden;padding: 0;position: absolute;width: 1px;}#sk-container-id-6 div.sk-estimator {font-family: monospace;background-color: #f0f8ff;border: 1px dotted black;border-radius: 0.25em;box-sizing: border-box;margin-bottom: 0.5em;}#sk-container-id-6 div.sk-estimator:hover {background-color: #d4ebff;}#sk-container-id-6 div.sk-parallel-item::after {content: \"\";width: 100%;border-bottom: 1px solid gray;flex-grow: 1;}#sk-container-id-6 div.sk-label:hover label.sk-toggleable__label {background-color: #d4ebff;}#sk-container-id-6 div.sk-serial::before {content: \"\";position: absolute;border-left: 1px solid gray;box-sizing: border-box;top: 0;bottom: 0;left: 50%;z-index: 0;}#sk-container-id-6 div.sk-serial {display: flex;flex-direction: column;align-items: center;background-color: white;padding-right: 0.2em;padding-left: 0.2em;position: relative;}#sk-container-id-6 div.sk-item {position: relative;z-index: 1;}#sk-container-id-6 div.sk-parallel {display: flex;align-items: stretch;justify-content: center;background-color: white;position: relative;}#sk-container-id-6 div.sk-item::before, #sk-container-id-6 div.sk-parallel-item::before {content: \"\";position: absolute;border-left: 1px solid gray;box-sizing: border-box;top: 0;bottom: 0;left: 50%;z-index: -1;}#sk-container-id-6 div.sk-parallel-item {display: flex;flex-direction: column;z-index: 1;position: relative;background-color: white;}#sk-container-id-6 div.sk-parallel-item:first-child::after {align-self: flex-end;width: 50%;}#sk-container-id-6 div.sk-parallel-item:last-child::after {align-self: flex-start;width: 50%;}#sk-container-id-6 div.sk-parallel-item:only-child::after {width: 0;}#sk-container-id-6 div.sk-dashed-wrapped {border: 1px dashed gray;margin: 0 0.4em 0.5em 0.4em;box-sizing: border-box;padding-bottom: 0.4em;background-color: white;}#sk-container-id-6 div.sk-label label {font-family: monospace;font-weight: bold;display: inline-block;line-height: 1.2em;}#sk-container-id-6 div.sk-label-container {text-align: center;}#sk-container-id-6 div.sk-container {/* jupyter's `normalize.less` sets `[hidden] { display: none; }` but bootstrap.min.css set `[hidden] { display: none !important; }` so we also need the `!important` here to be able to override the default hidden behavior on the sphinx rendered scikit-learn.org. See: https://github.com/scikit-learn/scikit-learn/issues/21755 */display: inline-block !important;position: relative;}#sk-container-id-6 div.sk-text-repr-fallback {display: none;}</style><div id=\"sk-container-id-6\" class=\"sk-top-container\"><div class=\"sk-text-repr-fallback\"><pre>StackingClassifier(estimators=[(&#x27;knn&#x27;,\n                                KNeighborsClassifier(n_neighbors=9,\n                                                     weights=&#x27;distance&#x27;)),\n                               (&#x27;gnb&#x27;, GaussianNB())],\n                   final_estimator=KNeighborsClassifier(n_neighbors=9,\n                                                        weights=&#x27;distance&#x27;))</pre><b>In a Jupyter environment, please rerun this cell to show the HTML representation or trust the notebook. <br />On GitHub, the HTML representation is unable to render, please try loading this page with nbviewer.org.</b></div><div class=\"sk-container\" hidden><div class=\"sk-item sk-dashed-wrapped\"><div class=\"sk-label-container\"><div class=\"sk-label sk-toggleable\"><input class=\"sk-toggleable__control sk-hidden--visually\" id=\"sk-estimator-id-20\" type=\"checkbox\" ><label for=\"sk-estimator-id-20\" class=\"sk-toggleable__label sk-toggleable__label-arrow\">StackingClassifier</label><div class=\"sk-toggleable__content\"><pre>StackingClassifier(estimators=[(&#x27;knn&#x27;,\n                                KNeighborsClassifier(n_neighbors=9,\n                                                     weights=&#x27;distance&#x27;)),\n                               (&#x27;gnb&#x27;, GaussianNB())],\n                   final_estimator=KNeighborsClassifier(n_neighbors=9,\n                                                        weights=&#x27;distance&#x27;))</pre></div></div></div><div class=\"sk-serial\"><div class=\"sk-item\"><div class=\"sk-parallel\"><div class=\"sk-parallel-item\"><div class=\"sk-item\"><div class=\"sk-label-container\"><div class=\"sk-label sk-toggleable\"><label>knn</label></div></div><div class=\"sk-serial\"><div class=\"sk-item\"><div class=\"sk-estimator sk-toggleable\"><input class=\"sk-toggleable__control sk-hidden--visually\" id=\"sk-estimator-id-21\" type=\"checkbox\" ><label for=\"sk-estimator-id-21\" class=\"sk-toggleable__label sk-toggleable__label-arrow\">KNeighborsClassifier</label><div class=\"sk-toggleable__content\"><pre>KNeighborsClassifier(n_neighbors=9, weights=&#x27;distance&#x27;)</pre></div></div></div></div></div></div><div class=\"sk-parallel-item\"><div class=\"sk-item\"><div class=\"sk-label-container\"><div class=\"sk-label sk-toggleable\"><label>gnb</label></div></div><div class=\"sk-serial\"><div class=\"sk-item\"><div class=\"sk-estimator sk-toggleable\"><input class=\"sk-toggleable__control sk-hidden--visually\" id=\"sk-estimator-id-22\" type=\"checkbox\" ><label for=\"sk-estimator-id-22\" class=\"sk-toggleable__label sk-toggleable__label-arrow\">GaussianNB</label><div class=\"sk-toggleable__content\"><pre>GaussianNB()</pre></div></div></div></div></div></div></div></div><div class=\"sk-item\"><div class=\"sk-parallel\"><div class=\"sk-parallel-item\"><div class=\"sk-item\"><div class=\"sk-label-container\"><div class=\"sk-label sk-toggleable\"><label>final_estimator</label></div></div><div class=\"sk-serial\"><div class=\"sk-item\"><div class=\"sk-estimator sk-toggleable\"><input class=\"sk-toggleable__control sk-hidden--visually\" id=\"sk-estimator-id-23\" type=\"checkbox\" ><label for=\"sk-estimator-id-23\" class=\"sk-toggleable__label sk-toggleable__label-arrow\">KNeighborsClassifier</label><div class=\"sk-toggleable__content\"><pre>KNeighborsClassifier(n_neighbors=9, weights=&#x27;distance&#x27;)</pre></div></div></div></div></div></div></div></div></div></div></div></div>"
     },
     "execution_count": 148,
     "metadata": {},
     "output_type": "execute_result"
    },
    {
     "data": {
      "text/plain": "<Figure size 640x480 with 2 Axes>",
      "image/png": "[encoded data removed]"
     },
     "metadata": {},
     "output_type": "display_data"
    }
   ],
   "source": [
    "from sklearn.ensemble import StackingClassifier\n",
    "\n",
    "s_knn = KNeighborsClassifier(n_neighbors=9, weights=\"distance\")\n",
    "s_gnb = GaussianNB()\n",
    "s_bnb = BernoulliNB()\n",
    "stacked = StackingClassifier(estimators=[('knn', s_knn), ('gnb', s_gnb)], final_estimator=s_knn)\n",
    "\n",
    "train_evaluate(stacked, x_fcif, y_clustered)"
   ]
  }
 ],
 "metadata": {
  "kernelspec": {
   "display_name": "Python 3",
   "language": "python",
   "name": "python3"
  },
  "language_info": {
   "codemirror_mode": {
    "name": "ipython",
    "version": 3
   },
   "file_extension": ".py",
   "mimetype": "text/x-python",
   "name": "python",
   "nbconvert_exporter": "python",
   "pygments_lexer": "ipython3",
   "version": "3.10.10"
  },
  "orig_nbformat": 4
 },
 "nbformat": 4,
 "nbformat_minor": 2
}
