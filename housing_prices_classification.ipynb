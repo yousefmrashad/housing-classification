{
 "cells": [
  {
   "attachments": {},
   "cell_type": "markdown",
   "metadata": {
    "collapsed": false
   },
   "source": [
    "# Housing Prices Classification"
   ]
  },
  {
   "cell_type": "code",
   "execution_count": 71,
   "metadata": {
    "ExecuteTime": {
     "end_time": "2023-05-12T14:59:02.387356300Z",
     "start_time": "2023-05-12T14:59:02.005697500Z"
    }
   },
   "outputs": [],
   "source": [
    "import pandas as pd\n",
    "import numpy as np\n",
    "import matplotlib.pyplot as plt"
   ]
  },
  {
   "attachments": {},
   "cell_type": "markdown",
   "metadata": {},
   "source": [
    "## Data Preparation"
   ]
  },
  {
   "attachments": {},
   "cell_type": "markdown",
   "metadata": {
    "collapsed": false
   },
   "source": [
    "### Loading the dataset\n",
    "The dataset file 'Ames_Housing_Sales.csv' is read using `pandas.csv_reader`, and stored in a `pandas.DataFrame`"
   ]
  },
  {
   "cell_type": "code",
   "execution_count": 72,
   "metadata": {
    "ExecuteTime": {
     "end_time": "2023-05-12T14:59:02.676612700Z",
     "start_time": "2023-05-12T14:59:02.021077800Z"
    }
   },
   "outputs": [],
   "source": [
    "df = pd.read_csv('Ames_Housing_Sales.csv', na_values='None')"
   ]
  },
  {
   "cell_type": "code",
   "execution_count": 73,
   "metadata": {
    "ExecuteTime": {
     "end_time": "2023-05-12T14:59:02.680612300Z",
     "start_time": "2023-05-12T14:59:02.045165900Z"
    }
   },
   "outputs": [
    {
     "data": {
      "text/html": [
       "<div>\n",
       "<style scoped>\n",
       "    .dataframe tbody tr th:only-of-type {\n",
       "        vertical-align: middle;\n",
       "    }\n",
       "\n",
       "    .dataframe tbody tr th {\n",
       "        vertical-align: top;\n",
       "    }\n",
       "\n",
       "    .dataframe thead th {\n",
       "        text-align: right;\n",
       "    }\n",
       "</style>\n",
       "<table border=\"1\" class=\"dataframe\">\n",
       "  <thead>\n",
       "    <tr style=\"text-align: right;\">\n",
       "      <th></th>\n",
       "      <th>1stFlrSF</th>\n",
       "      <th>2ndFlrSF</th>\n",
       "      <th>3SsnPorch</th>\n",
       "      <th>Alley</th>\n",
       "      <th>BedroomAbvGr</th>\n",
       "      <th>BldgType</th>\n",
       "      <th>BsmtCond</th>\n",
       "      <th>BsmtExposure</th>\n",
       "      <th>BsmtFinSF1</th>\n",
       "      <th>BsmtFinSF2</th>\n",
       "      <th>...</th>\n",
       "      <th>ScreenPorch</th>\n",
       "      <th>Street</th>\n",
       "      <th>TotRmsAbvGrd</th>\n",
       "      <th>TotalBsmtSF</th>\n",
       "      <th>Utilities</th>\n",
       "      <th>WoodDeckSF</th>\n",
       "      <th>YearBuilt</th>\n",
       "      <th>YearRemodAdd</th>\n",
       "      <th>YrSold</th>\n",
       "      <th>SalePrice</th>\n",
       "    </tr>\n",
       "  </thead>\n",
       "  <tbody>\n",
       "    <tr>\n",
       "      <th>0</th>\n",
       "      <td>856.0</td>\n",
       "      <td>854.0</td>\n",
       "      <td>0.0</td>\n",
       "      <td>NaN</td>\n",
       "      <td>3</td>\n",
       "      <td>1Fam</td>\n",
       "      <td>TA</td>\n",
       "      <td>No</td>\n",
       "      <td>706.0</td>\n",
       "      <td>0.0</td>\n",
       "      <td>...</td>\n",
       "      <td>0.0</td>\n",
       "      <td>Pave</td>\n",
       "      <td>8</td>\n",
       "      <td>856.0</td>\n",
       "      <td>AllPub</td>\n",
       "      <td>0.0</td>\n",
       "      <td>2003</td>\n",
       "      <td>2003</td>\n",
       "      <td>2008</td>\n",
       "      <td>208500.0</td>\n",
       "    </tr>\n",
       "    <tr>\n",
       "      <th>1</th>\n",
       "      <td>1262.0</td>\n",
       "      <td>0.0</td>\n",
       "      <td>0.0</td>\n",
       "      <td>NaN</td>\n",
       "      <td>3</td>\n",
       "      <td>1Fam</td>\n",
       "      <td>TA</td>\n",
       "      <td>Gd</td>\n",
       "      <td>978.0</td>\n",
       "      <td>0.0</td>\n",
       "      <td>...</td>\n",
       "      <td>0.0</td>\n",
       "      <td>Pave</td>\n",
       "      <td>6</td>\n",
       "      <td>1262.0</td>\n",
       "      <td>AllPub</td>\n",
       "      <td>298.0</td>\n",
       "      <td>1976</td>\n",
       "      <td>1976</td>\n",
       "      <td>2007</td>\n",
       "      <td>181500.0</td>\n",
       "    </tr>\n",
       "    <tr>\n",
       "      <th>2</th>\n",
       "      <td>920.0</td>\n",
       "      <td>866.0</td>\n",
       "      <td>0.0</td>\n",
       "      <td>NaN</td>\n",
       "      <td>3</td>\n",
       "      <td>1Fam</td>\n",
       "      <td>TA</td>\n",
       "      <td>Mn</td>\n",
       "      <td>486.0</td>\n",
       "      <td>0.0</td>\n",
       "      <td>...</td>\n",
       "      <td>0.0</td>\n",
       "      <td>Pave</td>\n",
       "      <td>6</td>\n",
       "      <td>920.0</td>\n",
       "      <td>AllPub</td>\n",
       "      <td>0.0</td>\n",
       "      <td>2001</td>\n",
       "      <td>2002</td>\n",
       "      <td>2008</td>\n",
       "      <td>223500.0</td>\n",
       "    </tr>\n",
       "    <tr>\n",
       "      <th>3</th>\n",
       "      <td>961.0</td>\n",
       "      <td>756.0</td>\n",
       "      <td>0.0</td>\n",
       "      <td>NaN</td>\n",
       "      <td>3</td>\n",
       "      <td>1Fam</td>\n",
       "      <td>Gd</td>\n",
       "      <td>No</td>\n",
       "      <td>216.0</td>\n",
       "      <td>0.0</td>\n",
       "      <td>...</td>\n",
       "      <td>0.0</td>\n",
       "      <td>Pave</td>\n",
       "      <td>7</td>\n",
       "      <td>756.0</td>\n",
       "      <td>AllPub</td>\n",
       "      <td>0.0</td>\n",
       "      <td>1915</td>\n",
       "      <td>1970</td>\n",
       "      <td>2006</td>\n",
       "      <td>140000.0</td>\n",
       "    </tr>\n",
       "    <tr>\n",
       "      <th>4</th>\n",
       "      <td>1145.0</td>\n",
       "      <td>1053.0</td>\n",
       "      <td>0.0</td>\n",
       "      <td>NaN</td>\n",
       "      <td>4</td>\n",
       "      <td>1Fam</td>\n",
       "      <td>TA</td>\n",
       "      <td>Av</td>\n",
       "      <td>655.0</td>\n",
       "      <td>0.0</td>\n",
       "      <td>...</td>\n",
       "      <td>0.0</td>\n",
       "      <td>Pave</td>\n",
       "      <td>9</td>\n",
       "      <td>1145.0</td>\n",
       "      <td>AllPub</td>\n",
       "      <td>192.0</td>\n",
       "      <td>2000</td>\n",
       "      <td>2000</td>\n",
       "      <td>2008</td>\n",
       "      <td>250000.0</td>\n",
       "    </tr>\n",
       "  </tbody>\n",
       "</table>\n",
       "<p>5 rows × 80 columns</p>\n",
       "</div>"
      ],
      "text/plain": [
       "   1stFlrSF  2ndFlrSF  3SsnPorch Alley  BedroomAbvGr BldgType BsmtCond   \n",
       "0     856.0     854.0        0.0   NaN             3     1Fam       TA  \\\n",
       "1    1262.0       0.0        0.0   NaN             3     1Fam       TA   \n",
       "2     920.0     866.0        0.0   NaN             3     1Fam       TA   \n",
       "3     961.0     756.0        0.0   NaN             3     1Fam       Gd   \n",
       "4    1145.0    1053.0        0.0   NaN             4     1Fam       TA   \n",
       "\n",
       "  BsmtExposure  BsmtFinSF1  BsmtFinSF2  ... ScreenPorch Street  TotRmsAbvGrd   \n",
       "0           No       706.0         0.0  ...         0.0   Pave             8  \\\n",
       "1           Gd       978.0         0.0  ...         0.0   Pave             6   \n",
       "2           Mn       486.0         0.0  ...         0.0   Pave             6   \n",
       "3           No       216.0         0.0  ...         0.0   Pave             7   \n",
       "4           Av       655.0         0.0  ...         0.0   Pave             9   \n",
       "\n",
       "   TotalBsmtSF Utilities  WoodDeckSF YearBuilt YearRemodAdd YrSold SalePrice  \n",
       "0        856.0    AllPub         0.0      2003         2003   2008  208500.0  \n",
       "1       1262.0    AllPub       298.0      1976         1976   2007  181500.0  \n",
       "2        920.0    AllPub         0.0      2001         2002   2008  223500.0  \n",
       "3        756.0    AllPub         0.0      1915         1970   2006  140000.0  \n",
       "4       1145.0    AllPub       192.0      2000         2000   2008  250000.0  \n",
       "\n",
       "[5 rows x 80 columns]"
      ]
     },
     "execution_count": 73,
     "metadata": {},
     "output_type": "execute_result"
    }
   ],
   "source": [
    "# viewing the dataset in table format\n",
    "df.head()"
   ]
  },
  {
   "attachments": {},
   "cell_type": "markdown",
   "metadata": {
    "collapsed": false
   },
   "source": [
    "`DataFrame.info()` is used to provide information about each data feature (`column`), namely, the name, the number of non-null entries, and the datatype(`Dtype`)."
   ]
  },
  {
   "cell_type": "code",
   "execution_count": 74,
   "metadata": {
    "ExecuteTime": {
     "end_time": "2023-05-12T14:59:02.709338300Z",
     "start_time": "2023-05-12T14:59:02.062045700Z"
    }
   },
   "outputs": [
    {
     "name": "stdout",
     "output_type": "stream",
     "text": [
      "<class 'pandas.core.frame.DataFrame'>\n",
      "RangeIndex: 1379 entries, 0 to 1378\n",
      "Data columns (total 80 columns):\n",
      " #   Column         Non-Null Count  Dtype  \n",
      "---  ------         --------------  -----  \n",
      " 0   1stFlrSF       1379 non-null   float64\n",
      " 1   2ndFlrSF       1379 non-null   float64\n",
      " 2   3SsnPorch      1379 non-null   float64\n",
      " 3   Alley          82 non-null     object \n",
      " 4   BedroomAbvGr   1379 non-null   int64  \n",
      " 5   BldgType       1379 non-null   object \n",
      " 6   BsmtCond       953 non-null    object \n",
      " 7   BsmtExposure   953 non-null    object \n",
      " 8   BsmtFinSF1     1379 non-null   float64\n",
      " 9   BsmtFinSF2     1379 non-null   float64\n",
      " 10  BsmtFinType1   953 non-null    object \n",
      " 11  BsmtFinType2   952 non-null    object \n",
      " 12  BsmtFullBath   1379 non-null   int64  \n",
      " 13  BsmtHalfBath   1379 non-null   int64  \n",
      " 14  BsmtQual       953 non-null    object \n",
      " 15  BsmtUnfSF      1379 non-null   float64\n",
      " 16  CentralAir     1379 non-null   object \n",
      " 17  Condition1     1379 non-null   object \n",
      " 18  Condition2     1379 non-null   object \n",
      " 19  Electrical     1379 non-null   object \n",
      " 20  EnclosedPorch  1379 non-null   float64\n",
      " 21  ExterCond      1379 non-null   object \n",
      " 22  ExterQual      1379 non-null   object \n",
      " 23  Exterior1st    1379 non-null   object \n",
      " 24  Exterior2nd    1379 non-null   object \n",
      " 25  Fence          265 non-null    object \n",
      " 26  FireplaceQu    761 non-null    object \n",
      " 27  Fireplaces     1379 non-null   int64  \n",
      " 28  Foundation     1379 non-null   object \n",
      " 29  FullBath       1379 non-null   int64  \n",
      " 30  Functional     1379 non-null   object \n",
      " 31  GarageArea     1379 non-null   float64\n",
      " 32  GarageCars     1379 non-null   int64  \n",
      " 33  GarageCond     1379 non-null   object \n",
      " 34  GarageFinish   1379 non-null   object \n",
      " 35  GarageQual     1379 non-null   object \n",
      " 36  GarageType     1379 non-null   object \n",
      " 37  GarageYrBlt    1379 non-null   float64\n",
      " 38  GrLivArea      1379 non-null   float64\n",
      " 39  HalfBath       1379 non-null   int64  \n",
      " 40  Heating        1379 non-null   object \n",
      " 41  HeatingQC      1379 non-null   object \n",
      " 42  HouseStyle     1379 non-null   object \n",
      " 43  KitchenAbvGr   1379 non-null   int64  \n",
      " 44  KitchenQual    1379 non-null   object \n",
      " 45  LandContour    1379 non-null   object \n",
      " 46  LandSlope      1379 non-null   object \n",
      " 47  LotArea        1379 non-null   float64\n",
      " 48  LotConfig      1379 non-null   object \n",
      " 49  LotFrontage    1379 non-null   float64\n",
      " 50  LotShape       1379 non-null   object \n",
      " 51  LowQualFinSF   1379 non-null   float64\n",
      " 52  MSSubClass     1379 non-null   int64  \n",
      " 53  MSZoning       1379 non-null   object \n",
      " 54  MasVnrArea     1379 non-null   float64\n",
      " 55  MasVnrType     582 non-null    object \n",
      " 56  MiscFeature    51 non-null     object \n",
      " 57  MiscVal        1379 non-null   float64\n",
      " 58  MoSold         1379 non-null   int64  \n",
      " 59  Neighborhood   1379 non-null   object \n",
      " 60  OpenPorchSF    1379 non-null   float64\n",
      " 61  OverallCond    1379 non-null   int64  \n",
      " 62  OverallQual    1379 non-null   int64  \n",
      " 63  PavedDrive     1379 non-null   object \n",
      " 64  PoolArea       1379 non-null   float64\n",
      " 65  PoolQC         7 non-null      object \n",
      " 66  RoofMatl       1379 non-null   object \n",
      " 67  RoofStyle      1379 non-null   object \n",
      " 68  SaleCondition  1379 non-null   object \n",
      " 69  SaleType       1379 non-null   object \n",
      " 70  ScreenPorch    1379 non-null   float64\n",
      " 71  Street         1379 non-null   object \n",
      " 72  TotRmsAbvGrd   1379 non-null   int64  \n",
      " 73  TotalBsmtSF    1379 non-null   float64\n",
      " 74  Utilities      1379 non-null   object \n",
      " 75  WoodDeckSF     1379 non-null   float64\n",
      " 76  YearBuilt      1379 non-null   int64  \n",
      " 77  YearRemodAdd   1379 non-null   int64  \n",
      " 78  YrSold         1379 non-null   int64  \n",
      " 79  SalePrice      1379 non-null   float64\n",
      "dtypes: float64(21), int64(16), object(43)\n",
      "memory usage: 862.0+ KB\n"
     ]
    }
   ],
   "source": [
    "#displaying information for each feature (column)\n",
    "df.info()"
   ]
  },
  {
   "attachments": {},
   "cell_type": "markdown",
   "metadata": {
    "collapsed": false
   },
   "source": [
    "### Data Cleaning"
   ]
  },
  {
   "attachments": {},
   "cell_type": "markdown",
   "metadata": {},
   "source": [
    "#### Check Null Values\n",
    "the `DataFrame.isna()` function of the DataFrame is used to return the subset of the data containing `null` values and storing the `sum()` into `na_vals`.\n",
    "The subset of columns containing null values is displayed along with the number of null values for each column."
   ]
  },
  {
   "attachments": {},
   "cell_type": "markdown",
   "metadata": {
    "collapsed": false
   },
   "source": []
  },
  {
   "cell_type": "code",
   "execution_count": 75,
   "metadata": {
    "ExecuteTime": {
     "end_time": "2023-05-12T14:59:02.712354200Z",
     "start_time": "2023-05-12T14:59:02.076653600Z"
    }
   },
   "outputs": [
    {
     "name": "stdout",
     "output_type": "stream",
     "text": [
      " == 11 Columns ==\n",
      "Alley           1297\n",
      "BsmtCond         426\n",
      "BsmtExposure     426\n",
      "BsmtFinType1     426\n",
      "BsmtFinType2     427\n",
      "BsmtQual         426\n",
      "Fence           1114\n",
      "FireplaceQu      618\n",
      "MasVnrType       797\n",
      "MiscFeature     1328\n",
      "PoolQC          1372\n",
      "dtype: int64\n"
     ]
    }
   ],
   "source": [
    "# Check missing values\n",
    "na_vals = df.isna().sum()\n",
    "\n",
    "#filter out the columns that have 0 null values\n",
    "na_cols = na_vals[na_vals > 0]\n",
    "\n",
    "print(f\" == {len(na_cols)} Columns ==\")\n",
    "print(na_cols)"
   ]
  },
  {
   "attachments": {},
   "cell_type": "markdown",
   "metadata": {
    "collapsed": false
   },
   "source": [
    "As can be seen, the number of missing values for each column is very high. This indicates that the features entailed are not reliable for data analysis. The columns will be dropped to avoid losing the bulk of data from the dataset. The `DataFrame.dropna()` function is utilized along `axis = 1`, indicating the `columns` instead of rows."
   ]
  },
  {
   "cell_type": "code",
   "execution_count": 76,
   "metadata": {
    "ExecuteTime": {
     "end_time": "2023-05-12T14:59:02.713338500Z",
     "start_time": "2023-05-12T14:59:02.088803500Z"
    }
   },
   "outputs": [],
   "source": [
    "df.dropna(axis=1, inplace=True)"
   ]
  },
  {
   "attachments": {},
   "cell_type": "markdown",
   "metadata": {},
   "source": [
    "#### Check Duplicates\n",
    "The dataset is checked for duplicated values using `DataFrame.duplicated()`. `sum()` yields the total number of duplicates."
   ]
  },
  {
   "cell_type": "code",
   "execution_count": 77,
   "metadata": {
    "ExecuteTime": {
     "end_time": "2023-05-12T14:59:02.726857800Z",
     "start_time": "2023-05-12T14:59:02.099411400Z"
    }
   },
   "outputs": [
    {
     "data": {
      "text/plain": [
       "0"
      ]
     },
     "execution_count": 77,
     "metadata": {},
     "output_type": "execute_result"
    }
   ],
   "source": [
    "df.duplicated().sum()"
   ]
  },
  {
   "attachments": {},
   "cell_type": "markdown",
   "metadata": {
    "collapsed": false
   },
   "source": [
    "No duplicates found. No further actions are needed."
   ]
  },
  {
   "attachments": {},
   "cell_type": "markdown",
   "metadata": {},
   "source": [
    "#### Get numerical & categorical features\n",
    "The dataset is analyzed against the presence of categorical features. This is in order to later encode them to be ready for classification.\n",
    "`DataFrame.select_dtypes` returns the subset of the data of a specific datatype or superset of datatypes.\n",
    "A `pandas.Index` is created from the subtraction of the set of numerical features from the total set of features."
   ]
  },
  {
   "cell_type": "code",
   "execution_count": 78,
   "metadata": {},
   "outputs": [],
   "source": [
    "#return columns of `np.number` datatype\n",
    "num_cols = df.select_dtypes(np.number).columns\n",
    "\n",
    "#substract numerical columns from the total set of columns to get categorical features\n",
    "cat_cols = pd.Index(list(set(df.columns) - set(num_cols)))"
   ]
  },
  {
   "attachments": {},
   "cell_type": "markdown",
   "metadata": {
    "collapsed": false
   },
   "source": [
    "The `cat_cols` index is used to index `df` to obtain the number of unique values for each feature. This is accomplished using `DataFrame.nunique()`"
   ]
  },
  {
   "cell_type": "code",
   "execution_count": 79,
   "metadata": {},
   "outputs": [
    {
     "data": {
      "text/plain": [
       "Exterior2nd      16\n",
       "CentralAir        2\n",
       "HeatingQC         5\n",
       "GarageQual        5\n",
       "ExterQual         4\n",
       "Exterior1st      14\n",
       "Foundation        6\n",
       "Street            2\n",
       "Neighborhood     25\n",
       "GarageCond        5\n",
       "SaleCondition     6\n",
       "HouseStyle        8\n",
       "PavedDrive        3\n",
       "LotConfig         5\n",
       "RoofMatl          8\n",
       "ExterCond         4\n",
       "LandSlope         3\n",
       "LotShape          4\n",
       "Electrical        5\n",
       "Heating           6\n",
       "LandContour       4\n",
       "MSZoning          5\n",
       "BldgType          5\n",
       "GarageType        6\n",
       "GarageFinish      3\n",
       "RoofStyle         6\n",
       "SaleType          9\n",
       "Utilities         2\n",
       "Functional        7\n",
       "KitchenQual       4\n",
       "Condition2        8\n",
       "Condition1        9\n",
       "dtype: int64"
      ]
     },
     "execution_count": 79,
     "metadata": {},
     "output_type": "execute_result"
    }
   ],
   "source": [
    "# Check unique values for each feature\n",
    "df[cat_cols].nunique()"
   ]
  },
  {
   "attachments": {},
   "cell_type": "markdown",
   "metadata": {},
   "source": [
    "#### Encode categorical features\n",
    "The `LabelEncoder` class from scikit-learn is imported to assign a unique integer value for each unique category.\n",
    "The `LabelEncoder.fit_transform()` function firstly computes the unique integers for each feature and then transforms the original dataset `df`."
   ]
  },
  {
   "cell_type": "code",
   "execution_count": 80,
   "metadata": {},
   "outputs": [],
   "source": [
    "#Import LabelEncoder\n",
    "from sklearn.preprocessing import LabelEncoder\n",
    "le = LabelEncoder()\n",
    "\n",
    "#Iterate over the categorical features of df and transform them\n",
    "for cat_col in cat_cols:\n",
    "    df[cat_col] = le.fit_transform(df[cat_col])"
   ]
  },
  {
   "cell_type": "code",
   "execution_count": 81,
   "metadata": {},
   "outputs": [
    {
     "data": {
      "text/html": [
       "<div>\n",
       "<style scoped>\n",
       "    .dataframe tbody tr th:only-of-type {\n",
       "        vertical-align: middle;\n",
       "    }\n",
       "\n",
       "    .dataframe tbody tr th {\n",
       "        vertical-align: top;\n",
       "    }\n",
       "\n",
       "    .dataframe thead th {\n",
       "        text-align: right;\n",
       "    }\n",
       "</style>\n",
       "<table border=\"1\" class=\"dataframe\">\n",
       "  <thead>\n",
       "    <tr style=\"text-align: right;\">\n",
       "      <th></th>\n",
       "      <th>1stFlrSF</th>\n",
       "      <th>2ndFlrSF</th>\n",
       "      <th>3SsnPorch</th>\n",
       "      <th>BedroomAbvGr</th>\n",
       "      <th>BldgType</th>\n",
       "      <th>BsmtFinSF1</th>\n",
       "      <th>BsmtFinSF2</th>\n",
       "      <th>BsmtFullBath</th>\n",
       "      <th>BsmtHalfBath</th>\n",
       "      <th>BsmtUnfSF</th>\n",
       "      <th>...</th>\n",
       "      <th>ScreenPorch</th>\n",
       "      <th>Street</th>\n",
       "      <th>TotRmsAbvGrd</th>\n",
       "      <th>TotalBsmtSF</th>\n",
       "      <th>Utilities</th>\n",
       "      <th>WoodDeckSF</th>\n",
       "      <th>YearBuilt</th>\n",
       "      <th>YearRemodAdd</th>\n",
       "      <th>YrSold</th>\n",
       "      <th>SalePrice</th>\n",
       "    </tr>\n",
       "  </thead>\n",
       "  <tbody>\n",
       "    <tr>\n",
       "      <th>0</th>\n",
       "      <td>856.0</td>\n",
       "      <td>854.0</td>\n",
       "      <td>0.0</td>\n",
       "      <td>3</td>\n",
       "      <td>0</td>\n",
       "      <td>706.0</td>\n",
       "      <td>0.0</td>\n",
       "      <td>1</td>\n",
       "      <td>0</td>\n",
       "      <td>150.0</td>\n",
       "      <td>...</td>\n",
       "      <td>0.0</td>\n",
       "      <td>1</td>\n",
       "      <td>8</td>\n",
       "      <td>856.0</td>\n",
       "      <td>0</td>\n",
       "      <td>0.0</td>\n",
       "      <td>2003</td>\n",
       "      <td>2003</td>\n",
       "      <td>2008</td>\n",
       "      <td>208500.0</td>\n",
       "    </tr>\n",
       "    <tr>\n",
       "      <th>1</th>\n",
       "      <td>1262.0</td>\n",
       "      <td>0.0</td>\n",
       "      <td>0.0</td>\n",
       "      <td>3</td>\n",
       "      <td>0</td>\n",
       "      <td>978.0</td>\n",
       "      <td>0.0</td>\n",
       "      <td>0</td>\n",
       "      <td>1</td>\n",
       "      <td>284.0</td>\n",
       "      <td>...</td>\n",
       "      <td>0.0</td>\n",
       "      <td>1</td>\n",
       "      <td>6</td>\n",
       "      <td>1262.0</td>\n",
       "      <td>0</td>\n",
       "      <td>298.0</td>\n",
       "      <td>1976</td>\n",
       "      <td>1976</td>\n",
       "      <td>2007</td>\n",
       "      <td>181500.0</td>\n",
       "    </tr>\n",
       "    <tr>\n",
       "      <th>2</th>\n",
       "      <td>920.0</td>\n",
       "      <td>866.0</td>\n",
       "      <td>0.0</td>\n",
       "      <td>3</td>\n",
       "      <td>0</td>\n",
       "      <td>486.0</td>\n",
       "      <td>0.0</td>\n",
       "      <td>1</td>\n",
       "      <td>0</td>\n",
       "      <td>434.0</td>\n",
       "      <td>...</td>\n",
       "      <td>0.0</td>\n",
       "      <td>1</td>\n",
       "      <td>6</td>\n",
       "      <td>920.0</td>\n",
       "      <td>0</td>\n",
       "      <td>0.0</td>\n",
       "      <td>2001</td>\n",
       "      <td>2002</td>\n",
       "      <td>2008</td>\n",
       "      <td>223500.0</td>\n",
       "    </tr>\n",
       "    <tr>\n",
       "      <th>3</th>\n",
       "      <td>961.0</td>\n",
       "      <td>756.0</td>\n",
       "      <td>0.0</td>\n",
       "      <td>3</td>\n",
       "      <td>0</td>\n",
       "      <td>216.0</td>\n",
       "      <td>0.0</td>\n",
       "      <td>1</td>\n",
       "      <td>0</td>\n",
       "      <td>540.0</td>\n",
       "      <td>...</td>\n",
       "      <td>0.0</td>\n",
       "      <td>1</td>\n",
       "      <td>7</td>\n",
       "      <td>756.0</td>\n",
       "      <td>0</td>\n",
       "      <td>0.0</td>\n",
       "      <td>1915</td>\n",
       "      <td>1970</td>\n",
       "      <td>2006</td>\n",
       "      <td>140000.0</td>\n",
       "    </tr>\n",
       "    <tr>\n",
       "      <th>4</th>\n",
       "      <td>1145.0</td>\n",
       "      <td>1053.0</td>\n",
       "      <td>0.0</td>\n",
       "      <td>4</td>\n",
       "      <td>0</td>\n",
       "      <td>655.0</td>\n",
       "      <td>0.0</td>\n",
       "      <td>1</td>\n",
       "      <td>0</td>\n",
       "      <td>490.0</td>\n",
       "      <td>...</td>\n",
       "      <td>0.0</td>\n",
       "      <td>1</td>\n",
       "      <td>9</td>\n",
       "      <td>1145.0</td>\n",
       "      <td>0</td>\n",
       "      <td>192.0</td>\n",
       "      <td>2000</td>\n",
       "      <td>2000</td>\n",
       "      <td>2008</td>\n",
       "      <td>250000.0</td>\n",
       "    </tr>\n",
       "  </tbody>\n",
       "</table>\n",
       "<p>5 rows × 69 columns</p>\n",
       "</div>"
      ],
      "text/plain": [
       "   1stFlrSF  2ndFlrSF  3SsnPorch  BedroomAbvGr  BldgType  BsmtFinSF1   \n",
       "0     856.0     854.0        0.0             3         0       706.0  \\\n",
       "1    1262.0       0.0        0.0             3         0       978.0   \n",
       "2     920.0     866.0        0.0             3         0       486.0   \n",
       "3     961.0     756.0        0.0             3         0       216.0   \n",
       "4    1145.0    1053.0        0.0             4         0       655.0   \n",
       "\n",
       "   BsmtFinSF2  BsmtFullBath  BsmtHalfBath  BsmtUnfSF  ...  ScreenPorch   \n",
       "0         0.0             1             0      150.0  ...          0.0  \\\n",
       "1         0.0             0             1      284.0  ...          0.0   \n",
       "2         0.0             1             0      434.0  ...          0.0   \n",
       "3         0.0             1             0      540.0  ...          0.0   \n",
       "4         0.0             1             0      490.0  ...          0.0   \n",
       "\n",
       "   Street  TotRmsAbvGrd  TotalBsmtSF  Utilities  WoodDeckSF  YearBuilt   \n",
       "0       1             8        856.0          0         0.0       2003  \\\n",
       "1       1             6       1262.0          0       298.0       1976   \n",
       "2       1             6        920.0          0         0.0       2001   \n",
       "3       1             7        756.0          0         0.0       1915   \n",
       "4       1             9       1145.0          0       192.0       2000   \n",
       "\n",
       "   YearRemodAdd  YrSold  SalePrice  \n",
       "0          2003    2008   208500.0  \n",
       "1          1976    2007   181500.0  \n",
       "2          2002    2008   223500.0  \n",
       "3          1970    2006   140000.0  \n",
       "4          2000    2008   250000.0  \n",
       "\n",
       "[5 rows x 69 columns]"
      ]
     },
     "execution_count": 81,
     "metadata": {},
     "output_type": "execute_result"
    }
   ],
   "source": [
    "df.head()"
   ]
  },
  {
   "attachments": {},
   "cell_type": "markdown",
   "metadata": {
    "collapsed": false
   },
   "source": [
    "As can be observed, the data is now purely numerical."
   ]
  },
  {
   "attachments": {},
   "cell_type": "markdown",
   "metadata": {},
   "source": [
    "#### Outlier Removal\n",
    "In this section, the dataset will be analyzed against the presence of outliers, and if detected, will be removed.\n",
    "The target variable \"SalePrice\" is stored in variable `y`. It is, then, visualized using a Box Plot."
   ]
  },
  {
   "cell_type": "code",
   "execution_count": 82,
   "metadata": {},
   "outputs": [
    {
     "data": {
      "text/plain": [
       "<Axes: >"
      ]
     },
     "execution_count": 82,
     "metadata": {},
     "output_type": "execute_result"
    },
    {
     "data": {
      "image/png": "[encoded data removed]",
      "text/plain": [
       "<Figure size 640x480 with 1 Axes>"
      ]
     },
     "metadata": {},
     "output_type": "display_data"
    }
   ],
   "source": [
    "y = df[\"SalePrice\"]\n",
    "y.plot(kind=\"box\")"
   ]
  },
  {
   "attachments": {},
   "cell_type": "markdown",
   "metadata": {
    "collapsed": false
   },
   "source": [
    "As can be observed, a number of outliers is are located outside the third quartile. Below, it is seen that these data points are only 76. They will be removed, for 76 is a small number compared to the size of the dataset."
   ]
  },
  {
   "cell_type": "code",
   "execution_count": 83,
   "metadata": {},
   "outputs": [
    {
     "name": "stdout",
     "output_type": "stream",
     "text": [
      "76\n"
     ]
    }
   ],
   "source": [
    "# Check number of sample above certain price\n",
    "max_price = 325000\n",
    "print(len(y[y > max_price]))"
   ]
  },
  {
   "attachments": {},
   "cell_type": "markdown",
   "metadata": {
    "collapsed": false
   },
   "source": [
    "`df` is reassigned to the subset of data below the `max_price`. The dataset is then split into features `X` and target `y` i.e. the \"SalePrice\" feature."
   ]
  },
  {
   "cell_type": "code",
   "execution_count": 84,
   "metadata": {},
   "outputs": [],
   "source": [
    "# Samples above that number are considered as outliers\n",
    "df = df[y < max_price]\n",
    "\n",
    "# Separate data into features and target\n",
    "x = df.drop(\"SalePrice\", axis=1)\n",
    "y = df[\"SalePrice\"]"
   ]
  },
  {
   "attachments": {},
   "cell_type": "markdown",
   "metadata": {},
   "source": [
    "### Data Scaling\n",
    "The `StandardScaler` class is imported from scikit-learn to standardize features stored in `x` by removing the mean and scaling to unit variance. `fit_transform` is explained previously."
   ]
  },
  {
   "cell_type": "code",
   "execution_count": 85,
   "metadata": {},
   "outputs": [
    {
     "data": {
      "text/html": [
       "<div>\n",
       "<style scoped>\n",
       "    .dataframe tbody tr th:only-of-type {\n",
       "        vertical-align: middle;\n",
       "    }\n",
       "\n",
       "    .dataframe tbody tr th {\n",
       "        vertical-align: top;\n",
       "    }\n",
       "\n",
       "    .dataframe thead th {\n",
       "        text-align: right;\n",
       "    }\n",
       "</style>\n",
       "<table border=\"1\" class=\"dataframe\">\n",
       "  <thead>\n",
       "    <tr style=\"text-align: right;\">\n",
       "      <th></th>\n",
       "      <th>0</th>\n",
       "      <th>1</th>\n",
       "      <th>2</th>\n",
       "      <th>3</th>\n",
       "      <th>4</th>\n",
       "      <th>5</th>\n",
       "      <th>6</th>\n",
       "      <th>7</th>\n",
       "      <th>8</th>\n",
       "      <th>9</th>\n",
       "      <th>...</th>\n",
       "      <th>58</th>\n",
       "      <th>59</th>\n",
       "      <th>60</th>\n",
       "      <th>61</th>\n",
       "      <th>62</th>\n",
       "      <th>63</th>\n",
       "      <th>64</th>\n",
       "      <th>65</th>\n",
       "      <th>66</th>\n",
       "      <th>67</th>\n",
       "    </tr>\n",
       "  </thead>\n",
       "  <tbody>\n",
       "    <tr>\n",
       "      <th>0</th>\n",
       "      <td>-0.799945</td>\n",
       "      <td>1.239028</td>\n",
       "      <td>-0.117513</td>\n",
       "      <td>0.187396</td>\n",
       "      <td>-0.411888</td>\n",
       "      <td>0.664251</td>\n",
       "      <td>-0.298908</td>\n",
       "      <td>1.158936</td>\n",
       "      <td>-0.251106</td>\n",
       "      <td>-0.958988</td>\n",
       "      <td>...</td>\n",
       "      <td>0.294611</td>\n",
       "      <td>-0.276684</td>\n",
       "      <td>0.062161</td>\n",
       "      <td>1.058807</td>\n",
       "      <td>-0.443419</td>\n",
       "      <td>-0.027756</td>\n",
       "      <td>-0.750723</td>\n",
       "      <td>1.083272</td>\n",
       "      <td>0.909845</td>\n",
       "      <td>0.143770</td>\n",
       "    </tr>\n",
       "    <tr>\n",
       "      <th>1</th>\n",
       "      <td>0.338556</td>\n",
       "      <td>-0.802365</td>\n",
       "      <td>-0.117513</td>\n",
       "      <td>0.187396</td>\n",
       "      <td>-0.411888</td>\n",
       "      <td>1.301372</td>\n",
       "      <td>-0.298908</td>\n",
       "      <td>-0.806414</td>\n",
       "      <td>3.877845</td>\n",
       "      <td>-0.647367</td>\n",
       "      <td>...</td>\n",
       "      <td>0.294611</td>\n",
       "      <td>-0.276684</td>\n",
       "      <td>0.062161</td>\n",
       "      <td>-0.283692</td>\n",
       "      <td>0.564175</td>\n",
       "      <td>-0.027756</td>\n",
       "      <td>1.703848</td>\n",
       "      <td>0.155943</td>\n",
       "      <td>-0.407322</td>\n",
       "      <td>-0.609282</td>\n",
       "    </tr>\n",
       "    <tr>\n",
       "      <th>2</th>\n",
       "      <td>-0.620477</td>\n",
       "      <td>1.267713</td>\n",
       "      <td>-0.117513</td>\n",
       "      <td>0.187396</td>\n",
       "      <td>-0.411888</td>\n",
       "      <td>0.148933</td>\n",
       "      <td>-0.298908</td>\n",
       "      <td>1.158936</td>\n",
       "      <td>-0.251106</td>\n",
       "      <td>-0.298538</td>\n",
       "      <td>...</td>\n",
       "      <td>0.294611</td>\n",
       "      <td>-0.276684</td>\n",
       "      <td>0.062161</td>\n",
       "      <td>-0.283692</td>\n",
       "      <td>-0.284587</td>\n",
       "      <td>-0.027756</td>\n",
       "      <td>-0.750723</td>\n",
       "      <td>1.014581</td>\n",
       "      <td>0.861061</td>\n",
       "      <td>0.143770</td>\n",
       "    </tr>\n",
       "    <tr>\n",
       "      <th>3</th>\n",
       "      <td>-0.505505</td>\n",
       "      <td>1.004770</td>\n",
       "      <td>-0.117513</td>\n",
       "      <td>0.187396</td>\n",
       "      <td>-0.411888</td>\n",
       "      <td>-0.483502</td>\n",
       "      <td>-0.298908</td>\n",
       "      <td>1.158936</td>\n",
       "      <td>-0.251106</td>\n",
       "      <td>-0.052032</td>\n",
       "      <td>...</td>\n",
       "      <td>0.294611</td>\n",
       "      <td>-0.276684</td>\n",
       "      <td>0.062161</td>\n",
       "      <td>0.387558</td>\n",
       "      <td>-0.691595</td>\n",
       "      <td>-0.027756</td>\n",
       "      <td>-0.750723</td>\n",
       "      <td>-1.939134</td>\n",
       "      <td>-0.700025</td>\n",
       "      <td>-1.362334</td>\n",
       "    </tr>\n",
       "    <tr>\n",
       "      <th>4</th>\n",
       "      <td>0.010466</td>\n",
       "      <td>1.714716</td>\n",
       "      <td>-0.117513</td>\n",
       "      <td>1.482225</td>\n",
       "      <td>-0.411888</td>\n",
       "      <td>0.544791</td>\n",
       "      <td>-0.298908</td>\n",
       "      <td>1.158936</td>\n",
       "      <td>-0.251106</td>\n",
       "      <td>-0.168308</td>\n",
       "      <td>...</td>\n",
       "      <td>0.294611</td>\n",
       "      <td>-0.276684</td>\n",
       "      <td>0.062161</td>\n",
       "      <td>1.730057</td>\n",
       "      <td>0.273809</td>\n",
       "      <td>-0.027756</td>\n",
       "      <td>0.830745</td>\n",
       "      <td>0.980236</td>\n",
       "      <td>0.763493</td>\n",
       "      <td>0.143770</td>\n",
       "    </tr>\n",
       "  </tbody>\n",
       "</table>\n",
       "<p>5 rows × 68 columns</p>\n",
       "</div>"
      ],
      "text/plain": [
       "         0         1         2         3         4         5         6    \n",
       "0 -0.799945  1.239028 -0.117513  0.187396 -0.411888  0.664251 -0.298908  \\\n",
       "1  0.338556 -0.802365 -0.117513  0.187396 -0.411888  1.301372 -0.298908   \n",
       "2 -0.620477  1.267713 -0.117513  0.187396 -0.411888  0.148933 -0.298908   \n",
       "3 -0.505505  1.004770 -0.117513  0.187396 -0.411888 -0.483502 -0.298908   \n",
       "4  0.010466  1.714716 -0.117513  1.482225 -0.411888  0.544791 -0.298908   \n",
       "\n",
       "         7         8         9   ...        58        59        60        61   \n",
       "0  1.158936 -0.251106 -0.958988  ...  0.294611 -0.276684  0.062161  1.058807  \\\n",
       "1 -0.806414  3.877845 -0.647367  ...  0.294611 -0.276684  0.062161 -0.283692   \n",
       "2  1.158936 -0.251106 -0.298538  ...  0.294611 -0.276684  0.062161 -0.283692   \n",
       "3  1.158936 -0.251106 -0.052032  ...  0.294611 -0.276684  0.062161  0.387558   \n",
       "4  1.158936 -0.251106 -0.168308  ...  0.294611 -0.276684  0.062161  1.730057   \n",
       "\n",
       "         62        63        64        65        66        67  \n",
       "0 -0.443419 -0.027756 -0.750723  1.083272  0.909845  0.143770  \n",
       "1  0.564175 -0.027756  1.703848  0.155943 -0.407322 -0.609282  \n",
       "2 -0.284587 -0.027756 -0.750723  1.014581  0.861061  0.143770  \n",
       "3 -0.691595 -0.027756 -0.750723 -1.939134 -0.700025 -1.362334  \n",
       "4  0.273809 -0.027756  0.830745  0.980236  0.763493  0.143770  \n",
       "\n",
       "[5 rows x 68 columns]"
      ]
     },
     "execution_count": 85,
     "metadata": {},
     "output_type": "execute_result"
    }
   ],
   "source": [
    "#Import StandardScaler\n",
    "from sklearn.preprocessing import StandardScaler\n",
    "\n",
    "#Scale X\n",
    "x = StandardScaler().fit_transform(x)\n",
    "\n",
    "pd.DataFrame(x).head()"
   ]
  },
  {
   "attachments": {},
   "cell_type": "markdown",
   "metadata": {},
   "source": [
    "### Target Grouping\n",
    "In order to classify housing prices into a specified set of classes, the target variable \"SalePrice\" needs to be divided into classes. This is accomplished using clustering techniques, as the classes are not defined a priori."
   ]
  },
  {
   "cell_type": "code",
   "execution_count": 86,
   "metadata": {},
   "outputs": [
    {
     "data": {
      "text/plain": [
       "<Axes: >"
      ]
     },
     "execution_count": 86,
     "metadata": {},
     "output_type": "execute_result"
    },
    {
     "data": {
      "image/png": "[encoded data removed]",
      "text/plain": [
       "<Figure size 640x480 with 1 Axes>"
      ]
     },
     "metadata": {},
     "output_type": "display_data"
    }
   ],
   "source": [
    "# Show the box plot of the target variable `y`\n",
    "y.plot(kind=\"box\")"
   ]
  },
  {
   "cell_type": "code",
   "execution_count": 87,
   "metadata": {
    "collapsed": false
   },
   "outputs": [
    {
     "data": {
      "text/plain": [
       "<Axes: ylabel='Density'>"
      ]
     },
     "execution_count": 87,
     "metadata": {},
     "output_type": "execute_result"
    },
    {
     "data": {
      "image/png": "[encoded data removed]",
      "text/plain": [
       "<Figure size 640x480 with 1 Axes>"
      ]
     },
     "metadata": {},
     "output_type": "display_data"
    }
   ],
   "source": [
    "# Show the KDE plot of the target variable `y`\n",
    "y.plot(kind = \"kde\")"
   ]
  },
  {
   "attachments": {},
   "cell_type": "markdown",
   "metadata": {
    "collapsed": false
   },
   "source": [
    "From the plot above, it can be concluded that the `y` is not skewed, i.e. distributed somewhat equally around the mean."
   ]
  },
  {
   "attachments": {},
   "cell_type": "markdown",
   "metadata": {
    "collapsed": false
   },
   "source": [
    "The target `y` will be clustered into distinct groups using the scikit-learn class KMeans, which is an implementation of the k-means clustering algorithm.\n",
    "The number of clusters `k` is set to 4.\n",
    "`random_state` is used to produce repeatable results.\n",
    "`n_init` is the number of times the k-means algorithm is run with different centroid seeds. it is set to 'auto'.\n",
    "As required by the KMeans class, `y` is reshaped into a 2D array using `numpy.reshape()`.\n",
    "\n",
    "`KMeans.fit_predict()` returns an array of cluster values, each for each data point.\n",
    "`KMeans.cluster_centers_` stores the center of cluster for each data point"
   ]
  },
  {
   "cell_type": "code",
   "execution_count": 88,
   "metadata": {},
   "outputs": [
    {
     "data": {
      "text/plain": [
       "0    3\n",
       "1    3\n",
       "2    3\n",
       "3    1\n",
       "4    0\n",
       "dtype: int32"
      ]
     },
     "execution_count": 88,
     "metadata": {},
     "output_type": "execute_result"
    }
   ],
   "source": [
    "from sklearn.cluster import KMeans\n",
    "\n",
    "#initialize kmeans clustering algorithm\n",
    "k = 4\n",
    "kmeans = KMeans(n_clusters=k, random_state=10, n_init='auto')\n",
    "\n",
    "#predict cluster for each data point, store them in y_clustered\n",
    "y_clustered = pd.Series(kmeans.fit_predict(np.array(y).reshape(-1, 1)))\n",
    "\n",
    "#store cluster center for each data point\n",
    "y_centers = pd.Series(kmeans.cluster_centers_[i] for i in y_clustered).astype(\"float64\")\n",
    "\n",
    "#view y_clustered\n",
    "y_clustered.head()"
   ]
  },
  {
   "cell_type": "code",
   "execution_count": 89,
   "metadata": {
    "collapsed": false
   },
   "outputs": [
    {
     "data": {
      "text/plain": [
       "144590.733615    473\n",
       "193875.531579    388\n",
       "103281.471616    229\n",
       "266245.267281    209\n",
       "Name: count, dtype: int64"
      ]
     },
     "execution_count": 89,
     "metadata": {},
     "output_type": "execute_result"
    }
   ],
   "source": [
    "#view the centers and number of data points assigned to each\n",
    "y_centers.value_counts()"
   ]
  },
  {
   "attachments": {},
   "cell_type": "markdown",
   "metadata": {
    "collapsed": false
   },
   "source": [
    "`y` and `y_centers` are plotted using histograms to show the distribution of data before clustering and its distribution in the individual clusters."
   ]
  },
  {
   "cell_type": "code",
   "execution_count": 90,
   "metadata": {},
   "outputs": [
    {
     "data": {
      "text/plain": [
       "Text(0, 0.5, 'Frequency')"
      ]
     },
     "execution_count": 90,
     "metadata": {},
     "output_type": "execute_result"
    },
    {
     "data": {
      "image/png": "[encoded data removed]",
      "text/plain": [
       "<Figure size 1500x500 with 2 Axes>"
      ]
     },
     "metadata": {},
     "output_type": "display_data"
    }
   ],
   "source": [
    "fig, ax = plt.subplots(figsize=(15, 5), ncols=2)\n",
    "b = 10\n",
    "\n",
    "y.plot(color=\"#004D98\", kind=\"hist\", bins=b, ax=ax[0])\n",
    "ax[0].set_title('Distribution of Housing Prices')\n",
    "ax[0].set_xlabel('Sale Price')\n",
    "ax[0].set_ylabel('Frequency')\n",
    "\n",
    "\n",
    "y_centers.plot(color=\"#DB0030\", kind=\"hist\", bins=b, ax=ax[1])\n",
    "ax[1].set_title('Distribution of Housing Prices')\n",
    "ax[1].set_xlabel('Sale Price')\n",
    "ax[1].set_ylabel('Frequency')"
   ]
  },
  {
   "attachments": {},
   "cell_type": "markdown",
   "metadata": {},
   "source": [
    "## Classification Algorithms"
   ]
  },
  {
   "attachments": {},
   "cell_type": "markdown",
   "metadata": {},
   "source": [
    "### Feature Selection\n",
    "After the preliminary analysis and exploration of the dataset, it is evident that the dataset contains a lot of unwanted or unhelpful features. These features can worsen the model or cause it to over-fit to the training data. To avoid this, the use of feature selection is needed.\n",
    "\n",
    "Two feature selection algorithms from scikit-learn will be used:\n",
    "- `SelectPercentile` which selects the top percentile of the features after applying the scoring function.\n",
    "- `SelectFromModel` which selects the features that best fit a certain Machine Learning model. Two models are used: `ExtraTreesClassifier` and `RandomForestClassifier`, both of which are classification algorithms that are based on Decision Trees."
   ]
  },
  {
   "attachments": {},
   "cell_type": "markdown",
   "metadata": {
    "collapsed": false
   },
   "source": [
    "The following statement gets a `pandas.Index` of feature names, excluding the target variable \"SalePrice\""
   ]
  },
  {
   "cell_type": "code",
   "execution_count": 91,
   "metadata": {},
   "outputs": [
    {
     "data": {
      "text/plain": [
       "Index(['1stFlrSF', '2ndFlrSF', '3SsnPorch', 'BedroomAbvGr', 'BldgType',\n",
       "       'BsmtFinSF1', 'BsmtFinSF2', 'BsmtFullBath', 'BsmtHalfBath', 'BsmtUnfSF',\n",
       "       'CentralAir', 'Condition1', 'Condition2', 'Electrical', 'EnclosedPorch',\n",
       "       'ExterCond', 'ExterQual', 'Exterior1st', 'Exterior2nd', 'Fireplaces',\n",
       "       'Foundation', 'FullBath', 'Functional', 'GarageArea', 'GarageCars',\n",
       "       'GarageCond', 'GarageFinish', 'GarageQual', 'GarageType', 'GarageYrBlt',\n",
       "       'GrLivArea', 'HalfBath', 'Heating', 'HeatingQC', 'HouseStyle',\n",
       "       'KitchenAbvGr', 'KitchenQual', 'LandContour', 'LandSlope', 'LotArea',\n",
       "       'LotConfig', 'LotFrontage', 'LotShape', 'LowQualFinSF', 'MSSubClass',\n",
       "       'MSZoning', 'MasVnrArea', 'MiscVal', 'MoSold', 'Neighborhood',\n",
       "       'OpenPorchSF', 'OverallCond', 'OverallQual', 'PavedDrive', 'PoolArea',\n",
       "       'RoofMatl', 'RoofStyle', 'SaleCondition', 'SaleType', 'ScreenPorch',\n",
       "       'Street', 'TotRmsAbvGrd', 'TotalBsmtSF', 'Utilities', 'WoodDeckSF',\n",
       "       'YearBuilt', 'YearRemodAdd', 'YrSold'],\n",
       "      dtype='object')"
      ]
     },
     "execution_count": 91,
     "metadata": {},
     "output_type": "execute_result"
    }
   ],
   "source": [
    "# Get Index of feature names\n",
    "features = df.drop(\"SalePrice\", axis=1).columns\n",
    "features"
   ]
  },
  {
   "attachments": {},
   "cell_type": "markdown",
   "metadata": {
    "collapsed": false
   },
   "source": [
    "#### Feature Selection by percentile\n",
    "In the following cell, features will be selected based on a percentile of features ranked by their scores. This will utilize the `SelectPercentile` class. Scores will be determined using the `f_classif` function which implements the ANOVA(Analysis Of Variance) F-value method.\n",
    "\n",
    "The `f_sel` object of `SelectPercentile` returns `x_fcif` which is the subset of columns it has chosen via its `fit_transform` function. The features and target are inputs to the function. A percentile of 50% of the features will be chosen."
   ]
  },
  {
   "cell_type": "code",
   "execution_count": 92,
   "metadata": {},
   "outputs": [
    {
     "data": {
      "text/plain": [
       "(1299, 34)"
      ]
     },
     "execution_count": 92,
     "metadata": {},
     "output_type": "execute_result"
    }
   ],
   "source": [
    "# Import feature selection algorithms\n",
    "from sklearn.feature_selection import SelectFromModel, SelectPercentile\n",
    "# Import scoring function\n",
    "from sklearn.feature_selection import f_classif\n",
    "\n",
    "# f_classification\n",
    "f_sel = SelectPercentile(score_func=f_classif, percentile=50)\n",
    "x_fcif = f_sel.fit_transform(x, y)\n",
    "x_fcif.shape"
   ]
  },
  {
   "attachments": {},
   "cell_type": "markdown",
   "metadata": {
    "collapsed": false
   },
   "source": [
    "#### Feature Selection for an Extra Trees model\n",
    "In this algorithm, features will be chosen for an Extra Trees classification model. The model is firstly imported, instantiated as `etc`, initialized with 50 estimators(trees), and, then, fit to the data.\n",
    "\n",
    "The selector is instantiated as `etc_sel`, initialized with the model, and it is specified that the model has been fit before feature selection using `prefit = True`.\n",
    "The model is pre-fit to improve accuracy of feature selection.\n",
    "\n",
    "`x_etc` is, similarly, the subset of chosen columns, however, it is obtained from the `transform` function instead of `fit_transform`, because the model was pre-fit to the data."
   ]
  },
  {
   "cell_type": "code",
   "execution_count": 93,
   "metadata": {
    "collapsed": false
   },
   "outputs": [
    {
     "data": {
      "text/plain": [
       "(1299, 31)"
      ]
     },
     "execution_count": 93,
     "metadata": {},
     "output_type": "execute_result"
    }
   ],
   "source": [
    "# Import ExtraTrees classifier\n",
    "from sklearn.ensemble import ExtraTreesClassifier\n",
    "\n",
    "# Initialize model with 50 estimators and fit to data\n",
    "etc = ExtraTreesClassifier(n_estimators=50).fit(x, y)\n",
    "\n",
    "# Select from model\n",
    "etc_sel = SelectFromModel(etc, prefit=True)\n",
    "x_etc = etc_sel.transform(x)\n",
    "x_etc.shape"
   ]
  },
  {
   "attachments": {},
   "cell_type": "markdown",
   "metadata": {
    "collapsed": false
   },
   "source": [
    "#### Feature Selection for a Random Forest model\n",
    "This cell is similar to the previous one, only different in the type of model, which, in this case, is the `RandomForestClassifier`."
   ]
  },
  {
   "cell_type": "code",
   "execution_count": 94,
   "metadata": {
    "collapsed": false
   },
   "outputs": [
    {
     "data": {
      "text/plain": [
       "(1299, 23)"
      ]
     },
     "execution_count": 94,
     "metadata": {},
     "output_type": "execute_result"
    }
   ],
   "source": [
    "# Import RandomForest classifier\n",
    "from sklearn.ensemble import RandomForestClassifier\n",
    "\n",
    "# Initialize model with 50 estimators and fit to data\n",
    "rfc = RandomForestClassifier(n_estimators=50).fit(x, y)\n",
    "\n",
    "# Select from model\n",
    "rfc_sel = SelectFromModel(rfc, prefit=True)\n",
    "x_rfc = rfc_sel.transform(x)\n",
    "x_rfc.shape"
   ]
  },
  {
   "attachments": {},
   "cell_type": "markdown",
   "metadata": {
    "collapsed": false
   },
   "source": [
    "#### Analyzing Selections\n",
    "Selecting features that are common to multiple feature selection methods is a useful approach to identify the most informative features for a machine learning model. This approach can reduce the risk of selecting features that are only informative for a specific method or selecting redundant features. By selecting the features that are agreed upon by multiple methods, we can potentially improve the generalization performance of our model and make it more robust to variations in the data."
   ]
  },
  {
   "attachments": {},
   "cell_type": "markdown",
   "metadata": {},
   "source": [
    "A boolean mask, i.e. an array to represent the selected features with a `True` boolean value and the deselcted with `False`, is obtained from each selection via the `get_support` method. The mask are logicalled anded to produce a mask of the agreed upon features.\n",
    "\n",
    "The feature dataset `x` will be indexed with the produced mask, which will yield the selected data."
   ]
  },
  {
   "cell_type": "code",
   "execution_count": 95,
   "metadata": {
    "collapsed": false
   },
   "outputs": [],
   "source": [
    "mask1 = f_sel.get_support()\n",
    "mask2 = etc_sel.get_support()\n",
    "mask3 = rfc_sel.get_support()\n",
    "\n",
    "mask  = np.logical_and(mask1, mask2, mask3)\n",
    "\n",
    "x_selected = x[:,mask]"
   ]
  },
  {
   "attachments": {},
   "cell_type": "markdown",
   "metadata": {
    "collapsed": false
   },
   "source": [
    "### train_evaluate() function\n",
    "\n",
    "This function trains and evaluates a machine learning model on a given dataset. The function takes the following arguments:\n",
    "\n",
    "- `model`: The machine learning model to train and evaluate.\n",
    "- `x`: The feature data.\n",
    "- `y`: The target data.\n",
    "- `grid_params`: A dictionary of hyperparameters to tune using grid search. If None, grid search will not be used.\n",
    "- `cv`: The number of folds to use for cross-validation.\n",
    "\n",
    "The function first splits the data into train and test sets. If grid search is being used, the function then performs grid search to find the best hyperparameters for the model. The function then trains the model on the train set and evaluates the model on the test set. The function prints the classification report and confusion matrix for the model.\n",
    "\n",
    "The `train_evaluate()` function can be used to train and evaluate any machine learning model. It is a useful function for comparing different models and for finding the best hyperparameters for a given model."
   ]
  },
  {
   "cell_type": "code",
   "execution_count": 96,
   "metadata": {},
   "outputs": [],
   "source": [
    "from sklearn.metrics import classification_report, confusion_matrix, ConfusionMatrixDisplay\n",
    "from sklearn.model_selection import train_test_split, GridSearchCV\n",
    "\n",
    "def train_evaluate(model, x, y, grid_params=None, cv=5):\n",
    "    # split data into train & test sets\n",
    "    x_train, x_test, y_train, y_test = train_test_split(x, y, test_size=0.1, random_state=10)\n",
    "\n",
    "    # check for applying grid search\n",
    "    if grid_params is None:\n",
    "        model.fit(x_train, y_train)\n",
    "    else:\n",
    "        model_gs = GridSearchCV(model, grid_params, scoring='balanced_accuracy', cv=cv, return_train_score=True)\n",
    "        model_gs.fit(x_train, y_train)\n",
    "        print(model_gs.best_params_)\n",
    "        model = model_gs.best_estimator_\n",
    "\n",
    "    # predict test results\n",
    "    y_pred = model.predict(x_test)\n",
    "\n",
    "    # show results\n",
    "    print(\"Classification Report:\")\n",
    "    print(classification_report(y_test, y_pred))\n",
    "    print(\"Confusion_Matrix:\")\n",
    "    ConfusionMatrixDisplay(confusion_matrix(y_test, y_pred)).plot()\n",
    "\n",
    "    return model"
   ]
  },
  {
   "attachments": {},
   "cell_type": "markdown",
   "metadata": {},
   "source": [
    "### KNN"
   ]
  },
  {
   "cell_type": "code",
   "execution_count": 97,
   "metadata": {},
   "outputs": [
    {
     "name": "stdout",
     "output_type": "stream",
     "text": [
      "{'n_neighbors': 9, 'weights': 'distance'}\n",
      "Classification Report:\n",
      "              precision    recall  f1-score   support\n",
      "\n",
      "           0       0.70      0.74      0.72        19\n",
      "           1       0.72      0.82      0.77        44\n",
      "           2       0.93      0.62      0.74        21\n",
      "           3       0.76      0.76      0.76        46\n",
      "\n",
      "    accuracy                           0.75       130\n",
      "   macro avg       0.78      0.73      0.75       130\n",
      "weighted avg       0.77      0.75      0.75       130\n",
      "\n",
      "Confusion_Matrix:\n"
     ]
    },
    {
     "data": {
      "image/png": "[encoded data removed]",
      "text/plain": [
       "<Figure size 640x480 with 2 Axes>"
      ]
     },
     "metadata": {},
     "output_type": "display_data"
    }
   ],
   "source": [
    "from sklearn.neighbors import KNeighborsClassifier\n",
    "\n",
    "# KNeighborsClassifier??\n",
    "grid_params = {\"n_neighbors\": [5, 7, 9], \"weights\": [\"uniform\", \"distance\"]}\n",
    "knn = train_evaluate(KNeighborsClassifier(), x_selected, y_clustered, grid_params)"
   ]
  },
  {
   "attachments": {},
   "cell_type": "markdown",
   "metadata": {},
   "source": [
    "### Naive Bayes"
   ]
  },
  {
   "cell_type": "code",
   "execution_count": 98,
   "metadata": {},
   "outputs": [
    {
     "name": "stdout",
     "output_type": "stream",
     "text": [
      "Classification Report:\n",
      "              precision    recall  f1-score   support\n",
      "\n",
      "           0       0.70      0.74      0.72        19\n",
      "           1       0.67      0.70      0.69        44\n",
      "           2       0.76      0.76      0.76        21\n",
      "           3       0.74      0.70      0.72        46\n",
      "\n",
      "    accuracy                           0.72       130\n",
      "   macro avg       0.72      0.72      0.72       130\n",
      "weighted avg       0.72      0.72      0.72       130\n",
      "\n",
      "Confusion_Matrix:\n"
     ]
    },
    {
     "data": {
      "image/png": "[encoded data removed]",
      "text/plain": [
       "<Figure size 640x480 with 2 Axes>"
      ]
     },
     "metadata": {},
     "output_type": "display_data"
    }
   ],
   "source": [
    "from sklearn.naive_bayes import GaussianNB\n",
    "gnb = train_evaluate(GaussianNB(), x_selected, y_clustered)"
   ]
  },
  {
   "cell_type": "code",
   "execution_count": 99,
   "metadata": {},
   "outputs": [
    {
     "name": "stdout",
     "output_type": "stream",
     "text": [
      "Classification Report:\n",
      "              precision    recall  f1-score   support\n",
      "\n",
      "           0       0.57      0.63      0.60        19\n",
      "           1       0.68      0.68      0.68        44\n",
      "           2       0.75      0.71      0.73        21\n",
      "           3       0.69      0.67      0.68        46\n",
      "\n",
      "    accuracy                           0.68       130\n",
      "   macro avg       0.67      0.68      0.67       130\n",
      "weighted avg       0.68      0.68      0.68       130\n",
      "\n",
      "Confusion_Matrix:\n"
     ]
    },
    {
     "data": {
      "image/png": "[encoded data removed]",
      "text/plain": [
       "<Figure size 640x480 with 2 Axes>"
      ]
     },
     "metadata": {},
     "output_type": "display_data"
    }
   ],
   "source": [
    "from sklearn.naive_bayes import BernoulliNB\n",
    "mnb = train_evaluate(BernoulliNB(), x_selected, y_clustered)"
   ]
  },
  {
   "attachments": {},
   "cell_type": "markdown",
   "metadata": {},
   "source": [
    "### Combining Classifiers"
   ]
  },
  {
   "cell_type": "code",
   "execution_count": 100,
   "metadata": {},
   "outputs": [
    {
     "name": "stdout",
     "output_type": "stream",
     "text": [
      "Classification Report:\n",
      "              precision    recall  f1-score   support\n",
      "\n",
      "           0       0.70      0.74      0.72        19\n",
      "           1       0.70      0.73      0.71        44\n",
      "           2       0.78      0.67      0.72        21\n",
      "           3       0.74      0.74      0.74        46\n",
      "\n",
      "    accuracy                           0.72       130\n",
      "   macro avg       0.73      0.72      0.72       130\n",
      "weighted avg       0.72      0.72      0.72       130\n",
      "\n",
      "Confusion_Matrix:\n"
     ]
    },
    {
     "data": {
      "text/html": [
       "<style>#sk-container-id-10 {color: black;background-color: white;}#sk-container-id-10 pre{padding: 0;}#sk-container-id-10 div.sk-toggleable {background-color: white;}#sk-container-id-10 label.sk-toggleable__label {cursor: pointer;display: block;width: 100%;margin-bottom: 0;padding: 0.3em;box-sizing: border-box;text-align: center;}#sk-container-id-10 label.sk-toggleable__label-arrow:before {content: \"▸\";float: left;margin-right: 0.25em;color: #696969;}#sk-container-id-10 label.sk-toggleable__label-arrow:hover:before {color: black;}#sk-container-id-10 div.sk-estimator:hover label.sk-toggleable__label-arrow:before {color: black;}#sk-container-id-10 div.sk-toggleable__content {max-height: 0;max-width: 0;overflow: hidden;text-align: left;background-color: #f0f8ff;}#sk-container-id-10 div.sk-toggleable__content pre {margin: 0.2em;color: black;border-radius: 0.25em;background-color: #f0f8ff;}#sk-container-id-10 input.sk-toggleable__control:checked~div.sk-toggleable__content {max-height: 200px;max-width: 100%;overflow: auto;}#sk-container-id-10 input.sk-toggleable__control:checked~label.sk-toggleable__label-arrow:before {content: \"▾\";}#sk-container-id-10 div.sk-estimator input.sk-toggleable__control:checked~label.sk-toggleable__label {background-color: #d4ebff;}#sk-container-id-10 div.sk-label input.sk-toggleable__control:checked~label.sk-toggleable__label {background-color: #d4ebff;}#sk-container-id-10 input.sk-hidden--visually {border: 0;clip: rect(1px 1px 1px 1px);clip: rect(1px, 1px, 1px, 1px);height: 1px;margin: -1px;overflow: hidden;padding: 0;position: absolute;width: 1px;}#sk-container-id-10 div.sk-estimator {font-family: monospace;background-color: #f0f8ff;border: 1px dotted black;border-radius: 0.25em;box-sizing: border-box;margin-bottom: 0.5em;}#sk-container-id-10 div.sk-estimator:hover {background-color: #d4ebff;}#sk-container-id-10 div.sk-parallel-item::after {content: \"\";width: 100%;border-bottom: 1px solid gray;flex-grow: 1;}#sk-container-id-10 div.sk-label:hover label.sk-toggleable__label {background-color: #d4ebff;}#sk-container-id-10 div.sk-serial::before {content: \"\";position: absolute;border-left: 1px solid gray;box-sizing: border-box;top: 0;bottom: 0;left: 50%;z-index: 0;}#sk-container-id-10 div.sk-serial {display: flex;flex-direction: column;align-items: center;background-color: white;padding-right: 0.2em;padding-left: 0.2em;position: relative;}#sk-container-id-10 div.sk-item {position: relative;z-index: 1;}#sk-container-id-10 div.sk-parallel {display: flex;align-items: stretch;justify-content: center;background-color: white;position: relative;}#sk-container-id-10 div.sk-item::before, #sk-container-id-10 div.sk-parallel-item::before {content: \"\";position: absolute;border-left: 1px solid gray;box-sizing: border-box;top: 0;bottom: 0;left: 50%;z-index: -1;}#sk-container-id-10 div.sk-parallel-item {display: flex;flex-direction: column;z-index: 1;position: relative;background-color: white;}#sk-container-id-10 div.sk-parallel-item:first-child::after {align-self: flex-end;width: 50%;}#sk-container-id-10 div.sk-parallel-item:last-child::after {align-self: flex-start;width: 50%;}#sk-container-id-10 div.sk-parallel-item:only-child::after {width: 0;}#sk-container-id-10 div.sk-dashed-wrapped {border: 1px dashed gray;margin: 0 0.4em 0.5em 0.4em;box-sizing: border-box;padding-bottom: 0.4em;background-color: white;}#sk-container-id-10 div.sk-label label {font-family: monospace;font-weight: bold;display: inline-block;line-height: 1.2em;}#sk-container-id-10 div.sk-label-container {text-align: center;}#sk-container-id-10 div.sk-container {/* jupyter's `normalize.less` sets `[hidden] { display: none; }` but bootstrap.min.css set `[hidden] { display: none !important; }` so we also need the `!important` here to be able to override the default hidden behavior on the sphinx rendered scikit-learn.org. See: https://github.com/scikit-learn/scikit-learn/issues/21755 */display: inline-block !important;position: relative;}#sk-container-id-10 div.sk-text-repr-fallback {display: none;}</style><div id=\"sk-container-id-10\" class=\"sk-top-container\"><div class=\"sk-text-repr-fallback\"><pre>StackingClassifier(estimators=[(&#x27;knn&#x27;,\n",
       "                                KNeighborsClassifier(n_neighbors=9,\n",
       "                                                     weights=&#x27;distance&#x27;)),\n",
       "                               (&#x27;gnb&#x27;, BernoulliNB())],\n",
       "                   final_estimator=KNeighborsClassifier(n_neighbors=9,\n",
       "                                                        weights=&#x27;distance&#x27;))</pre><b>In a Jupyter environment, please rerun this cell to show the HTML representation or trust the notebook. <br />On GitHub, the HTML representation is unable to render, please try loading this page with nbviewer.org.</b></div><div class=\"sk-container\" hidden><div class=\"sk-item sk-dashed-wrapped\"><div class=\"sk-label-container\"><div class=\"sk-label sk-toggleable\"><input class=\"sk-toggleable__control sk-hidden--visually\" id=\"sk-estimator-id-37\" type=\"checkbox\" ><label for=\"sk-estimator-id-37\" class=\"sk-toggleable__label sk-toggleable__label-arrow\">StackingClassifier</label><div class=\"sk-toggleable__content\"><pre>StackingClassifier(estimators=[(&#x27;knn&#x27;,\n",
       "                                KNeighborsClassifier(n_neighbors=9,\n",
       "                                                     weights=&#x27;distance&#x27;)),\n",
       "                               (&#x27;gnb&#x27;, BernoulliNB())],\n",
       "                   final_estimator=KNeighborsClassifier(n_neighbors=9,\n",
       "                                                        weights=&#x27;distance&#x27;))</pre></div></div></div><div class=\"sk-serial\"><div class=\"sk-item\"><div class=\"sk-parallel\"><div class=\"sk-parallel-item\"><div class=\"sk-item\"><div class=\"sk-label-container\"><div class=\"sk-label sk-toggleable\"><label>knn</label></div></div><div class=\"sk-serial\"><div class=\"sk-item\"><div class=\"sk-estimator sk-toggleable\"><input class=\"sk-toggleable__control sk-hidden--visually\" id=\"sk-estimator-id-38\" type=\"checkbox\" ><label for=\"sk-estimator-id-38\" class=\"sk-toggleable__label sk-toggleable__label-arrow\">KNeighborsClassifier</label><div class=\"sk-toggleable__content\"><pre>KNeighborsClassifier(n_neighbors=9, weights=&#x27;distance&#x27;)</pre></div></div></div></div></div></div><div class=\"sk-parallel-item\"><div class=\"sk-item\"><div class=\"sk-label-container\"><div class=\"sk-label sk-toggleable\"><label>gnb</label></div></div><div class=\"sk-serial\"><div class=\"sk-item\"><div class=\"sk-estimator sk-toggleable\"><input class=\"sk-toggleable__control sk-hidden--visually\" id=\"sk-estimator-id-39\" type=\"checkbox\" ><label for=\"sk-estimator-id-39\" class=\"sk-toggleable__label sk-toggleable__label-arrow\">BernoulliNB</label><div class=\"sk-toggleable__content\"><pre>BernoulliNB()</pre></div></div></div></div></div></div></div></div><div class=\"sk-item\"><div class=\"sk-parallel\"><div class=\"sk-parallel-item\"><div class=\"sk-item\"><div class=\"sk-label-container\"><div class=\"sk-label sk-toggleable\"><label>final_estimator</label></div></div><div class=\"sk-serial\"><div class=\"sk-item\"><div class=\"sk-estimator sk-toggleable\"><input class=\"sk-toggleable__control sk-hidden--visually\" id=\"sk-estimator-id-40\" type=\"checkbox\" ><label for=\"sk-estimator-id-40\" class=\"sk-toggleable__label sk-toggleable__label-arrow\">KNeighborsClassifier</label><div class=\"sk-toggleable__content\"><pre>KNeighborsClassifier(n_neighbors=9, weights=&#x27;distance&#x27;)</pre></div></div></div></div></div></div></div></div></div></div></div></div>"
      ],
      "text/plain": [
       "StackingClassifier(estimators=[('knn',\n",
       "                                KNeighborsClassifier(n_neighbors=9,\n",
       "                                                     weights='distance')),\n",
       "                               ('gnb', BernoulliNB())],\n",
       "                   final_estimator=KNeighborsClassifier(n_neighbors=9,\n",
       "                                                        weights='distance'))"
      ]
     },
     "execution_count": 100,
     "metadata": {},
     "output_type": "execute_result"
    },
    {
     "data": {
      "image/png": "[encoded data removed]",
      "text/plain": [
       "<Figure size 640x480 with 2 Axes>"
      ]
     },
     "metadata": {},
     "output_type": "display_data"
    }
   ],
   "source": [
    "from sklearn.ensemble import StackingClassifier\n",
    "\n",
    "s_knn = KNeighborsClassifier(n_neighbors=9, weights=\"distance\")\n",
    "s_gnb = GaussianNB()\n",
    "s_bnb = BernoulliNB()\n",
    "stacked = StackingClassifier(estimators=[('knn', s_knn), ('gnb', s_bnb)], final_estimator=s_knn)\n",
    "\n",
    "train_evaluate(stacked, x_selected, y_clustered)"
   ]
  }
 ],
 "metadata": {
  "kernelspec": {
   "display_name": "Python 3",
   "language": "python",
   "name": "python3"
  },
  "language_info": {
   "codemirror_mode": {
    "name": "ipython",
    "version": 3
   },
   "file_extension": ".py",
   "mimetype": "text/x-python",
   "name": "python",
   "nbconvert_exporter": "python",
   "pygments_lexer": "ipython3",
   "version": "3.11.3"
  },
  "orig_nbformat": 4
 },
 "nbformat": 4,
 "nbformat_minor": 2
}
